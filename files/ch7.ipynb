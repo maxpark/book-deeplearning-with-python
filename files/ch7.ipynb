{
 "cells": [
  {
   "cell_type": "markdown",
   "metadata": {},
   "source": [
    "## Numpy processing time"
   ]
  },
  {
   "cell_type": "code",
   "execution_count": 26,
   "metadata": {},
   "outputs": [],
   "source": [
    "import numpy as np\n",
    "import time\n",
    "from numpy.random import rand"
   ]
  },
  {
   "cell_type": "code",
   "execution_count": 27,
   "metadata": {},
   "outputs": [],
   "source": [
    "N = 150\n",
    "matA = np.array(rand(N,N))\n",
    "matB = np.array(rand(N,N))\n",
    "matC = np.array([[0]*N for _ in range(N)])\n"
   ]
  },
  {
   "cell_type": "code",
   "execution_count": 28,
   "metadata": {},
   "outputs": [
    {
     "name": "stdout",
     "output_type": "stream",
     "text": [
      "result: 2.746244[sec]\n"
     ]
    }
   ],
   "source": [
    "start = time.time()\n",
    "for i in range(N):\n",
    "    for j in range(N):\n",
    "        for k in range(N):\n",
    "            matC[i][j] = matA[i][k] * matB[k][j]\n",
    "print(\"result: %f[sec]\" % float(time.time()-start))"
   ]
  },
  {
   "cell_type": "code",
   "execution_count": 29,
   "metadata": {},
   "outputs": [
    {
     "name": "stdout",
     "output_type": "stream",
     "text": [
      "result: 0.000314[sec]\n"
     ]
    }
   ],
   "source": [
    "start2 = time.time()\n",
    "matC = np.dot(matA, matB)\n",
    "print(\"result: %f[sec]\" % float(time.time()-start2))"
   ]
  },
  {
   "cell_type": "markdown",
   "metadata": {},
   "source": [
    "## 1-Dimension array"
   ]
  },
  {
   "cell_type": "code",
   "execution_count": 32,
   "metadata": {},
   "outputs": [
    {
     "name": "stdout",
     "output_type": "stream",
     "text": [
      "[24, 3, 4, 23, 10, 12]\n",
      "<class 'numpy.ndarray'>\n"
     ]
    }
   ],
   "source": [
    "storages = [24, 3, 4, 23, 10, 12]\n",
    "print (storages)\n",
    "np_storages = np.array(storages)\n",
    "print(type(np_storages))"
   ]
  },
  {
   "cell_type": "code",
   "execution_count": 33,
   "metadata": {},
   "outputs": [
    {
     "name": "stdout",
     "output_type": "stream",
     "text": [
      "[2, 4, 6, 8]\n"
     ]
    }
   ],
   "source": [
    "storages = [1,2,3,4]\n",
    "new_storages = []\n",
    "for n in storages:\n",
    "    n += n\n",
    "    new_storages.append(n)\n",
    "print(new_storages)"
   ]
  },
  {
   "cell_type": "code",
   "execution_count": 38,
   "metadata": {},
   "outputs": [
    {
     "name": "stdout",
     "output_type": "stream",
     "text": [
      "[ 4 10  6  8 16]\n",
      "[0 0 0 0 0]\n",
      "[  8 125  27  64 512]\n",
      "[0.5        0.2        0.33333333 0.25       0.125     ]\n"
     ]
    }
   ],
   "source": [
    "import numpy as np\n",
    "arr = np.array([2,5,3,4,8])\n",
    "print(arr + arr)\n",
    "print(arr - arr)\n",
    "print(arr ** 3)\n",
    "print(1/arr)"
   ]
  },
  {
   "cell_type": "markdown",
   "metadata": {},
   "source": [
    "## Index reference and slice"
   ]
  },
  {
   "cell_type": "code",
   "execution_count": 42,
   "metadata": {},
   "outputs": [
    {
     "name": "stdout",
     "output_type": "stream",
     "text": [
      "[0 1 2 3 4 5 6 7 8 9]\n",
      "[1 1 1 3 4 5 6 7 8 9]\n"
     ]
    }
   ],
   "source": [
    "arr = np.arange(10)\n",
    "print(arr)\n",
    "arr[0:3] = 1\n",
    "print(arr)"
   ]
  },
  {
   "cell_type": "code",
   "execution_count": 45,
   "metadata": {},
   "outputs": [
    {
     "name": "stdout",
     "output_type": "stream",
     "text": [
      "[3 4 5]\n"
     ]
    }
   ],
   "source": [
    "arr = np.arange(10)\n",
    "print(arr[3:6])"
   ]
  },
  {
   "cell_type": "code",
   "execution_count": 46,
   "metadata": {},
   "outputs": [
    {
     "name": "stdout",
     "output_type": "stream",
     "text": [
      "[ 0  1  2 24 24 24  6  7  8  9]\n"
     ]
    }
   ],
   "source": [
    "arr[3:6] = 24\n",
    "print(arr)"
   ]
  },
  {
   "cell_type": "markdown",
   "metadata": {},
   "source": [
    "## copy"
   ]
  },
  {
   "cell_type": "code",
   "execution_count": 51,
   "metadata": {},
   "outputs": [
    {
     "name": "stdout",
     "output_type": "stream",
     "text": [
      "[1 2 3 4 5]\n",
      "[100   2   3   4   5]\n"
     ]
    }
   ],
   "source": [
    "arr1 = np.array([1,2,3,4,5])\n",
    "print(arr1)\n",
    "arr2 = arr1\n",
    "arr2[0] = 100\n",
    "print(arr1)"
   ]
  },
  {
   "cell_type": "code",
   "execution_count": 54,
   "metadata": {},
   "outputs": [
    {
     "name": "stdout",
     "output_type": "stream",
     "text": [
      "[100   2   3   4   5]\n",
      "[1 2 3 4 5]\n"
     ]
    }
   ],
   "source": [
    "arr1 = np.array([1,2,3,4,5])\n",
    "arr2 = arr1.copy()\n",
    "arr2[0] = 100\n",
    "print(arr2)\n",
    "print(arr1)"
   ]
  },
  {
   "cell_type": "markdown",
   "metadata": {},
   "source": [
    "## view , copy"
   ]
  },
  {
   "cell_type": "code",
   "execution_count": 62,
   "metadata": {},
   "outputs": [],
   "source": [
    "#1. list"
   ]
  },
  {
   "cell_type": "code",
   "execution_count": 63,
   "metadata": {},
   "outputs": [
    {
     "name": "stdout",
     "output_type": "stream",
     "text": [
      "arr_list:  [0, 1, 2, 3, 4, 5, 6, 7, 8, 9]\n"
     ]
    }
   ],
   "source": [
    "arr_list = [x for x in range(10)]\n",
    "print(\"arr_list: \", arr_list)"
   ]
  },
  {
   "cell_type": "code",
   "execution_count": 64,
   "metadata": {},
   "outputs": [
    {
     "name": "stdout",
     "output_type": "stream",
     "text": [
      "arr_list:  [0, 1, 2, 3, 4, 5, 6, 7, 8, 9]\n",
      "arr_list:  [100, 1, 2, 3, 4, 5, 6, 7, 8, 9]\n"
     ]
    }
   ],
   "source": [
    "arr_list_copy = arr_list[:]\n",
    "arr_list_copy[0] = 100\n",
    "print(\"arr_list: \", arr_list)\n",
    "print(\"arr_list: \", arr_list_copy)"
   ]
  },
  {
   "cell_type": "code",
   "execution_count": 71,
   "metadata": {},
   "outputs": [],
   "source": [
    "#2. ndarray"
   ]
  },
  {
   "cell_type": "code",
   "execution_count": 72,
   "metadata": {},
   "outputs": [
    {
     "name": "stdout",
     "output_type": "stream",
     "text": [
      "arr_NumPy:  [0 1 2 3 4 5 6 7 8 9]\n"
     ]
    }
   ],
   "source": [
    "arr_NumPy = np.arange(10)\n",
    "print(\"arr_NumPy: \", arr_NumPy)"
   ]
  },
  {
   "cell_type": "code",
   "execution_count": 73,
   "metadata": {},
   "outputs": [
    {
     "name": "stdout",
     "output_type": "stream",
     "text": [
      "arr_NumPy:  [100   1   2   3   4   5   6   7   8   9]\n"
     ]
    }
   ],
   "source": [
    "arr_NumPy_view = arr_NumPy[:]\n",
    "arr_NumPy_view[0] = 100\n",
    "print(\"arr_NumPy: \", arr_NumPy)"
   ]
  },
  {
   "cell_type": "code",
   "execution_count": 74,
   "metadata": {},
   "outputs": [
    {
     "name": "stdout",
     "output_type": "stream",
     "text": [
      "arr_NumPy:  [100   1   2   3   4   5   6   7   8   9]\n"
     ]
    }
   ],
   "source": [
    "arr_NumPy = np.arange(10)\n",
    "arr_NumPy_view = arr_NumPy[:]\n",
    "arr_NumPy_view[0] = 100\n",
    "print(\"arr_NumPy: \", arr_NumPy)"
   ]
  },
  {
   "cell_type": "code",
   "execution_count": null,
   "metadata": {},
   "outputs": [],
   "source": []
  }
 ],
 "metadata": {
  "kernelspec": {
   "display_name": "Python 3",
   "language": "python",
   "name": "python3"
  },
  "language_info": {
   "codemirror_mode": {
    "name": "ipython",
    "version": 3
   },
   "file_extension": ".py",
   "mimetype": "text/x-python",
   "name": "python",
   "nbconvert_exporter": "python",
   "pygments_lexer": "ipython3",
   "version": "3.7.6"
  }
 },
 "nbformat": 4,
 "nbformat_minor": 4
}
