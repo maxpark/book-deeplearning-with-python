{
 "cells": [
  {
   "cell_type": "markdown",
   "metadata": {},
   "source": [
    "## Chapter 5.  파이썬 기본 문법"
   ]
  },
  {
   "cell_type": "code",
   "execution_count": 131,
   "metadata": {},
   "outputs": [
    {
     "data": {
      "text/plain": [
       "list"
      ]
     },
     "execution_count": 131,
     "metadata": {},
     "output_type": "execute_result"
    }
   ],
   "source": [
    "c = [\"read\", \"blue\", \"yellow\"]\n",
    "type(c)"
   ]
  },
  {
   "cell_type": "code",
   "execution_count": 132,
   "metadata": {},
   "outputs": [
    {
     "name": "stdout",
     "output_type": "stream",
     "text": [
      "<class 'list'>\n"
     ]
    }
   ],
   "source": [
    "print (type(c))"
   ]
  },
  {
   "cell_type": "code",
   "execution_count": 133,
   "metadata": {},
   "outputs": [
    {
     "name": "stdout",
     "output_type": "stream",
     "text": [
      "['apple', 3, 'monkey']\n"
     ]
    }
   ],
   "source": [
    "n=3\n",
    "print ([\"apple\", n, \"monkey\"])"
   ]
  },
  {
   "cell_type": "code",
   "execution_count": 134,
   "metadata": {},
   "outputs": [
    {
     "name": "stdout",
     "output_type": "stream",
     "text": [
      "[4, 3, 6]\n"
     ]
    }
   ],
   "source": [
    "apple  = 4\n",
    "grape  = 3\n",
    "banana = 6\n",
    "\n",
    "fruits = [apple, grape, banana]\n",
    "print (fruits)"
   ]
  },
  {
   "cell_type": "code",
   "execution_count": 135,
   "metadata": {},
   "outputs": [
    {
     "name": "stdout",
     "output_type": "stream",
     "text": [
      "[['apple', 'pear'], ['pear', 'orange']]\n"
     ]
    }
   ],
   "source": [
    "f_1 = \"apple\"\n",
    "f_2 = \"pear\"\n",
    "f_3 = \"orange\"\n",
    "ff = [[f_1, f_2], [f_2, f_3]]\n",
    "print (ff)"
   ]
  },
  {
   "cell_type": "code",
   "execution_count": 136,
   "metadata": {},
   "outputs": [
    {
     "name": "stdout",
     "output_type": "stream",
     "text": [
      "2\n",
      "3\n"
     ]
    }
   ],
   "source": [
    "a = [1, 2, 3, 4]\n",
    "print (a[1])\n",
    "print (a[-2])"
   ]
  },
  {
   "cell_type": "code",
   "execution_count": 137,
   "metadata": {},
   "outputs": [
    {
     "name": "stdout",
     "output_type": "stream",
     "text": [
      "pear\n",
      "orange\n",
      "orange\n"
     ]
    }
   ],
   "source": [
    "fr = [f_1, f_2, f_3]\n",
    "print (fr[1])\n",
    "print (fr[-1])\n",
    "print (fr[2])"
   ]
  },
  {
   "cell_type": "code",
   "execution_count": 138,
   "metadata": {},
   "outputs": [
    {
     "name": "stdout",
     "output_type": "stream",
     "text": [
      "['b', 'c', 'd', 'e']\n",
      "['b', 'c']\n",
      "['a', 'b', 'c', 'd', 'e']\n",
      "['g', 'h']\n",
      "['a', 'b', 'c', 'd', 'e', 'f', 'g', 'h']\n",
      "d\n"
     ]
    }
   ],
   "source": [
    "alp = [\"a\",\"b\",\"c\",\"d\",\"e\",\"f\",\"g\",\"h\"]\n",
    "print (alp[1:5])\n",
    "print (alp[1:-5])\n",
    "print (alp[:5])\n",
    "print (alp[6:])\n",
    "print (alp[0:25])\n",
    "print (alp[-5])"
   ]
  },
  {
   "cell_type": "code",
   "execution_count": 139,
   "metadata": {},
   "outputs": [
    {
     "name": "stdout",
     "output_type": "stream",
     "text": [
      "['z', 'b', 'c', 'd', 'e', 'f', 'g', 'h']\n"
     ]
    }
   ],
   "source": [
    "alp[0] = \"z\"\n",
    "print (alp)"
   ]
  },
  {
   "cell_type": "markdown",
   "metadata": {},
   "source": [
    "### List Append"
   ]
  },
  {
   "cell_type": "code",
   "execution_count": 140,
   "metadata": {},
   "outputs": [
    {
     "name": "stdout",
     "output_type": "stream",
     "text": [
      "['z', 'b', 'c', 'd', 'e', 'f', 'g', 'h', 'x']\n",
      "['z', 'b', 'c', 'd', 'e', 'f', 'g', 'h', 'x', 'x']\n"
     ]
    }
   ],
   "source": [
    "alp = alp + [\"x\"]\n",
    "print(alp)\n",
    "alp.append(\"x\")\n",
    "print(alp)"
   ]
  },
  {
   "cell_type": "markdown",
   "metadata": {},
   "source": [
    "### List Delete"
   ]
  },
  {
   "cell_type": "code",
   "execution_count": 141,
   "metadata": {},
   "outputs": [
    {
     "name": "stdout",
     "output_type": "stream",
     "text": [
      "['z', 'b', 'c']\n",
      "['b', 'c']\n"
     ]
    }
   ],
   "source": [
    "del alp[3:]\n",
    "print(alp)\n",
    "del alp[0]\n",
    "print(alp)"
   ]
  },
  {
   "cell_type": "markdown",
   "metadata": {},
   "source": [
    "### List value 복사(대입)시 주의점"
   ]
  },
  {
   "cell_type": "code",
   "execution_count": 142,
   "metadata": {},
   "outputs": [
    {
     "name": "stdout",
     "output_type": "stream",
     "text": [
      "['K', 'b', 'c', 'd', 'e', 'f', 'g', 'h']\n"
     ]
    }
   ],
   "source": [
    "alp = [\"a\",\"b\",\"c\",\"d\",\"e\",\"f\",\"g\",\"h\"]\n",
    "ap = alp\n",
    "ap[0] = \"K\"\n",
    "print (alp)\n"
   ]
  },
  {
   "cell_type": "code",
   "execution_count": 1,
   "metadata": {},
   "outputs": [
    {
     "name": "stdout",
     "output_type": "stream",
     "text": [
      "['a', 'b', 'c', 'd', 'e', 'f', 'g', 'h']\n"
     ]
    }
   ],
   "source": [
    "alp = [\"a\",\"b\",\"c\",\"d\",\"e\",\"f\",\"g\",\"h\"]\n",
    "#ap = alp[:]\n",
    "ap = list(alp)\n",
    "ap[0] = \"K\"\n",
    "print (alp)"
   ]
  },
  {
   "cell_type": "markdown",
   "metadata": {},
   "source": [
    "### Dictionary"
   ]
  },
  {
   "cell_type": "code",
   "execution_count": 144,
   "metadata": {},
   "outputs": [
    {
     "name": "stdout",
     "output_type": "stream",
     "text": [
      "{'Japan': 'Tockyo', 'Korea': 'Seoul'}\n",
      "<class 'dict'>\n",
      "Seoul\n",
      "capital of Jappan is Tockyo~~~\n"
     ]
    }
   ],
   "source": [
    "dic = {\"Japan\":\"Tockyo\", \"Korea\":\"Seoul\"}\n",
    "print(dic)\n",
    "print (type(dic))\n",
    "print (dic[\"Korea\"])\n",
    "print(\"capital of Jappan is \" + dic[\"Japan\"] + \"~~~\")"
   ]
  },
  {
   "cell_type": "code",
   "execution_count": 145,
   "metadata": {},
   "outputs": [
    {
     "name": "stdout",
     "output_type": "stream",
     "text": [
      "{'Japan': 'osaka', 'Korea': 'Seoul', 'China': 'Beijin'}\n"
     ]
    }
   ],
   "source": [
    "dic[\"Japan\"] = \"osaka\"\n",
    "dic[\"China\"] = \"Beijin\"\n",
    "print (dic)"
   ]
  },
  {
   "cell_type": "code",
   "execution_count": 146,
   "metadata": {},
   "outputs": [
    {
     "name": "stdout",
     "output_type": "stream",
     "text": [
      "{'cc': 'ccc'}\n"
     ]
    }
   ],
   "source": [
    "dic2 = {\"aa\":\"aaa\", \"bb\":\"bbb\"}\n",
    "dic2[\"aa\"] = \"aaaa\"\n",
    "dic2 = {\"cc\":\"ccc\"}\n",
    "print(dic2)"
   ]
  },
  {
   "cell_type": "code",
   "execution_count": 147,
   "metadata": {},
   "outputs": [
    {
     "name": "stdout",
     "output_type": "stream",
     "text": [
      "{'cc': 'ccc'}\n"
     ]
    }
   ],
   "source": [
    "print(dic2)"
   ]
  },
  {
   "cell_type": "code",
   "execution_count": 148,
   "metadata": {},
   "outputs": [
    {
     "name": "stdout",
     "output_type": "stream",
     "text": [
      "{'Japan': 'aa', 'Korea': 'Seoul'}\n"
     ]
    }
   ],
   "source": [
    "dic3 = {\"Japan\":\"Tockyo\", \"Korea\":\"Seoul\"}\n",
    "dic3[\"Japan\"] = \"aa\"\n",
    "print(dic3)"
   ]
  },
  {
   "cell_type": "code",
   "execution_count": 149,
   "metadata": {},
   "outputs": [
    {
     "name": "stdout",
     "output_type": "stream",
     "text": [
      "{'Japan': 'aa', 'Korea': 'Seoul', 'China': 'Beijin'}\n"
     ]
    }
   ],
   "source": [
    "dic3[\"China\"] = \"Beijin\"\n",
    "print (dic3)"
   ]
  },
  {
   "cell_type": "code",
   "execution_count": 150,
   "metadata": {},
   "outputs": [
    {
     "name": "stdout",
     "output_type": "stream",
     "text": [
      "{'Japan': 'aa', 'China': 'Beijin'}\n"
     ]
    }
   ],
   "source": [
    "del dic3[\"Korea\"]\n",
    "print (dic3)"
   ]
  },
  {
   "cell_type": "markdown",
   "metadata": {},
   "source": [
    "### While Loop"
   ]
  },
  {
   "cell_type": "code",
   "execution_count": 151,
   "metadata": {},
   "outputs": [
    {
     "name": "stdout",
     "output_type": "stream",
     "text": [
      "2\n",
      "1\n"
     ]
    }
   ],
   "source": [
    "n = 2\n",
    "while n>0:\n",
    "    print(n)\n",
    "    n -= 1"
   ]
  },
  {
   "cell_type": "code",
   "execution_count": 152,
   "metadata": {},
   "outputs": [
    {
     "name": "stdout",
     "output_type": "stream",
     "text": [
      "4\n",
      "3\n",
      "2\n",
      "1\n",
      "0\n"
     ]
    }
   ],
   "source": [
    "x=5\n",
    "while x!=0:\n",
    "    x -= 1\n",
    "    print(x)\n"
   ]
  },
  {
   "cell_type": "code",
   "execution_count": 153,
   "metadata": {},
   "outputs": [
    {
     "name": "stdout",
     "output_type": "stream",
     "text": [
      "4\n",
      "3\n",
      "2\n",
      "1\n",
      "Bang\n"
     ]
    }
   ],
   "source": [
    "x=5\n",
    "while x!=0:\n",
    "    x -= 1\n",
    "    if x!=0:\n",
    "        print(x)\n",
    "    else:\n",
    "        print(\"Bang\")"
   ]
  },
  {
   "cell_type": "markdown",
   "metadata": {},
   "source": [
    "### For loop"
   ]
  },
  {
   "cell_type": "code",
   "execution_count": 154,
   "metadata": {},
   "outputs": [
    {
     "name": "stdout",
     "output_type": "stream",
     "text": [
      "tiger\n",
      "doc\n",
      "elephant\n"
     ]
    }
   ],
   "source": [
    "animals = [\"tiger\", \"doc\", \"elephant\"]\n",
    "for ani in animals:\n",
    "    print (ani)"
   ]
  },
  {
   "cell_type": "markdown",
   "metadata": {},
   "source": [
    "### Break"
   ]
  },
  {
   "cell_type": "code",
   "execution_count": 155,
   "metadata": {},
   "outputs": [
    {
     "name": "stdout",
     "output_type": "stream",
     "text": [
      "1\n",
      "2\n",
      "3\n",
      "4\n",
      "5\n",
      "end\n"
     ]
    }
   ],
   "source": [
    "storages = [1, 2, 3, 4, 5, 6, 7, 8, 9, 10]\n",
    "for n in storages:\n",
    "    print (n)\n",
    "    if n>=5:\n",
    "        print(\"end\")\n",
    "        break"
   ]
  },
  {
   "cell_type": "markdown",
   "metadata": {},
   "source": [
    "### Continue"
   ]
  },
  {
   "cell_type": "code",
   "execution_count": 156,
   "metadata": {},
   "outputs": [
    {
     "name": "stdout",
     "output_type": "stream",
     "text": [
      "1\n",
      "2\n",
      "3\n",
      "4\n",
      "6\n",
      "7\n",
      "8\n",
      "9\n",
      "10\n"
     ]
    }
   ],
   "source": [
    "storages = [1, 2, 3, 4, 5, 6, 7, 8, 9, 10]\n",
    "for n in storages:\n",
    "    if n==5:\n",
    "        continue\n",
    "    print (n)\n"
   ]
  },
  {
   "cell_type": "code",
   "execution_count": 157,
   "metadata": {},
   "outputs": [
    {
     "name": "stdout",
     "output_type": "stream",
     "text": [
      "0 a\n",
      "1 b\n"
     ]
    }
   ],
   "source": [
    "list = [\"a\", \"b\"]\n",
    "for idx, value in enumerate(list):\n",
    "    print (idx, value)"
   ]
  },
  {
   "cell_type": "code",
   "execution_count": 158,
   "metadata": {},
   "outputs": [
    {
     "name": "stdout",
     "output_type": "stream",
     "text": [
      "0 tiger\n",
      "1 doc\n",
      "2 elephant\n"
     ]
    }
   ],
   "source": [
    "animals = [\"tiger\", \"doc\", \"elephant\"]\n",
    "for ani, value in enumerate(animals):\n",
    "    print (ani, value)"
   ]
  },
  {
   "cell_type": "code",
   "execution_count": 159,
   "metadata": {},
   "outputs": [
    {
     "name": "stdout",
     "output_type": "stream",
     "text": [
      "[[1, 2, 3], [4, 5, 6], [7, 8, 9]]\n",
      "1 2 3\n",
      "4 5 6\n",
      "7 8 9\n"
     ]
    }
   ],
   "source": [
    "ll = [[1,2,3],[4,5,6],[7,8,9]]\n",
    "print (ll)\n",
    "for a,b,c in ll:\n",
    "    print(a,b,c)"
   ]
  },
  {
   "cell_type": "markdown",
   "metadata": {},
   "source": [
    "### List loop in List"
   ]
  },
  {
   "cell_type": "code",
   "execution_count": 160,
   "metadata": {},
   "outputs": [
    {
     "name": "stdout",
     "output_type": "stream",
     "text": [
      "[[1, 2], [4, 5], [7, 8]]\n",
      "1 is 2\n",
      "4 is 5\n",
      "7 is 8\n"
     ]
    }
   ],
   "source": [
    "ll = [[1,2],[4,5],[7,8]]\n",
    "print (ll)\n",
    "for a,b in ll:\n",
    "    print(str(a) + \" is \" + str(b))"
   ]
  },
  {
   "cell_type": "markdown",
   "metadata": {},
   "source": [
    "### Dictionary loop"
   ]
  },
  {
   "cell_type": "code",
   "execution_count": 161,
   "metadata": {},
   "outputs": [
    {
     "name": "stdout",
     "output_type": "stream",
     "text": [
      "1 is one\n",
      "2 is two\n",
      "3 is tree\n"
     ]
    }
   ],
   "source": [
    "fr = {\"1\":\"one\", \"2\":\"two\", \"3\":\"tree\"}\n",
    "for num, eng in fr.items():\n",
    "    print(num + \" is \" + eng)"
   ]
  },
  {
   "cell_type": "code",
   "execution_count": 162,
   "metadata": {},
   "outputs": [
    {
     "name": "stdout",
     "output_type": "stream",
     "text": [
      "one\n",
      "one은 한개에 100원이며, 2개\n",
      "two\n",
      "two은 한개에 200원이며, 3개\n",
      "tree\n",
      "tree은 한개에 400원이며, 5개\n",
      "total is 2800\n",
      "minus : 1800\n",
      "100 2\n"
     ]
    }
   ],
   "source": [
    "it = {\"one\":[100, 2], \"two\":[200,3], \"tree\":[400,5]}\n",
    "total_price = 0\n",
    "for product in it:\n",
    "    print (product)\n",
    "    print(product + \"은 한개에 \"+ str(it[product][0]) + \"원이며, \"+ str(it[product][1]) + \"개\")\n",
    "    total_price  += it[product][0] * it[product][1]\n",
    "print(\"total is \" + str(total_price))\n",
    "\n",
    "money = 1000\n",
    "if money>total_price:\n",
    "    print(\"plus : \" + str(money-total_price) +\"~~\")\n",
    "elif money==total_price:\n",
    "    print(\"same\")\n",
    "else:\n",
    "    print(\"minus : \" + str(total_price-money))\n",
    "\n",
    "    \n",
    "print(it[\"one\"][0], it[\"one\"][1])"
   ]
  },
  {
   "cell_type": "code",
   "execution_count": null,
   "metadata": {},
   "outputs": [],
   "source": []
  }
 ],
 "metadata": {
  "kernelspec": {
   "display_name": "Python 3",
   "language": "python",
   "name": "python3"
  },
  "language_info": {
   "codemirror_mode": {
    "name": "ipython",
    "version": 3
   },
   "file_extension": ".py",
   "mimetype": "text/x-python",
   "name": "python",
   "nbconvert_exporter": "python",
   "pygments_lexer": "ipython3",
   "version": "3.7.6"
  }
 },
 "nbformat": 4,
 "nbformat_minor": 4
}
