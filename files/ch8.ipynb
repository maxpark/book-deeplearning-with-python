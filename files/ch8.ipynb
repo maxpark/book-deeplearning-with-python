{
 "cells": [
  {
   "cell_type": "markdown",
   "metadata": {},
   "source": [
    "# PANDAS 기초"
   ]
  },
  {
   "cell_type": "markdown",
   "metadata": {},
   "source": [
    "### Series, Dataframe"
   ]
  },
  {
   "cell_type": "code",
   "execution_count": 1,
   "metadata": {},
   "outputs": [],
   "source": [
    "import pandas as pd"
   ]
  },
  {
   "cell_type": "code",
   "execution_count": 2,
   "metadata": {},
   "outputs": [
    {
     "name": "stdout",
     "output_type": "stream",
     "text": [
      "orange    2\n",
      "banana    3\n",
      "dtype: int64\n"
     ]
    }
   ],
   "source": [
    "fruits = {\"orange\":2, \"banana\":3}\n",
    "print(pd.Series(fruits))"
   ]
  },
  {
   "cell_type": "code",
   "execution_count": 5,
   "metadata": {},
   "outputs": [
    {
     "name": "stdout",
     "output_type": "stream",
     "text": [
      "       fruits  year  time\n",
      "0       apple  2001     1\n",
      "1      orange  2002     4\n",
      "2      banana  2001     5\n",
      "3  strawberry  2008     6\n",
      "4   kiwifruit  2006     3\n",
      "fruits    [apple, orange, banana, strawberry, kiwifruit]\n",
      "year                      [2001, 2002, 2001, 2008, 2006]\n",
      "time                                     [1, 4, 5, 6, 3]\n",
      "dtype: object\n"
     ]
    }
   ],
   "source": [
    "data = {\"fruits\":[\"apple\",\"orange\",\"banana\",\"strawberry\",\"kiwifruit\"], \"year\":[2001,2002,2001,2008,2006],\"time\":[1,4,5,6,3]}\n",
    "df = pd.DataFrame(data)\n",
    "print(df)\n",
    "print(pd.Series(data))"
   ]
  },
  {
   "cell_type": "code",
   "execution_count": 8,
   "metadata": {},
   "outputs": [],
   "source": [
    "index = [\"apple\",\"orange\",\"banana\",\"strawberry\",\"kiwifruit\"]\n",
    "data = [10,5,8,12,3]\n",
    "series = pd.Series(data, index=index)"
   ]
  },
  {
   "cell_type": "code",
   "execution_count": 9,
   "metadata": {},
   "outputs": [
    {
     "name": "stdout",
     "output_type": "stream",
     "text": [
      "Series Data\n",
      "apple         10\n",
      "orange         5\n",
      "banana         8\n",
      "strawberry    12\n",
      "kiwifruit      3\n",
      "dtype: int64\n",
      "\n",
      "\n",
      "DataFrame Data\n",
      "       fruits  year  time\n",
      "0       apple  2001     1\n",
      "1      orange  2002     4\n",
      "2      banana  2001     5\n",
      "3  strawberry  2008     6\n",
      "4   kiwifruit  2006     3\n"
     ]
    }
   ],
   "source": [
    "data = {\"fruits\":[\"apple\",\"orange\",\"banana\",\"strawberry\",\"kiwifruit\"], \"year\":[2001,2002,2001,2008,2006],\"time\":[1,4,5,6,3]}\n",
    "df = pd.DataFrame(data)\n",
    "print(\"Series Data\")\n",
    "print(series)\n",
    "print(\"\\n\")\n",
    "print(\"DataFrame Data\")\n",
    "print(df)\n"
   ]
  },
  {
   "cell_type": "code",
   "execution_count": 10,
   "metadata": {},
   "outputs": [
    {
     "name": "stdout",
     "output_type": "stream",
     "text": [
      "banana    3\n",
      "orange    2\n",
      "dtype: int64\n"
     ]
    }
   ],
   "source": [
    "fruits = {\"banana\":3, \"orange\":2}\n",
    "print(pd.Series(fruits))"
   ]
  },
  {
   "cell_type": "code",
   "execution_count": 16,
   "metadata": {},
   "outputs": [
    {
     "name": "stdout",
     "output_type": "stream",
     "text": [
      "apple         10\n",
      "orange         5\n",
      "banana         8\n",
      "strawberry    12\n",
      "kiwifruit      3\n",
      "dtype: int64\n"
     ]
    }
   ],
   "source": [
    "index = [\"apple\",\"orange\",\"banana\",\"strawberry\",\"kiwifruit\"]\n",
    "data = [10,5,8,12,3]\n",
    "print(series)"
   ]
  },
  {
   "cell_type": "code",
   "execution_count": 18,
   "metadata": {},
   "outputs": [
    {
     "name": "stdout",
     "output_type": "stream",
     "text": [
      "apple         10\n",
      "orange         5\n",
      "banana         8\n",
      "strawberry    12\n",
      "kiwifruit      3\n",
      "dtype: int64\n"
     ]
    }
   ],
   "source": [
    "series = pd.Series(data, index=index)\n",
    "print(series)"
   ]
  },
  {
   "cell_type": "markdown",
   "metadata": {},
   "source": [
    "## 참조"
   ]
  },
  {
   "cell_type": "code",
   "execution_count": 23,
   "metadata": {},
   "outputs": [
    {
     "name": "stdout",
     "output_type": "stream",
     "text": [
      "banana    3\n",
      "orange    4\n",
      "dtype: int64\n"
     ]
    }
   ],
   "source": [
    "fruits = {\"banana\":3, \"orange\":4, \"grape\":1, \"peach\":5}\n",
    "series = pd.Series(fruits)\n",
    "print(series[0:2])"
   ]
  },
  {
   "cell_type": "code",
   "execution_count": 24,
   "metadata": {},
   "outputs": [
    {
     "name": "stdout",
     "output_type": "stream",
     "text": [
      "orange    4\n",
      "peach     5\n",
      "dtype: int64\n"
     ]
    }
   ],
   "source": [
    "print(series[[\"orange\", \"peach\"]])"
   ]
  },
  {
   "cell_type": "code",
   "execution_count": 29,
   "metadata": {},
   "outputs": [
    {
     "name": "stdout",
     "output_type": "stream",
     "text": [
      "orange         5\n",
      "banana         8\n",
      "strawberry    12\n",
      "dtype: int64\n",
      "\n",
      "apple        10\n",
      "banana        8\n",
      "kiwifruit     3\n",
      "dtype: int64\n"
     ]
    }
   ],
   "source": [
    "index = [\"apple\",\"orange\",\"banana\",\"strawberry\",\"kiwifruit\"]\n",
    "data = [10,5,8,12,3]\n",
    "series = pd.Series(data, index=index)\n",
    "items1 = series[1:4]\n",
    "print(items1)\n",
    "print()\n",
    "items2 = series[[\"apple\", \"banana\", \"kiwifruit\"]]\n",
    "print(items2)\n"
   ]
  },
  {
   "cell_type": "markdown",
   "metadata": {},
   "source": [
    "### 데이터와 인덱스 추출"
   ]
  },
  {
   "cell_type": "code",
   "execution_count": 30,
   "metadata": {},
   "outputs": [
    {
     "name": "stdout",
     "output_type": "stream",
     "text": [
      "[10  5  8 12  3]\n",
      "Index(['apple', 'orange', 'banana', 'strawberry', 'kiwifruit'], dtype='object')\n"
     ]
    }
   ],
   "source": [
    "index = [\"apple\",\"orange\",\"banana\",\"strawberry\",\"kiwifruit\"]\n",
    "data = [10,5,8,12,3]\n",
    "series = pd.Series(data, index=index)\n",
    "series_values = series.values\n",
    "series_index = series.index\n",
    "print(series_values)\n",
    "print(series_index)\n"
   ]
  },
  {
   "cell_type": "markdown",
   "metadata": {},
   "source": [
    "### 요소 추가"
   ]
  },
  {
   "cell_type": "code",
   "execution_count": 5,
   "metadata": {},
   "outputs": [],
   "source": [
    "import pandas as pd\n",
    "fruits = {\"banana\" : 3, \"orange\": 2}\n",
    "series = pd.Series(fruits)\n",
    "series = series.append(pd.Series([3], index=[\"grape\"]))\n"
   ]
  },
  {
   "cell_type": "code",
   "execution_count": 8,
   "metadata": {},
   "outputs": [
    {
     "name": "stdout",
     "output_type": "stream",
     "text": [
      "apple         10\n",
      "orange         5\n",
      "banana         8\n",
      "strawberry    12\n",
      "kiwifruit      3\n",
      "pineapple     12\n",
      "dtype: int64\n",
      "apple        10\n",
      "orange        5\n",
      "banana        8\n",
      "kiwifruit     3\n",
      "pineapple    12\n",
      "dtype: int64\n"
     ]
    }
   ],
   "source": [
    "index = [\"apple\",\"orange\",\"banana\",\"strawberry\",\"kiwifruit\"]\n",
    "data = [10,5,8,12,3]\n",
    "series = pd.Series(data, index=index)\n",
    "pineapple = pd.Series([12], index=[\"pineapple\"])\n",
    "series = series.append(pineapple)\n",
    "print(series)\n",
    "series = series.drop(\"strawberry\")\n",
    "print(series)"
   ]
  },
  {
   "cell_type": "markdown",
   "metadata": {},
   "source": [
    "## 필터링"
   ]
  },
  {
   "cell_type": "code",
   "execution_count": 11,
   "metadata": {},
   "outputs": [
    {
     "name": "stdout",
     "output_type": "stream",
     "text": [
      "apple     10\n",
      "orange     5\n",
      "dtype: int64\n",
      "apple         10\n",
      "banana         8\n",
      "strawberry    12\n",
      "dtype: int64\n",
      "orange    5\n",
      "banana    8\n",
      "dtype: int64\n"
     ]
    }
   ],
   "source": [
    "index = [\"apple\",\"orange\",\"banana\",\"strawberry\",\"kiwifruit\"]\n",
    "data = [10,5,8,12,3]\n",
    "series = pd.Series(data, index=index)\n",
    "\n",
    "conditions = [True, True, False, False, False]\n",
    "print(series[conditions])\n",
    "print(series[series >5])\n",
    "print(series[series >=5][series<10])"
   ]
  },
  {
   "cell_type": "markdown",
   "metadata": {},
   "source": [
    "## 정렬"
   ]
  },
  {
   "cell_type": "code",
   "execution_count": 13,
   "metadata": {},
   "outputs": [
    {
     "name": "stdout",
     "output_type": "stream",
     "text": [
      "apple         10\n",
      "banana         8\n",
      "kiwifruit      3\n",
      "orange         5\n",
      "strawberry    12\n",
      "dtype: int64\n",
      "\n",
      "kiwifruit      3\n",
      "orange         5\n",
      "banana         8\n",
      "apple         10\n",
      "strawberry    12\n",
      "dtype: int64\n"
     ]
    }
   ],
   "source": [
    "import pandas as pd\n",
    "\n",
    "index = [\"apple\",\"orange\",\"banana\",\"strawberry\",\"kiwifruit\"]\n",
    "data = [10,5,8,12,3]\n",
    "series = pd.Series(data, index=index)\n",
    "\n",
    "#\n",
    "items1 = series.sort_index()\n",
    "\n",
    "items2 = series.sort_values()\n",
    "\n",
    "\n",
    "print(items1)\n",
    "print()\n",
    "print(items2)"
   ]
  },
  {
   "cell_type": "markdown",
   "metadata": {},
   "source": [
    "## DataFrame"
   ]
  },
  {
   "cell_type": "code",
   "execution_count": 14,
   "metadata": {},
   "outputs": [
    {
     "name": "stdout",
     "output_type": "stream",
     "text": [
      "       fruits  year\n",
      "0       apple  2001\n",
      "1      orange  2002\n",
      "2      banana  2001\n",
      "3  strawberry  2008\n",
      "4   kiwifruit  2006\n"
     ]
    }
   ],
   "source": [
    "data = {\n",
    "    \"fruits\":[\"apple\",\"orange\",\"banana\",\"strawberry\",\"kiwifruit\"],\n",
    "    \"year\":[2001, 2002, 2001, 2008, 2006]\n",
    "       }\n",
    "df = pd.DataFrame(data)\n",
    "print(df)"
   ]
  },
  {
   "cell_type": "code",
   "execution_count": 16,
   "metadata": {},
   "outputs": [
    {
     "name": "stdout",
     "output_type": "stream",
     "text": [
      "   apple  orange  banana  strawberry  kiwifruit\n",
      "0     10       5       8          12          3\n",
      "1     30      25      12          10          8\n"
     ]
    }
   ],
   "source": [
    "import pandas as pd\n",
    "\n",
    "index = [\"apple\",\"orange\",\"banana\",\"strawberry\",\"kiwifruit\"]\n",
    "data1 = [10,5,8,12,3]\n",
    "data2 = [30, 25, 12, 10, 8]\n",
    "series1 = pd.Series(data1, index=index)\n",
    "series2 = pd.Series(data2, index=index)\n",
    "\n",
    "\n",
    "df = pd.DataFrame([series1, series2]) \n",
    "\n",
    "print(df)"
   ]
  },
  {
   "cell_type": "markdown",
   "metadata": {},
   "source": [
    "## 행 추가"
   ]
  },
  {
   "cell_type": "code",
   "execution_count": 17,
   "metadata": {},
   "outputs": [
    {
     "name": "stdout",
     "output_type": "stream",
     "text": [
      "       fruits  time    year\n",
      "0       apple     1     NaN\n",
      "1      orange     4     NaN\n",
      "2      banana     5     NaN\n",
      "3  strawberry     6     NaN\n",
      "4   kiwifruit     3     NaN\n",
      "5       mango     7  2008.0\n"
     ]
    }
   ],
   "source": [
    "data = {\n",
    "    \"fruits\":[\"apple\",\"orange\",\"banana\",\"strawberry\",\"kiwifruit\"],\n",
    "    \"time\":[1, 4, 5, 6, 3]\n",
    "       }\n",
    "df = pd.DataFrame(data)\n",
    "series = pd.Series([\"mango\",2008, 7], index=[\"fruits\", \"year\", \"time\"])\n",
    "df = df.append(series, ignore_index=True)\n",
    "print(df)"
   ]
  },
  {
   "cell_type": "code",
   "execution_count": 19,
   "metadata": {},
   "outputs": [
    {
     "name": "stdout",
     "output_type": "stream",
     "text": [
      "   apple  orange  banana  strawberry  kiwifruit  pineapple\n",
      "0     10       5       8          12          3        NaN\n",
      "1     30      25      12          10          8        NaN\n",
      "2     30      12      10           8         25        3.0\n"
     ]
    }
   ],
   "source": [
    "import pandas as pd\n",
    "\n",
    "index = [\"apple\",\"orange\",\"banana\",\"strawberry\",\"kiwifruit\"]\n",
    "data1 = [10,  5,  8, 12,  3]\n",
    "data2 = [30, 25, 12, 10,  8]\n",
    "data3 = [30, 12, 10,  8, 25, 3]\n",
    "series1 = pd.Series(data1, index=index)\n",
    "series2 = pd.Series(data2, index=index)\n",
    "\n",
    "#\n",
    "index.append(\"pineapple\")\n",
    "series3 = pd.Series(data3, index=index)\n",
    "df = pd.DataFrame([series1, series2])\n",
    "\n",
    "df = df.append(series3, ignore_index=True)\n",
    "print(df)"
   ]
  },
  {
   "cell_type": "markdown",
   "metadata": {},
   "source": [
    "### 열추가"
   ]
  },
  {
   "cell_type": "code",
   "execution_count": 20,
   "metadata": {},
   "outputs": [
    {
     "name": "stdout",
     "output_type": "stream",
     "text": [
      "       fruits  year  time  price\n",
      "0       apple  2001     1    150\n",
      "1      orange  2002     4    120\n",
      "2      banana  2001     5    100\n",
      "3  strawberry  2008     6    300\n",
      "4   kiwifruit  2006     3    150\n"
     ]
    }
   ],
   "source": [
    "data = {\n",
    "    \"fruits\":[\"apple\",\"orange\",\"banana\",\"strawberry\",\"kiwifruit\"],\n",
    "    \"year\":[2001, 2002, 2001, 2008, 2006],\n",
    "    \"time\":[1, 4, 5, 6, 3]\n",
    "       }\n",
    "df = pd.DataFrame(data)\n",
    "df[\"price\"] = [150, 120, 100, 300, 150]\n",
    "print(df)"
   ]
  },
  {
   "cell_type": "code",
   "execution_count": 22,
   "metadata": {},
   "outputs": [
    {
     "name": "stdout",
     "output_type": "stream",
     "text": [
      "   apple  orange  banana  strawberry  kiwifruit  mango\n",
      "0     10       5       8          12          3     15\n",
      "1     30      25      12          10          8      7\n"
     ]
    }
   ],
   "source": [
    "import pandas as pd\n",
    "\n",
    "index = [\"apple\",\"orange\",\"banana\",\"strawberry\",\"kiwifruit\"]\n",
    "data1 = [10,  5,  8, 12,  3]\n",
    "data2 = [30, 25, 12, 10,  8]\n",
    "series1 = pd.Series(data1, index=index)\n",
    "series2 = pd.Series(data2, index=index)\n",
    "\n",
    "new_column = pd.Series([15,7], index=[0, 1])\n",
    "#\n",
    "df = pd.DataFrame([series1, series2])\n",
    "\n",
    "df[\"mango\"] = new_column\n",
    "print(df)"
   ]
  },
  {
   "cell_type": "markdown",
   "metadata": {},
   "source": [
    "## 데이터 참조"
   ]
  },
  {
   "cell_type": "code",
   "execution_count": 23,
   "metadata": {},
   "outputs": [
    {
     "name": "stdout",
     "output_type": "stream",
     "text": [
      "       fruits  year  time\n",
      "0       apple  2001     1\n",
      "1      orange  2002     4\n",
      "2      banana  2001     5\n",
      "3  strawberry  2008     6\n",
      "4   kiwifruit  2006     3\n"
     ]
    }
   ],
   "source": [
    "data = {\n",
    "    \"fruits\":[\"apple\",\"orange\",\"banana\",\"strawberry\",\"kiwifruit\"],\n",
    "    \"year\":[2001, 2002, 2001, 2008, 2006],\n",
    "    \"time\":[1, 4, 5, 6, 3]\n",
    "       }\n",
    "df = pd.DataFrame(data)\n",
    "print(df)"
   ]
  },
  {
   "cell_type": "code",
   "execution_count": 24,
   "metadata": {},
   "outputs": [
    {
     "name": "stdout",
     "output_type": "stream",
     "text": [
      "   time  year\n",
      "1     4  2002\n",
      "2     5  2001\n"
     ]
    }
   ],
   "source": [
    "df = df.loc[[1,2],[\"time\", \"year\"]]\n",
    "print(df)"
   ]
  },
  {
   "cell_type": "code",
   "execution_count": 26,
   "metadata": {},
   "outputs": [
    {
     "name": "stdout",
     "output_type": "stream",
     "text": [
      "   banana  kiwifruit\n",
      "2      10         10\n",
      "3       9          1\n",
      "4      10          5\n",
      "5       5          8\n"
     ]
    }
   ],
   "source": [
    "import numpy as np\n",
    "import pandas as pd\n",
    "np.random.seed(0)\n",
    "columns = [\"apple\",\"orange\",\"banana\",\"strawberry\",\"kiwifruit\"]\n",
    "\n",
    "#\n",
    "df = pd.DataFrame()\n",
    "for column in columns:\n",
    "    df[column] = np.random.choice(range(1,11),10)\n",
    "\n",
    "#\n",
    "df.index = range(1, 11)\n",
    "\n",
    "df = df.loc[range(2,6), [\"banana\",\"kiwifruit\"]]\n",
    "\n",
    "print(df)"
   ]
  },
  {
   "cell_type": "code",
   "execution_count": 27,
   "metadata": {},
   "outputs": [
    {
     "name": "stdout",
     "output_type": "stream",
     "text": [
      "       fruits  year  time\n",
      "0       apple  2001     1\n",
      "1      orange  2002     4\n",
      "2      banana  2001     5\n",
      "3  strawberry  2008     6\n",
      "4   kiwifruit  2006     3\n"
     ]
    }
   ],
   "source": [
    "import pandas as pd\n",
    "\n",
    "data = {\n",
    "    \"fruits\":[\"apple\",\"orange\",\"banana\",\"strawberry\",\"kiwifruit\"],\n",
    "    \"year\":[2001, 2002, 2001, 2008, 2006],\n",
    "    \"time\":[1, 4, 5, 6, 3]\n",
    "       }\n",
    "df = pd.DataFrame(data)\n",
    "print(df)"
   ]
  },
  {
   "cell_type": "code",
   "execution_count": 28,
   "metadata": {},
   "outputs": [
    {
     "name": "stdout",
     "output_type": "stream",
     "text": [
      "       fruits  time\n",
      "1      orange     4\n",
      "3  strawberry     6\n"
     ]
    }
   ],
   "source": [
    "df = df.iloc[[1,3],[0,2]]\n",
    "print(df)"
   ]
  },
  {
   "cell_type": "code",
   "execution_count": 29,
   "metadata": {},
   "outputs": [
    {
     "name": "stdout",
     "output_type": "stream",
     "text": [
      "   banana  kiwifruit\n",
      "2      10         10\n",
      "3       9          1\n",
      "4      10          5\n",
      "5       5          8\n"
     ]
    }
   ],
   "source": [
    "import numpy as np\n",
    "import pandas as pd\n",
    "np.random.seed(0)\n",
    "columns = [\"apple\",\"orange\",\"banana\",\"strawberry\",\"kiwifruit\"]\n",
    "\n",
    "#\n",
    "df = pd.DataFrame()\n",
    "for column in columns:\n",
    "    df[column] = np.random.choice(range(1,11),10)\n",
    "\n",
    "#\n",
    "df.index = range(1, 11)\n",
    "\n",
    "df = df.iloc[range(1,5), [2,4]]\n",
    "\n",
    "print(df)"
   ]
  },
  {
   "cell_type": "markdown",
   "metadata": {},
   "source": [
    "### 행 또는 열 삭제"
   ]
  },
  {
   "cell_type": "code",
   "execution_count": 30,
   "metadata": {},
   "outputs": [
    {
     "name": "stdout",
     "output_type": "stream",
     "text": [
      "       fruits  year  time\n",
      "2      banana  2001     5\n",
      "3  strawberry  2008     6\n",
      "4   kiwifruit  2006     3\n",
      "\n",
      "       fruits  time\n",
      "0       apple     1\n",
      "1      orange     4\n",
      "2      banana     5\n",
      "3  strawberry     6\n",
      "4   kiwifruit     3\n"
     ]
    }
   ],
   "source": [
    "import pandas as pd\n",
    "\n",
    "data = {\n",
    "    \"fruits\":[\"apple\",\"orange\",\"banana\",\"strawberry\",\"kiwifruit\"],\n",
    "    \"year\":[2001, 2002, 2001, 2008, 2006],\n",
    "    \"time\":[1, 4, 5, 6, 3]\n",
    "       }\n",
    "df = pd.DataFrame(data)\n",
    "df1 = df.drop(range(0,2))\n",
    "df2 = df.drop(\"year\", axis=1)\n",
    "print(df1)\n",
    "print()\n",
    "print(df2)"
   ]
  },
  {
   "cell_type": "code",
   "execution_count": 32,
   "metadata": {},
   "outputs": [
    {
     "name": "stdout",
     "output_type": "stream",
     "text": [
      "   apple  orange  banana  kiwifruit\n",
      "1      6       8       6         10\n",
      "3      4       9       9          1\n",
      "5      8       2       5          8\n",
      "7      4       8       1          3\n",
      "9      3       9       6          3\n"
     ]
    }
   ],
   "source": [
    "import numpy as np\n",
    "import pandas as pd\n",
    "np.random.seed(0)\n",
    "columns = [\"apple\",\"orange\",\"banana\",\"strawberry\",\"kiwifruit\"]\n",
    "\n",
    "#\n",
    "df = pd.DataFrame()\n",
    "for column in columns:\n",
    "    df[column] = np.random.choice(range(1,11),10)\n",
    "\n",
    "#\n",
    "df.index = range(1, 11)\n",
    "\n",
    "# 2~10,, step2\n",
    "df = df.drop(np.arange(2, 11, 2))\n",
    "\n",
    "df = df.drop(\"strawberry\", axis=1)\n",
    "\n",
    "print(df)"
   ]
  },
  {
   "cell_type": "markdown",
   "metadata": {},
   "source": [
    "## 정렬"
   ]
  },
  {
   "cell_type": "code",
   "execution_count": 33,
   "metadata": {},
   "outputs": [
    {
     "name": "stdout",
     "output_type": "stream",
     "text": [
      "       fruits  year  time\n",
      "0       apple  2001     1\n",
      "1      orange  2002     4\n",
      "2      banana  2001     5\n",
      "3  strawberry  2008     6\n",
      "4   kiwifruit  2006     3\n",
      "       fruits  year  time\n",
      "0       apple  2001     1\n",
      "2      banana  2001     5\n",
      "1      orange  2002     4\n",
      "4   kiwifruit  2006     3\n",
      "3  strawberry  2008     6\n",
      "       fruits  year  time\n",
      "0       apple  2001     1\n",
      "4   kiwifruit  2006     3\n",
      "1      orange  2002     4\n",
      "2      banana  2001     5\n",
      "3  strawberry  2008     6\n"
     ]
    }
   ],
   "source": [
    "import pandas as pd\n",
    "\n",
    "data = {\n",
    "    \"fruits\":[\"apple\",\"orange\",\"banana\",\"strawberry\",\"kiwifruit\"],\n",
    "    \"year\":[2001, 2002, 2001, 2008, 2006],\n",
    "    \"time\":[1, 4, 5, 6, 3]\n",
    "       }\n",
    "df = pd.DataFrame(data)\n",
    "print(df)\n",
    "\n",
    "df = df.sort_values(by=\"year\", ascending=True)\n",
    "print(df)\n",
    "\n",
    "df = df.sort_values(by=[\"time\",\"year\"], ascending=True)\n",
    "print(df)"
   ]
  },
  {
   "cell_type": "code",
   "execution_count": 34,
   "metadata": {},
   "outputs": [
    {
     "name": "stdout",
     "output_type": "stream",
     "text": [
      "    apple  orange  banana  strawberry  kiwifruit\n",
      "2       1       7      10           4         10\n",
      "9       3       9       6           1          3\n",
      "7       4       8       1           4          3\n",
      "3       4       9       9           9          1\n",
      "4       4       9      10           2          5\n",
      "10      5       2       1           2          1\n",
      "8       6       8       4           8          8\n",
      "1       6       8       6           3         10\n",
      "5       8       2       5           4          8\n",
      "6      10       7       4           4          4\n"
     ]
    }
   ],
   "source": [
    "import numpy as np\n",
    "import pandas as pd\n",
    "np.random.seed(0)\n",
    "columns = [\"apple\",\"orange\",\"banana\",\"strawberry\",\"kiwifruit\"]\n",
    "\n",
    "#\n",
    "df = pd.DataFrame()\n",
    "for column in columns:\n",
    "    df[column] = np.random.choice(range(1,11),10)\n",
    "\n",
    "#\n",
    "df.index = range(1, 11)\n",
    "\n",
    "df = df.sort_values(by=columns)\n",
    "print(df)\n",
    "\n"
   ]
  },
  {
   "cell_type": "markdown",
   "metadata": {},
   "source": [
    "### 필터링"
   ]
  },
  {
   "cell_type": "code",
   "execution_count": 35,
   "metadata": {},
   "outputs": [
    {
     "name": "stdout",
     "output_type": "stream",
     "text": [
      "[ True False  True False  True]\n",
      "\n",
      "      fruits  year  time\n",
      "0      apple  2001     1\n",
      "2     banana  2001     5\n",
      "4  kiwifruit  2006     3\n"
     ]
    }
   ],
   "source": [
    "import pandas as pd\n",
    "\n",
    "data = {\n",
    "    \"fruits\":[\"apple\",\"orange\",\"banana\",\"strawberry\",\"kiwifruit\"],\n",
    "    \"year\":[2001, 2002, 2001, 2008, 2006],\n",
    "    \"time\":[1, 4, 5, 6, 3]\n",
    "       }\n",
    "df = pd.DataFrame(data)\n",
    "\n",
    "print(df.index%2==0)\n",
    "print()\n",
    "print(df[df.index%2==0])\n"
   ]
  },
  {
   "cell_type": "code",
   "execution_count": 37,
   "metadata": {},
   "outputs": [
    {
     "name": "stdout",
     "output_type": "stream",
     "text": [
      "   apple  orange  banana  strawberry  kiwifruit\n",
      "0      6       8       6           3         10\n",
      "1      1       7      10           4         10\n",
      "2      4       9       9           9          1\n",
      "3      4       9      10           2          5\n",
      "4      8       2       5           4          8\n",
      "5     10       7       4           4          4\n",
      "6      4       8       1           4          3\n",
      "7      6       8       4           8          8\n",
      "8      3       9       6           1          3\n",
      "9      5       2       1           2          1\n",
      "   apple  orange  banana  strawberry  kiwifruit\n",
      "0      6       8       6           3         10\n",
      "4      8       2       5           4          8\n",
      "7      6       8       4           8          8\n"
     ]
    }
   ],
   "source": [
    "import numpy as np\n",
    "import pandas as pd\n",
    "\n",
    "np.random.seed(0)\n",
    "columns = [\"apple\",\"orange\",\"banana\",\"strawberry\",\"kiwifruit\"]\n",
    "\n",
    "#\n",
    "df = pd.DataFrame()\n",
    "for column in columns:\n",
    "    df[column] = np.random.choice(range(1,11),10)\n",
    "\n",
    "print(df)    \n",
    "    \n",
    "df = df.loc[df[\"apple\"]>=5]\n",
    "df = df.loc[df[\"kiwifruit\"]>=5]\n",
    "\n",
    "print(df)\n"
   ]
  },
  {
   "cell_type": "code",
   "execution_count": 39,
   "metadata": {},
   "outputs": [
    {
     "name": "stdout",
     "output_type": "stream",
     "text": [
      "growth      50\n",
      "ishikawa    26\n",
      "mission      7\n",
      "pro          1\n",
      "dtype: int64\n",
      "\n",
      "growth      50\n",
      "mission      7\n",
      "ishikawa    26\n",
      "pro          1\n",
      "tutor       30\n",
      "dtype: int64\n",
      "\n",
      "   ishikawa\n",
      "2         4\n",
      "3         6\n",
      "4        10\n",
      "5         5\n"
     ]
    }
   ],
   "source": [
    "import pandas as pd\n",
    "import numpy as np\n",
    "\n",
    "index = [\"growth\",\"mission\",\"ishikawa\",\"pro\"]\n",
    "data = [50,  7,  26, 1]\n",
    "\n",
    "#\n",
    "series = pd.Series(data, index=index)\n",
    "\n",
    "#\n",
    "aidemy = series.sort_index()\n",
    "\n",
    "#\n",
    "aidemy1 = pd.Series([30], index=[\"tutor\"])\n",
    "aidemy2 = series.append(aidemy1)\n",
    "#\n",
    "print(aidemy)\n",
    "print()\n",
    "print(aidemy2)\n",
    "\n",
    "df = pd.DataFrame()\n",
    "for index in index:\n",
    "    df[index] = np.random.choice(range(1,11),10)\n",
    "\n",
    "df.index = range(1,11)\n",
    "\n",
    "aidemy3 = df.loc[range(2,6),[\"ishikawa\"]]\n",
    "print()\n",
    "print(aidemy3)"
   ]
  },
  {
   "cell_type": "code",
   "execution_count": null,
   "metadata": {},
   "outputs": [],
   "source": []
  }
 ],
 "metadata": {
  "kernelspec": {
   "display_name": "Python 3",
   "language": "python",
   "name": "python3"
  },
  "language_info": {
   "codemirror_mode": {
    "name": "ipython",
    "version": 3
   },
   "file_extension": ".py",
   "mimetype": "text/x-python",
   "name": "python",
   "nbconvert_exporter": "python",
   "pygments_lexer": "ipython3",
   "version": "3.7.6"
  }
 },
 "nbformat": 4,
 "nbformat_minor": 4
}
