{
 "cells": [
  {
   "cell_type": "markdown",
   "metadata": {},
   "source": [
    "# CH16. 지도학습(분류) 기초"
   ]
  },
  {
   "cell_type": "code",
   "execution_count": 22,
   "metadata": {},
   "outputs": [
    {
     "data": {
      "image/png": "[encoded data removed]",
      "text/plain": [
       "<Figure size 432x288 with 1 Axes>"
      ]
     },
     "metadata": {
      "needs_background": "light"
     },
     "output_type": "display_data"
    }
   ],
   "source": [
    "from sklearn.datasets import make_classification\n",
    "#\n",
    "import matplotlib.pyplot as plt\n",
    "import matplotlib\n",
    "%matplotlib inline\n",
    "\n",
    "# 데이터 X와 라벨 y를 생성\n",
    "# X, y = make_classification(n_samples=xx, n_classes=xx, n_features=xx, n_redundant=xx, random_state=xx)\n",
    "#\n",
    "# n_samples    : 준비할 데이터 수\n",
    "# n_classes    : 클래스 수 (지정하지 않으면 2)\n",
    "# n_features   : 데이터의 특징량 수\n",
    "# n_redundant  : 분류에 불필요한 특징량 (여분의 특징량) 수\n",
    "# random_state : 난수 시드(난수 패턴을 결정하는 요소)\n",
    "#\n",
    "X, y = make_classification(n_samples=50, n_classes=2, n_features=2, n_redundant=0, random_state=0)\n",
    "\n",
    "#\n",
    "plt.scatter(X[:, 0], X[:, 1], c=y, marker=\".\", cmap=matplotlib.cm.get_cmap(name=\"bwr\"), alpha=0.5)\n",
    "plt.grid(True)\n",
    "plt.show()\n"
   ]
  },
  {
   "cell_type": "code",
   "execution_count": 1,
   "metadata": {},
   "outputs": [],
   "source": [
    "from sklearn.linear_model import LogisticRegression\n",
    "from sklearn.svm import LinearSVC, SVC\n",
    "from sklearn.tree import DecisionTreeClassifier\n",
    "from sklearn.ensemble import RandomForestClassifier\n",
    "from sklearn.neighbors import KNeighborsClassifier\n",
    "\n",
    "#-- 모델 구축\n",
    "#model = Classifier() # 임시 지정\n",
    "\n",
    "#-- 모델 학습\n",
    "#model.fit(train_X, train_y)\n",
    "\n",
    "#-- 모델로 데이터를 예측\n",
    "#model.predict(test_X)\n",
    "\n",
    "#-- 모델의 정확도\n",
    "#  정확도 = (모델이 예측한 분류와 실제 분류가 일치한 데이터의 수)÷(데이터의 총 수)\n",
    "#model.score(test_X, test_y)\n"
   ]
  },
  {
   "cell_type": "code",
   "execution_count": 6,
   "metadata": {},
   "outputs": [
    {
     "name": "stdout",
     "output_type": "stream",
     "text": [
      "[0 1 1 0 1 0 0 0 1 1 1 0 1 0 0 1 1 1 0 0 0 0 1 0 1]\n"
     ]
    }
   ],
   "source": [
    "from sklearn.linear_model import LogisticRegression\n",
    "from sklearn.model_selection import train_test_split\n",
    "from sklearn.datasets import make_classification\n",
    "\n",
    "# 데이터 생성\n",
    "X, y = make_classification(n_samples=100, n_features=2, n_redundant=0, random_state=42)\n",
    "\n",
    "# 데이터를 학습용과 평가용으로 나누기\n",
    "train_X, test_X, train_y, test_y = train_test_split(X, y, random_state=42)\n",
    "\n",
    "# 모델을 구축\n",
    "model = LogisticRegression(random_state=42)\n",
    "\n",
    "# train_X와 train_y로 모델을 학습\n",
    "model.fit(train_X, train_y)\n",
    "\n",
    "# test_X에 대한 모델의 분류 예측 결과\n",
    "pred_y = model.predict(test_X)\n",
    "print(pred_y)\n"
   ]
  },
  {
   "cell_type": "code",
   "execution_count": 7,
   "metadata": {},
   "outputs": [],
   "source": [
    "# 패키지에서 모델을 호출합니다\n",
    "from sklearn.linear_model import LogisticRegression\n",
    "\n",
    "# 모델을 구축합니다\n",
    "model = LogisticRegression()\n",
    "\n",
    "# 모델을 학습시킵니다\n",
    "# train_data_detail은 데이터의 카테고리 예측에 사용되는 정보를 정리한 것입니다\n",
    "\n",
    "# train_data_label는 데이터가 속하는 클래스의 라벨입니다\n",
    "#model.fit(train_data_detail, train_data_label)\n",
    "\n",
    "# 모델로 예측합니다\n",
    "#model.predict(data_detail)\n",
    "\n",
    "# 모델의 예측 결과의 정확도입니다\n",
    "#model.score(data_detail, data_true_label)\n"
   ]
  },
  {
   "cell_type": "code",
   "execution_count": 13,
   "metadata": {},
   "outputs": [
    {
     "ename": "AttributeError",
     "evalue": "'LogisticRegression' object has no attribute 'coef_'",
     "output_type": "error",
     "traceback": [
      "\u001b[0;31m---------------------------------------------------------------------------\u001b[0m",
      "\u001b[0;31mAttributeError\u001b[0m                            Traceback (most recent call last)",
      "\u001b[0;32m<ipython-input-13-ce336c014d17>\u001b[0m in \u001b[0;36m<module>\u001b[0;34m\u001b[0m\n\u001b[1;32m     15\u001b[0m \u001b[0;31m# model.intercept_는 데이터의 요소 전부에 대한 보정(절편)을 나타낸다.\u001b[0m\u001b[0;34m\u001b[0m\u001b[0;34m\u001b[0m\u001b[0;34m\u001b[0m\u001b[0m\n\u001b[1;32m     16\u001b[0m \u001b[0mXi\u001b[0m \u001b[0;34m=\u001b[0m \u001b[0mnp\u001b[0m\u001b[0;34m.\u001b[0m\u001b[0mlinspace\u001b[0m\u001b[0;34m(\u001b[0m\u001b[0;34m-\u001b[0m\u001b[0;36m10\u001b[0m\u001b[0;34m,\u001b[0m \u001b[0;36m10\u001b[0m\u001b[0;34m)\u001b[0m\u001b[0;34m\u001b[0m\u001b[0;34m\u001b[0m\u001b[0m\n\u001b[0;32m---> 17\u001b[0;31m \u001b[0mY\u001b[0m \u001b[0;34m=\u001b[0m \u001b[0;34m-\u001b[0m\u001b[0mmodel\u001b[0m\u001b[0;34m.\u001b[0m\u001b[0mcoef_\u001b[0m\u001b[0;34m[\u001b[0m\u001b[0;36m0\u001b[0m\u001b[0;34m]\u001b[0m\u001b[0;34m[\u001b[0m\u001b[0;36m0\u001b[0m\u001b[0;34m]\u001b[0m \u001b[0;34m/\u001b[0m \u001b[0mmodel\u001b[0m\u001b[0;34m.\u001b[0m\u001b[0mcoef_\u001b[0m\u001b[0;34m[\u001b[0m\u001b[0;36m0\u001b[0m\u001b[0;34m]\u001b[0m\u001b[0;34m[\u001b[0m\u001b[0;36m1\u001b[0m\u001b[0;34m]\u001b[0m \u001b[0;34m*\u001b[0m  \u001b[0mXi\u001b[0m \u001b[0;34m-\u001b[0m \u001b[0mmodel\u001b[0m\u001b[0;34m.\u001b[0m\u001b[0mintercept_\u001b[0m \u001b[0;34m/\u001b[0m \u001b[0mmodel\u001b[0m\u001b[0;34m.\u001b[0m\u001b[0mcoef_\u001b[0m\u001b[0;34m[\u001b[0m\u001b[0;36m0\u001b[0m\u001b[0;34m]\u001b[0m\u001b[0;34m[\u001b[0m\u001b[0;36m1\u001b[0m\u001b[0;34m]\u001b[0m\u001b[0;34m\u001b[0m\u001b[0;34m\u001b[0m\u001b[0m\n\u001b[0m\u001b[1;32m     18\u001b[0m \u001b[0mplt\u001b[0m\u001b[0;34m.\u001b[0m\u001b[0mplot\u001b[0m\u001b[0;34m(\u001b[0m\u001b[0mXi\u001b[0m\u001b[0;34m,\u001b[0m \u001b[0mY\u001b[0m\u001b[0;34m)\u001b[0m\u001b[0;34m\u001b[0m\u001b[0;34m\u001b[0m\u001b[0m\n\u001b[1;32m     19\u001b[0m \u001b[0;34m\u001b[0m\u001b[0m\n",
      "\u001b[0;31mAttributeError\u001b[0m: 'LogisticRegression' object has no attribute 'coef_'"
     ]
    },
    {
     "data": {
      "image/png": "[encoded data removed]",
      "text/plain": [
       "<Figure size 432x288 with 1 Axes>"
      ]
     },
     "metadata": {
      "needs_background": "light"
     },
     "output_type": "display_data"
    }
   ],
   "source": [
    "# 패키지를 import합니다\n",
    "import numpy as np\n",
    "import matplotlib\n",
    "import matplotlib.pyplot as plt\n",
    "\n",
    "# 페이지에서 직접 그래프를 볼 수 있게...\n",
    "%matplotlib inline\n",
    "\n",
    "# 생성된 데이터를 플롯\n",
    "plt.scatter(X[:, 0], X[:, 1], c=y, marker=\".\",\n",
    "            cmap=matplotlib.cm.get_cmap(name=\"bwr\"), alpha=0.7)\n",
    "\n",
    "# 학습해 도출한 식별 경계선을 플롯\n",
    "# model.coef_는 데이터의 각 요소의 가중치(기울기)\n",
    "# model.intercept_는 데이터의 요소 전부에 대한 보정(절편)을 나타낸다.\n",
    "Xi = np.linspace(-10, 10)\n",
    "Y = -model.coef_[0][0] / model.coef_[0][1] *  Xi - model.intercept_ / model.coef_[0][1]\n",
    "plt.plot(Xi, Y)\n",
    "\n",
    "# 그래프의 스케일을 조정\n",
    "plt.xlim(min(X[:, 0]) - 0.5, max(X[:, 0]) + 0.5)\n",
    "plt.ylim(min(X[:, 1]) - 0.5, max(X[:, 1]) + 0.5)\n",
    "plt.axes().set_aspect(\"equal\", \"datalim\")\n",
    "\n",
    "# 그래프에 제목을 설정\n",
    "plt.title(\"classification data using LogisticRegression\")\n",
    "\n",
    "# x축, y축 이름\n",
    "plt.xlabel(\"x-axis\")\n",
    "plt.ylabel(\"y-axis\")\n",
    "plt.show()\n"
   ]
  },
  {
   "cell_type": "code",
   "execution_count": 15,
   "metadata": {},
   "outputs": [
    {
     "name": "stderr",
     "output_type": "stream",
     "text": [
      "/home/max/anaconda3/lib/python3.6/site-packages/ipykernel_launcher.py:35: MatplotlibDeprecationWarning: Adding an axes using the same arguments as a previous axes currently reuses the earlier instance.  In a future version, a new instance will always be created and returned.  Meanwhile, this warning can be suppressed, and the future behavior ensured, by passing a unique label to each axes instance.\n"
     ]
    },
    {
     "data": {
      "image/png": "[encoded data removed]",
      "text/plain": [
       "<Figure size 432x288 with 1 Axes>"
      ]
     },
     "metadata": {
      "needs_background": "light"
     },
     "output_type": "display_data"
    }
   ],
   "source": [
    "import numpy as np\n",
    "import matplotlib\n",
    "import matplotlib.pyplot as plt\n",
    "from sklearn.linear_model import LogisticRegression\n",
    "from sklearn.model_selection import train_test_split\n",
    "from sklearn.datasets import make_classification\n",
    "\n",
    "#\n",
    "%matplotlib inline\n",
    "\n",
    "# 데이터를 생성\n",
    "X, y = make_classification(n_samples=100, n_features=2, n_redundant=0, random_state=42)\n",
    "train_X, test_X, train_y, test_y = train_test_split(X, y, random_state=42)\n",
    "\n",
    "# 모델을 구축\n",
    "model = LogisticRegression()\n",
    "\n",
    "# train_X와 train_y를 사용해 모델로 학습\n",
    "model.fit(train_X, train_y)\n",
    "\n",
    "# test_X에 대한 모델의 분류 예측\n",
    "pred_y = model.predict(test_X)\n",
    "\n",
    "# 생성된 데이터를 플롯\n",
    "plt.scatter(X[:, 0], X[:, 1], c=y, marker=\".\", cmap=matplotlib.cm.get_cmap(name=\"bwr\"), alpha=0.7)\n",
    "\n",
    "# 학습해 도출한 식별 경계선을 플롯\n",
    "Xi = np.linspace(-10, 10)\n",
    "Y = -model.coef_[0][0] / model.coef_[0][1] *  Xi - model.intercept_ / model.coef_[0][1]\n",
    "plt.plot(Xi, Y)\n",
    "\n",
    "# 그래프의 스케일을 조정\n",
    "plt.xlim(min(X[:, 0]) - 0.5, max(X[:, 0]) + 0.5)\n",
    "plt.ylim(min(X[:, 1]) - 0.5, max(X[:, 1]) + 0.5)\n",
    "plt.axes().set_aspect(\"equal\", \"datalim\")\n",
    "\n",
    "# 그래프에 제목을 설정\n",
    "plt.title(\"classification data using LogisticRegression\")\n",
    "\n",
    "# x축, y축에 각각 이름을 설정\n",
    "plt.xlabel(\"x-axis\")\n",
    "plt.ylabel(\"y-axis\")\n",
    "plt.show()\n"
   ]
  },
  {
   "cell_type": "code",
   "execution_count": 17,
   "metadata": {},
   "outputs": [
    {
     "name": "stdout",
     "output_type": "stream",
     "text": [
      "1.0\n"
     ]
    }
   ],
   "source": [
    "from sklearn.svm import LinearSVC\n",
    "from sklearn.datasets import make_classification\n",
    "from sklearn.model_selection import train_test_split\n",
    "\n",
    "# 데이터를 생성\n",
    "X, y = make_classification(n_samples=100, n_features=2, n_redundant=0, random_state=42)\n",
    "\n",
    "# 데이터를 지도 데이터 및 예측할 데이터로 분할\n",
    "train_X, test_X, train_y, test_y = train_test_split(X, y, random_state=42)\n",
    "\n",
    "# 모델을 구축\n",
    "model = LinearSVC()\n",
    "\n",
    "# 모델을 학습\n",
    "model.fit(train_X, train_y)\n",
    "\n",
    "# 정확도를 출력\n",
    "print(model.score(test_X, test_y))\n"
   ]
  },
  {
   "cell_type": "code",
   "execution_count": 23,
   "metadata": {},
   "outputs": [
    {
     "name": "stderr",
     "output_type": "stream",
     "text": [
      "/home/max/anaconda3/lib/python3.6/site-packages/ipykernel_launcher.py:20: MatplotlibDeprecationWarning: Adding an axes using the same arguments as a previous axes currently reuses the earlier instance.  In a future version, a new instance will always be created and returned.  Meanwhile, this warning can be suppressed, and the future behavior ensured, by passing a unique label to each axes instance.\n"
     ]
    },
    {
     "data": {
      "image/png": "[encoded data removed]",
      "text/plain": [
       "<Figure size 432x288 with 1 Axes>"
      ]
     },
     "metadata": {
      "needs_background": "light"
     },
     "output_type": "display_data"
    }
   ],
   "source": [
    "import matplotlib\n",
    "import matplotlib.pyplot as plt\n",
    "import numpy as np\n",
    "%matplotlib inline\n",
    "\n",
    "# 생성된 데이터를 플롯\n",
    "plt.scatter(X[:, 0], X[:, 1], c=y, marker=\".\", cmap=matplotlib.cm.get_cmap(name=\"bwr\"), alpha=0.7)\n",
    "\n",
    "# 학습시켜 도출한 식별 경계선을 플롯\n",
    "Xi = np.linspace(-10, 10)\n",
    "Y = -model.coef_[0][0] / model.coef_[0][1] *  Xi - model.intercept_ / model.coef_[0][1]\n",
    "\n",
    "# 그래프\n",
    "plt.plot(Xi, Y)\n",
    "\n",
    "\n",
    "# 그래프의 스케일을 조정\n",
    "plt.xlim(min(X[:, 0]) - 0.5, max(X[:, 0]) + 0.5)\n",
    "plt.ylim(min(X[:, 1]) - 0.5, max(X[:, 1]) + 0.5)\n",
    "plt.axes().set_aspect(\"equal\", \"datalim\")\n",
    "\n",
    "'''\n",
    "# 그래프에 제목을 설정\n",
    "plt.title(\"classification data using LinearSVC\")\n",
    "\n",
    "# x축, y축에 각각 이름을 설정\n",
    "plt.xlabel(\"x-axis\")\n",
    "plt.ylabel(\"y-axis\")\n",
    "'''\n",
    "\n",
    "plt.show()\n"
   ]
  },
  {
   "cell_type": "code",
   "execution_count": 24,
   "metadata": {},
   "outputs": [
    {
     "name": "stdout",
     "output_type": "stream",
     "text": [
      "1.0\n"
     ]
    },
    {
     "name": "stderr",
     "output_type": "stream",
     "text": [
      "/home/max/anaconda3/lib/python3.6/site-packages/ipykernel_launcher.py:35: MatplotlibDeprecationWarning: Adding an axes using the same arguments as a previous axes currently reuses the earlier instance.  In a future version, a new instance will always be created and returned.  Meanwhile, this warning can be suppressed, and the future behavior ensured, by passing a unique label to each axes instance.\n"
     ]
    },
    {
     "data": {
      "image/png": "[encoded data removed]",
      "text/plain": [
       "<Figure size 432x288 with 1 Axes>"
      ]
     },
     "metadata": {
      "needs_background": "light"
     },
     "output_type": "display_data"
    }
   ],
   "source": [
    "import numpy as np\n",
    "import matplotlib\n",
    "import matplotlib.pyplot as plt\n",
    "from sklearn.svm import LinearSVC\n",
    "from sklearn.model_selection import train_test_split\n",
    "from sklearn.datasets import make_classification\n",
    "\n",
    "%matplotlib inline\n",
    "\n",
    "# 데이터를 생성\n",
    "X, y = make_classification(n_samples=100, n_features=2, n_redundant=0, random_state=42)\n",
    "train_X, test_X, train_y, test_y = train_test_split(X, y, random_state=42)\n",
    "\n",
    "#\n",
    "model = LinearSVC()\n",
    "\n",
    "# train_X와 train_y로 모델로 학습\n",
    "model.fit(train_X, train_y)\n",
    "\n",
    "# test_X와 test_y를 이용한 모델의 정확도를 출력\n",
    "print(model.score(test_X, test_y))\n",
    "\n",
    "#\n",
    "# 생성된 데이터를 플롯\n",
    "plt.scatter(X[:, 0], X[:, 1], c=y, marker=\".\", cmap=matplotlib.cm.get_cmap(name=\"bwr\"), alpha=0.7)\n",
    "\n",
    "# 학습해 도출한 식별 경계선을 플롯\n",
    "Xi = np.linspace(-10, 10)\n",
    "Y = -model.coef_[0][0] / model.coef_[0][1] * Xi - model.intercept_ / model.coef_[0][1]\n",
    "plt.plot(Xi, Y)\n",
    "\n",
    "# 그래프의 스케일을 조정\n",
    "plt.xlim(min(X[:, 0]) - 0.5, max(X[:, 0]) + 0.5)\n",
    "plt.ylim(min(X[:, 1]) - 0.5, max(X[:, 1]) + 0.5)\n",
    "plt.axes().set_aspect(\"equal\", \"datalim\")\n",
    "\n",
    "# 그래프에 제목을 설정\n",
    "plt.title(\"classification data using LinearSVC\")\n",
    "\n",
    "# x축, y축에 각각 이름을 설정\n",
    "plt.xlabel(\"x-axis\")\n",
    "plt.ylabel(\"y-axis\")\n",
    "plt.show()\n"
   ]
  },
  {
   "cell_type": "code",
   "execution_count": 25,
   "metadata": {},
   "outputs": [
    {
     "name": "stdout",
     "output_type": "stream",
     "text": [
      "0.99\n"
     ]
    }
   ],
   "source": [
    "import matplotlib\n",
    "from sklearn.svm import SVC\n",
    "from sklearn.datasets import make_gaussian_quantiles\n",
    "import matplotlib.pyplot as plt\n",
    "%matplotlib inline\n",
    "\n",
    "# 데이터를 생성\n",
    "# 이 데이터는 선형 분리가 가능하지 않기 때문에, 다른 데이터를 준비\n",
    "data, label = make_gaussian_quantiles(n_samples=1000, n_classes=2, n_features=2, random_state=42)\n",
    "\n",
    "# 모델을 구축\n",
    "# 선형 분리 가능하지 않은 데이터의 분류에는 LinearSVC 대신 SVC를 사용\n",
    "model = SVC()\n",
    "\n",
    "# 모델을 학습\n",
    "model.fit(data, label)\n",
    "\n",
    "# 정확도를 산출\n",
    "print(model.score(data, label))\n"
   ]
  },
  {
   "cell_type": "code",
   "execution_count": 26,
   "metadata": {},
   "outputs": [
    {
     "name": "stdout",
     "output_type": "stream",
     "text": [
      "비선형 SVM: 0.976\n",
      "선형 SVM: 0.528\n"
     ]
    }
   ],
   "source": [
    "from sklearn.svm import LinearSVC\n",
    "from sklearn.svm import SVC\n",
    "from sklearn.model_selection import train_test_split\n",
    "from sklearn.datasets import make_gaussian_quantiles\n",
    "\n",
    "# 데이터를 생성\n",
    "X, y = make_gaussian_quantiles(n_samples=1000, n_classes=2, n_features=2, random_state=42)\n",
    "train_X, test_X, train_y, test_y = train_test_split(X, y, random_state=42)\n",
    "\n",
    "\n",
    "# 모델을 구축하세요\n",
    "model1 = SVC()\n",
    "model2 = LinearSVC()\n",
    "\n",
    "# train_X와 train_y로 모델로 학습\n",
    "model1.fit(train_X, train_y)\n",
    "model2.fit(train_X, train_y)\n",
    "\n",
    "\n",
    "# 정확도를 산출\n",
    "print(\"비선형 SVM: {}\".format(model1.score(test_X, test_y)))\n",
    "print(\"선형 SVM: {}\".format(model2.score(test_X, test_y)))\n"
   ]
  },
  {
   "cell_type": "code",
   "execution_count": 27,
   "metadata": {},
   "outputs": [
    {
     "name": "stdout",
     "output_type": "stream",
     "text": [
      "0.96\n"
     ]
    }
   ],
   "source": [
    "from sklearn.datasets import make_classification\n",
    "from sklearn.model_selection import train_test_split\n",
    "\n",
    "X, y = make_classification(n_samples=100, n_features=2, n_redundant=0, random_state=42)\n",
    "\n",
    "# 학습 데이터와 테스트 데이터\n",
    "train_X, test_X, train_y, test_y = train_test_split(X, y, random_state=42)\n",
    "\n",
    "# 모델을 읽기\n",
    "from sklearn.tree import DecisionTreeClassifier\n",
    "\n",
    "# 모델을 구축\n",
    "model = DecisionTreeClassifier()\n",
    "\n",
    "# 모델을 학습\n",
    "model.fit(train_X, train_y)\n",
    "\n",
    "# 정확도를 산출다\n",
    "print(model.score(test_X, test_y))\n"
   ]
  },
  {
   "cell_type": "code",
   "execution_count": 28,
   "metadata": {},
   "outputs": [
    {
     "name": "stdout",
     "output_type": "stream",
     "text": [
      "0.9094042343673068\n"
     ]
    }
   ],
   "source": [
    "# 버섯 데이터\n",
    "# 필요한 패키지를 import\n",
    "import requests\n",
    "import zipfile\n",
    "from io import StringIO\n",
    "import io\n",
    "import pandas as pd\n",
    "\n",
    "# 데이터의 전처리에 필요한 패키지를 import\n",
    "from sklearn.model_selection import train_test_split\n",
    "from sklearn import preprocessing\n",
    "\n",
    "# url을 지정\n",
    "mush_data_url = \"https://archive.ics.uci.edu/ml/machine-learning-databases/mushroom/agaricus-lepiota.data\"\n",
    "s = requests.get(mush_data_url).content\n",
    "\n",
    "# 데이터 형식을 변환\n",
    "mush_data = pd.read_csv(io.StringIO(s.decode(\"utf-8\")), header=None)\n",
    "\n",
    "# 데이터에 이름을 붙이기(데이터를 쉽게 취급하기 위해)\n",
    "mush_data.columns = [\"classes\", \"cap_shape\", \"cap_surface\",\n",
    "                     \"cap_color\", \"odor\", \"bruises\",\n",
    "                     \"gill_attachment\", \"gill_spacing\",\n",
    "                     \"gill_size\", \"gill_color\", \"stalk_shape\",\n",
    "                     \"stalk_root\", \"stalk_surface_above_ring\",\n",
    "                     \"stalk_surface_below_ring\",\n",
    "                     \"stalk_color_above_ring\",\n",
    "                     \"stalk_color_below_ring\",\n",
    "                     \"veil_type\", \"veil_color\",\"ring_number\",\n",
    "                     \"ring_type\", \"spore_print_color\",\n",
    "                     \"population\", \"habitat\"]\n",
    "\n",
    "# 카테고리 변수(색상의 종류 등 숫자의 크고 작음을 결정할 수 없는 것)을 더미 특징량(yes 또는 no)으로 변환\n",
    "mush_data_dummy = pd.get_dummies(\n",
    "    mush_data[[\"gill_color\", \"gill_attachment\", \"odor\", \"cap_color\"]])\n",
    "\n",
    "# 목적 변수: flg(플래그)를 세우기\n",
    "mush_data_dummy[\"flg\"] = mush_data[\"classes\"].map(lambda x: 1 if x == \"p\" else 0)\n",
    "\n",
    "# 설명 변수와 목적 변수를 지정\n",
    "X = mush_data_dummy.drop(\"flg\", axis=1)\n",
    "Y = mush_data_dummy[\"flg\"]\n",
    "\n",
    "# 학습 데이터와 테스트 데이터로 나누기\n",
    "train_X, test_X, train_y, test_y = train_test_split(X,Y, random_state=42)\n",
    "\n",
    "\n",
    "# 모델을 읽기\n",
    "from sklearn.tree import DecisionTreeClassifier\n",
    "\n",
    "# 모델을 구축\n",
    "model = DecisionTreeClassifier()\n",
    "\n",
    "# 모델로 학습\n",
    "model.fit(train_X, train_y)\n",
    "\n",
    "\n",
    "\n",
    "# 정확도를 산출\n",
    "print(model.score(test_X, test_y))\n"
   ]
  },
  {
   "cell_type": "code",
   "execution_count": 29,
   "metadata": {},
   "outputs": [
    {
     "name": "stdout",
     "output_type": "stream",
     "text": [
      "0.96\n"
     ]
    }
   ],
   "source": [
    "from sklearn.datasets import make_classification\n",
    "from sklearn.model_selection import train_test_split\n",
    "\n",
    "X, y = make_classification(n_samples=100, n_features=2, n_redundant=0, random_state=42)\n",
    "\n",
    "# 학습 데이터와 테스트 데이터로 나누기\n",
    "train_X, test_X, train_y, test_y = train_test_split(X, y, random_state=42)  \n",
    "\n",
    "# 모델을 읽기\n",
    "from sklearn.ensemble import RandomForestClassifier\n",
    "\n",
    "# 모델을 구축\n",
    "model = RandomForestClassifier()\n",
    "\n",
    "# 모델을 학습\n",
    "model.fit(train_X, train_y)\n",
    "\n",
    "# 정확도를 산출\n",
    "print(model.score(test_X, test_y))\n"
   ]
  },
  {
   "cell_type": "code",
   "execution_count": 30,
   "metadata": {},
   "outputs": [
    {
     "name": "stdout",
     "output_type": "stream",
     "text": [
      "0.9094042343673068\n",
      "0.9094042343673068\n"
     ]
    }
   ],
   "source": [
    "import requests\n",
    "import zipfile\n",
    "from io import StringIO\n",
    "import io\n",
    "import pandas as pd\n",
    "\n",
    "# 데이터의 전처리에 필요한 패키지를 import\n",
    "from sklearn.model_selection import train_test_split\n",
    "from sklearn import preprocessing\n",
    "\n",
    "# url을 지정\n",
    "mush_data_url = \"https://archive.ics.uci.edu/ml/machine-learning-databases/mushroom/agaricus-lepiota.data\"\n",
    "s = requests.get(mush_data_url).content\n",
    "\n",
    "# 데이터 형식을 변환합니다\n",
    "mush_data = pd.read_csv(io.StringIO(s.decode(\"utf-8\")), header=None)\n",
    "\n",
    "# 데이터에 이름을 붙이기(데이터를 쉽게 취급하기 위해)\n",
    "mush_data.columns = [\"classes\", \"cap_shape\", \"cap_surface\",\n",
    "                     \"cap_color\", \"odor\", \"bruises\",\n",
    "                     \"gill_attachment\", \"gill_spacing\",\n",
    "                     \"gill_size\", \"gill_color\", \"stalk_shape\",\n",
    "                     \"stalk_root\", \"stalk_surface_above_ring\",\n",
    "                     \"stalk_surface_below_ring\",\n",
    "                     \"stalk_color_above_ring\",\n",
    "                     \"stalk_color_below_ring\",\n",
    "                     \"veil_type\", \"veil_color\", \"ring_number\",\n",
    "                     \"ring_type\", \"spore_print_color\",\n",
    "                     \"population\", \"habitat\"]\n",
    "\n",
    "# 카테고리 변수(색상의 종류 등 숫자의 크고 작음을 결정할 수 없는 것)을 더미 특징량(yes 또는 no)으로 변환\n",
    "mush_data_dummy = pd.get_dummies( mush_data[[\"gill_color\", \"gill_attachment\", \"odor\", \"cap_color\"]])\n",
    "\n",
    "# 목적 변수: flg(플래그)를 세우기\n",
    "mush_data_dummy[\"flg\"] = mush_data[\"classes\"].map(\n",
    "    lambda x: 1 if x == \"p\" else 0)\n",
    "\n",
    "# 설명 변수와 목적 변수를 지정\n",
    "X = mush_data_dummy.drop(\"flg\", axis=1)\n",
    "Y = mush_data_dummy[\"flg\"]\n",
    "\n",
    "# 학습 데이터와 테스트 데이터로 나누기\n",
    "train_X, test_X, train_y, test_y = train_test_split(X,Y, random_state=42)\n",
    "\n",
    "\n",
    "# 모델을 읽기\n",
    "from sklearn.ensemble import RandomForestClassifier\n",
    "from sklearn.tree import DecisionTreeClassifier\n",
    "\n",
    "# 모델을 구축\n",
    "model1 = RandomForestClassifier()\n",
    "model2 = DecisionTreeClassifier()\n",
    "\n",
    "# 모델을 학습\n",
    "model1.fit(train_X, train_y)\n",
    "model2.fit(train_X, train_y)\n",
    "\n",
    "# 정확도를 산출\n",
    "print(model1.score(test_X, test_y))\n",
    "print(model2.score(test_X, test_y))"
   ]
  },
  {
   "cell_type": "code",
   "execution_count": 31,
   "metadata": {},
   "outputs": [
    {
     "name": "stdout",
     "output_type": "stream",
     "text": [
      "1.0\n"
     ]
    }
   ],
   "source": [
    "from sklearn.datasets import make_classification\n",
    "from sklearn.model_selection import train_test_split\n",
    "\n",
    "X, y = make_classification(n_samples=100, n_features=2, n_redundant=0, random_state=42)\n",
    "\n",
    "# 학습 데이터와 테스트 데이터로 나누기\n",
    "train_X, test_X, train_y, test_y = train_test_split(X, y, random_state=42)\n",
    "\n",
    "# 모델을 읽기\n",
    "from sklearn.neighbors import KNeighborsClassifier\n",
    "\n",
    "# 모델을 구축\n",
    "model = KNeighborsClassifier()\n",
    "\n",
    "# 모델을 학습\n",
    "model.fit(train_X, train_y)\n",
    "\n",
    "# 정확도를 산출\n",
    "print(model.score(test_X, test_y))\n"
   ]
  },
  {
   "cell_type": "code",
   "execution_count": 54,
   "metadata": {},
   "outputs": [
    {
     "name": "stdout",
     "output_type": "stream",
     "text": [
      "0.9039881831610044\n"
     ]
    }
   ],
   "source": [
    "import requests\n",
    "import zipfile\n",
    "from io import StringIO\n",
    "import io\n",
    "import pandas as pd\n",
    "from sklearn.model_selection import train_test_split\n",
    "from sklearn import preprocessing\n",
    "\n",
    "# url을 지정\n",
    "mush_data_url = \"https://archive.ics.uci.edu/ml/machine-learning-databases/mushroom/agaricus-lepiota.data\"\n",
    "s = requests.get(mush_data_url).content\n",
    "\n",
    "# 데이터 형식을 변환\n",
    "mush_data = pd.read_csv(io.StringIO(s.decode(\"utf-8\")), header=None)\n",
    "\n",
    "# 데이터에 이름을 붙입니다(데이터를 쉽게 취급하기 위해)\n",
    "mush_data.columns = [\"classes\", \"cap_shape\", \"cap_surface\",\n",
    "                     \"cap_color\", \"odor\", \"bruises\",\n",
    "                     \"gill_attachment\", \"gill_spacing\",\n",
    "                     \"gill_size\", \"gill_color\", \"stalk_shape\",\n",
    "                     \"stalk_root\", \"stalk_surface_above_ring\",\n",
    "                     \"stalk_surface_below_ring\",\n",
    "                     \"stalk_color_above_ring\",\n",
    "                     \"stalk_color_below_ring\",\n",
    "                     \"veil_type\", \"veil_color\",\"ring_number\",\n",
    "                     \"ring_type\", \"spore_print_color\",\n",
    "                     \"population\", \"habitat\"]\n",
    "\n",
    "# 참고(카테고리 변수를 더미 특징량으로 변환하는 방법)\n",
    "mush_data_dummy = pd.get_dummies(\n",
    "    mush_data[[\"gill_color\", \"gill_attachment\", \"odor\", \"cap_color\"]])\n",
    "\n",
    "# 목적 변수: flag(플래그)를 세웁\n",
    "mush_data_dummy[\"flg\"] = mush_data[\"classes\"].map(\n",
    "    lambda x: 1 if x == \"p\" else 0)\n",
    "\n",
    "# 설명 변수와 목적 변수를 지정\n",
    "X = mush_data_dummy.drop(\"flg\", axis=1)\n",
    "Y = mush_data_dummy[\"flg\"]\n",
    "\n",
    "# 학습 데이터와 테스트 데이터로 나눕\n",
    "train_X, test_X, train_y, test_y = train_test_split(X,Y, random_state=42)\n",
    "\n",
    "# 다음 코드를 작성\n",
    "# 모델을 읽어들입니다\n",
    "from sklearn.neighbors import KNeighborsClassifier\n",
    "\n",
    "# 모델을 구축\n",
    "model = KNeighborsClassifier()\n",
    "\n",
    "# 모델을 학습\n",
    "model.fit(train_X, train_y)\n",
    "\n",
    "# 정확도를 표시\n",
    "print(model.score(test_X, test_y))\n",
    "\n"
   ]
  },
  {
   "cell_type": "markdown",
   "metadata": {},
   "source": [
    "### 연습 문제"
   ]
  },
  {
   "cell_type": "code",
   "execution_count": 32,
   "metadata": {},
   "outputs": [
    {
     "name": "stdout",
     "output_type": "stream",
     "text": [
      "로지스틱 회귀\n",
      "정확도:0.96\n",
      "\n",
      "선형 SVM\n",
      "정확도:0.955\n",
      "\n",
      "비선형 SVM\n",
      "정확도:0.965\n",
      "\n",
      "결정 트리\n",
      "정확도:0.95\n",
      "\n",
      "랜덤 포레스트\n",
      "정확도:0.97\n",
      "\n"
     ]
    }
   ],
   "source": [
    "from sklearn.datasets import make_classification\n",
    "from sklearn.model_selection import train_test_split\n",
    "from sklearn.linear_model import LogisticRegression\n",
    "from sklearn.svm import LinearSVC\n",
    "from sklearn.svm import SVC\n",
    "from sklearn.tree import DecisionTreeClassifier\n",
    "from sklearn.ensemble import RandomForestClassifier\n",
    "\n",
    "# 데이터 X, 라벨 y를 생성(samples=1000, features=2,random_state=42)\n",
    "X, y = make_classification(n_samples=1000, n_features=2, n_redundant=0, random_state=0)\n",
    "\n",
    "# train 데이터, test데이터를 분할(테스트 크기=0.2,random_state=42)\n",
    "train_X, test_X, train_y, test_y = train_test_split(X, y, test_size=0.2, random_state=42)\n",
    "\n",
    "# 모델을 구축\n",
    "model_list = { '로지스틱 회귀':LogisticRegression(),\n",
    "              '선형 SVM':LinearSVC(),\n",
    "              '비선형 SVM':SVC(),\n",
    "              '결정 트리':DecisionTreeClassifier(),\n",
    "              '랜덤 포레스트':RandomForestClassifier()}\n",
    "\n",
    "# for 문으로 모델을 학습시키고, 정확도를 출력\n",
    "for model_name, model in model_list.items():\n",
    "    # 모델을 학습\n",
    "    model.fit(train_X, train_y)\n",
    "    print(model_name)\n",
    "    # 정확도를 출력\n",
    "    print('정확도:' + str(model.score(test_X,test_y)))\n",
    "    print()\n"
   ]
  },
  {
   "cell_type": "code",
   "execution_count": null,
   "metadata": {},
   "outputs": [],
   "source": []
  },
  {
   "cell_type": "code",
   "execution_count": null,
   "metadata": {},
   "outputs": [],
   "source": []
  },
  {
   "cell_type": "code",
   "execution_count": null,
   "metadata": {},
   "outputs": [],
   "source": []
  }
 ],
 "metadata": {
  "kernelspec": {
   "display_name": "Python 3",
   "language": "python",
   "name": "python3"
  },
  "language_info": {
   "codemirror_mode": {
    "name": "ipython",
    "version": 3
   },
   "file_extension": ".py",
   "mimetype": "text/x-python",
   "name": "python",
   "nbconvert_exporter": "python",
   "pygments_lexer": "ipython3",
   "version": "3.6.10"
  }
 },
 "nbformat": 4,
 "nbformat_minor": 2
}
