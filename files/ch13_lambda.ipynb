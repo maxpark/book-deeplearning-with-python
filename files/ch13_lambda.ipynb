{
 "cells": [
  {
   "cell_type": "markdown",
   "metadata": {},
   "source": [
    "# CH13 람다(lambda)와 맵"
   ]
  },
  {
   "cell_type": "markdown",
   "metadata": {},
   "source": [
    "### make function "
   ]
  },
  {
   "cell_type": "code",
   "execution_count": 5,
   "metadata": {},
   "outputs": [
    {
     "name": "stdout",
     "output_type": "stream",
     "text": [
      "100\n",
      "100\n"
     ]
    }
   ],
   "source": [
    "#-- function\n",
    "def pow1(x):\n",
    "    return x ** 2\n",
    "\n",
    "#-- lambda\n",
    "pow2 = lambda x: x**2\n",
    "\n",
    "#\n",
    "print(pow1(10))\n",
    "print(pow2(10))\n",
    "\n"
   ]
  },
  {
   "cell_type": "code",
   "execution_count": 17,
   "metadata": {},
   "outputs": [
    {
     "name": "stdout",
     "output_type": "stream",
     "text": [
      "21\n",
      "21\n"
     ]
    }
   ],
   "source": [
    "#-- assign a\n",
    "a = 4\n",
    "\n",
    "#\n",
    "def func1(x):\n",
    "    return 2 * x**2 - 3*x + 1\n",
    "\n",
    "#-\n",
    "func2 = lambda x: 2 * x**2 - 3*x + 1\n",
    "\n",
    "#\n",
    "print(func1(a))\n",
    "print(func2(a))"
   ]
  },
  {
   "cell_type": "code",
   "execution_count": 20,
   "metadata": {},
   "outputs": [
    {
     "name": "stdout",
     "output_type": "stream",
     "text": [
      "8\n",
      "8\n"
     ]
    }
   ],
   "source": [
    "#\n",
    "add1 = lambda x, y: x + y\n",
    "#\n",
    "print((lambda x, y: x + y)(3, 5))\n",
    "print(add1(3,5))"
   ]
  },
  {
   "cell_type": "code",
   "execution_count": 24,
   "metadata": {},
   "outputs": [
    {
     "name": "stdout",
     "output_type": "stream",
     "text": [
      "32\n",
      "32\n",
      "32\n"
     ]
    }
   ],
   "source": [
    "#--\n",
    "x = 5\n",
    "y = 6\n",
    "z = 2\n",
    "\n",
    "#\n",
    "def func3(x, y, z):\n",
    "    return x*y + z\n",
    "\n",
    "#\n",
    "func4 = lambda x, y, z: x*y + z\n",
    "\n",
    "#\n",
    "print(func3(x, y, z))\n",
    "print(func4(x, y, z))\n",
    "print((lambda x,y,z: x*y+z)(5,6,2))\n"
   ]
  },
  {
   "cell_type": "code",
   "execution_count": 25,
   "metadata": {},
   "outputs": [
    {
     "name": "stdout",
     "output_type": "stream",
     "text": [
      "hello\n"
     ]
    }
   ],
   "source": [
    "#\n",
    "def say_hello():\n",
    "    print(\"hello\")\n",
    "    \n",
    "say_hello()"
   ]
  },
  {
   "cell_type": "code",
   "execution_count": 27,
   "metadata": {},
   "outputs": [
    {
     "name": "stdout",
     "output_type": "stream",
     "text": [
      "6.0\n"
     ]
    }
   ],
   "source": [
    "#--\n",
    "def lower_three1(x):\n",
    "    if x < 3:\n",
    "        return x * 2\n",
    "    else:\n",
    "        return x/3 + 5\n",
    "\n",
    "#    \n",
    "print(lower_three1(3))"
   ]
  },
  {
   "cell_type": "code",
   "execution_count": 34,
   "metadata": {},
   "outputs": [
    {
     "name": "stdout",
     "output_type": "stream",
     "text": [
      "6.0\n"
     ]
    }
   ],
   "source": [
    "#\n",
    "lower_three2 = lambda x: x * 2 if (x < 3) else (x/3 + 5)\n",
    "#\n",
    "print(lower_three2(3))"
   ]
  },
  {
   "cell_type": "code",
   "execution_count": 41,
   "metadata": {},
   "outputs": [
    {
     "name": "stdout",
     "output_type": "stream",
     "text": [
      "-1\n",
      "-1\n",
      "50\n"
     ]
    }
   ],
   "source": [
    "#--\n",
    "a1 = 13\n",
    "a2 = 32\n",
    "\n",
    "#-\n",
    "func5 = lambda x: x**2 - 40*x + 350 if x >= 10 and x < 30 else 50\n",
    "\n",
    "#\n",
    "def func5_1(x):\n",
    "    if x >= 10:\n",
    "        return x**2 - 40*x + 350\n",
    "    else:\n",
    "        return 50\n",
    "#\n",
    "print(func5_1(a1))\n",
    "#--\n",
    "print(func5(a1))\n",
    "print(func5(a2))\n"
   ]
  },
  {
   "cell_type": "markdown",
   "metadata": {},
   "source": [
    "### split"
   ]
  },
  {
   "cell_type": "code",
   "execution_count": 54,
   "metadata": {
    "scrolled": true
   },
   "outputs": [
    {
     "data": {
      "text/plain": [
       "['this', '', 'is', 'a', 'test', 'sentence.']"
      ]
     },
     "execution_count": 54,
     "metadata": {},
     "output_type": "execute_result"
    }
   ],
   "source": [
    "#--\n",
    "test_sentence = \"this  is a test sentence.\"\n",
    "\n",
    "# split\n",
    "test_sentence.split(\" \")"
   ]
  },
  {
   "cell_type": "code",
   "execution_count": 53,
   "metadata": {},
   "outputs": [
    {
     "name": "stdout",
     "output_type": "stream",
     "text": [
      "['My', 'name']\n",
      "is\n",
      "Yamada\n"
     ]
    }
   ],
   "source": [
    "#\n",
    "self_data = \"My name is Yamada\"\n",
    "\n",
    "# split by \" \"\"\n",
    "word_list = self_data.split(\" \")\n",
    "\n",
    "#-\n",
    "print(word_list[:2])\n",
    "print(word_list[2])\n",
    "print(word_list[3])\n",
    "#word_list[3]"
   ]
  },
  {
   "cell_type": "code",
   "execution_count": 4,
   "metadata": {},
   "outputs": [
    {
     "data": {
      "text/plain": [
       "['this', 'is', 'a', 'test', 'sentence']"
      ]
     },
     "execution_count": 4,
     "metadata": {},
     "output_type": "execute_result"
    }
   ],
   "source": [
    "# re\n",
    "import re\n",
    "\n",
    "#\n",
    "test_sentence = \"this,is a.test,sentence\"\n",
    "\n",
    "#--split w/  \",\"  \" \"  \".\"\n",
    "#re.split(\"[,.]\", test_sentence)\n",
    "re.split(\"[, .]\", test_sentence)\n"
   ]
  },
  {
   "cell_type": "code",
   "execution_count": 6,
   "metadata": {},
   "outputs": [
    {
     "name": "stdout",
     "output_type": "stream",
     "text": [
      "2017\n",
      "4\n",
      "1\n",
      "22\n"
     ]
    }
   ],
   "source": [
    "import re\n",
    "\n",
    "#\n",
    "time_data = \"2017/4/1_22:15\"\n",
    "\n",
    "#\n",
    "time_list = re.split(\"[/_:]\",time_data)\n",
    "\n",
    "#year\n",
    "print(time_list[0])\n",
    "#month\n",
    "print(time_list[1])\n",
    "#day\n",
    "print(time_list[2])\n",
    "#hours\n",
    "print(time_list[3])"
   ]
  },
  {
   "cell_type": "markdown",
   "metadata": {},
   "source": [
    "### map"
   ]
  },
  {
   "cell_type": "code",
   "execution_count": 11,
   "metadata": {},
   "outputs": [
    {
     "name": "stdout",
     "output_type": "stream",
     "text": [
      "[1, 2, 3, 4, 5]\n",
      "[1, 2, 3, 4, 5]\n"
     ]
    }
   ],
   "source": [
    "#\n",
    "a = [1, -2, 3, -4, 5]\n",
    "new = []\n",
    "#\n",
    "for x in a:\n",
    "    new.append(abs(x))\n",
    "print(new)\n",
    "\n",
    "\n",
    "# map\n",
    "a = [1, -2, 3, -4, 5]\n",
    "print(list(map(abs, a)))\n"
   ]
  },
  {
   "cell_type": "code",
   "execution_count": 14,
   "metadata": {},
   "outputs": [
    {
     "name": "stdout",
     "output_type": "stream",
     "text": [
      "[2, 23, 14, 7, 22]\n"
     ]
    }
   ],
   "source": [
    "import re\n",
    "\n",
    "#--\n",
    "time_list = [\n",
    "    \"2006/11/26_2:40\",\n",
    "    \"2009/1/16_23:35\",\n",
    "    \"2014/5/4_14:26\",\n",
    "    \"2017/8/9_7:5\",\n",
    "    \"2017/4/1_22:15\"\n",
    "]\n",
    "\n",
    "#-- hour,,  int()::  string -> int\n",
    "get_hour = lambda x: int(re.split(\"[/_:]\",x)[3])\n",
    "\n",
    "#\n",
    "hour_list = list(map(get_hour, time_list))\n",
    "\n",
    "#\n",
    "print(hour_list)"
   ]
  },
  {
   "cell_type": "code",
   "execution_count": 19,
   "metadata": {},
   "outputs": [
    {
     "name": "stdout",
     "output_type": "stream",
     "text": [
      "[1, 3, 5]\n",
      "[1, 3, 5]\n"
     ]
    }
   ],
   "source": [
    "#\n",
    "a = [1, -2, 3, -4, 5]\n",
    "new = []\n",
    "for x in a:\n",
    "    if x > 0:\n",
    "        new.append(x)\n",
    "print(new)\n",
    "\n",
    "#-- lambda\n",
    "a = [1, -2, 3, -4, 5]\n",
    "print(list(filter(lambda x: x>0, a)))\n"
   ]
  },
  {
   "cell_type": "code",
   "execution_count": 20,
   "metadata": {},
   "outputs": [
    {
     "name": "stdout",
     "output_type": "stream",
     "text": [
      "['2009/1/16_23:35', '2014/5/4_14:26', '2017/4/1_22:15']\n"
     ]
    }
   ],
   "source": [
    "import re\n",
    "\n",
    "# \"year/month/day_hour:minute\"\n",
    "time_list = [\n",
    "    \"2006/11/26_2:40\",\n",
    "    \"2009/1/16_23:35\",\n",
    "    \"2014/5/4_14:26\",\n",
    "    \"2017/8/9_7:5\",\n",
    "    \"2017/4/1_22:15\"\n",
    "]\n",
    "#-- month\n",
    "is_first_half = lambda x: int(re.split(\"[/_:]\", x)[1]) - 7 < 0\n",
    "\n",
    "# \n",
    "first_half_list = list(filter(is_first_half, time_list))\n",
    "\n",
    "#\n",
    "print(first_half_list)\n"
   ]
  },
  {
   "cell_type": "code",
   "execution_count": 22,
   "metadata": {},
   "outputs": [
    {
     "name": "stdout",
     "output_type": "stream",
     "text": [
      "[[4, 5], [3, 6], [2, 7], [1, 8], [0, 9]]\n",
      "[[0, 9], [1, 8], [2, 7], [3, 6], [4, 5]]\n"
     ]
    }
   ],
   "source": [
    "#\n",
    "nest_list =[\n",
    "    [0, 9],\n",
    "    [1, 8],\n",
    "    [2, 7],\n",
    "    [3, 6],\n",
    "    [4, 5]\n",
    "]\n",
    "\n",
    "#-- sorted\n",
    "print(sorted(nest_list, key = lambda x: x [1]))\n",
    "#\n",
    "print(sorted(nest_list,key=lambda x: x[0]))\n"
   ]
  },
  {
   "cell_type": "code",
   "execution_count": 23,
   "metadata": {},
   "outputs": [
    {
     "name": "stdout",
     "output_type": "stream",
     "text": [
      "[[2006, 11, 26, 2, 40], [2017, 8, 9, 7, 5], [2014, 5, 4, 14, 26], [2017, 4, 1, 22, 15], [2009, 1, 16, 23, 35]]\n"
     ]
    }
   ],
   "source": [
    "#\n",
    "time_data = [\n",
    "    [2006, 11, 26, 2, 40],\n",
    "    [2009, 1, 16, 23, 35],\n",
    "    [2014, 5, 4, 14, 26],\n",
    "    [2017, 8, 9, 7, 5],\n",
    "    [2017, 4, 1, 22, 15]\n",
    "]\n",
    "\n",
    "#\n",
    "sort_by_time = sorted(time_data, key=lambda x: x[3])\n",
    "\n",
    "#\n",
    "print(sort_by_time)\n"
   ]
  },
  {
   "cell_type": "code",
   "execution_count": 24,
   "metadata": {},
   "outputs": [
    {
     "name": "stdout",
     "output_type": "stream",
     "text": [
      "[1, 2, 3, 4, 5]\n"
     ]
    }
   ],
   "source": [
    "#--\n",
    "a = [1, -2, 3, -4, 5]\n",
    "print([abs(x) for x in a])\n",
    "\n",
    "#\n",
    "a = [1, -2, 3, -4, 5]\n",
    "print(list(map(abs, a)))\n"
   ]
  },
  {
   "cell_type": "code",
   "execution_count": 26,
   "metadata": {},
   "outputs": [
    {
     "name": "stdout",
     "output_type": "stream",
     "text": [
      "[[0, 30], [2, 35], [3, 0], [1, 14], [0, 11], [1, 0], [1, 22]]\n"
     ]
    }
   ],
   "source": [
    "#-\n",
    "minute_data = [30, 155, 180, 74, 11, 60, 82]\n",
    "\n",
    "#-\n",
    "h_m_split = lambda x: [x // 60, x % 60]\n",
    "\n",
    "#-\n",
    "h_m_data = [h_m_split(x) for x in minute_data]\n",
    "\n",
    "#-\n",
    "print(h_m_data)"
   ]
  },
  {
   "cell_type": "code",
   "execution_count": 27,
   "metadata": {},
   "outputs": [
    {
     "name": "stdout",
     "output_type": "stream",
     "text": [
      "[1, 3, 5]\n"
     ]
    }
   ],
   "source": [
    "#-\n",
    "a = [1, -2, 3, -4, 5]\n",
    "print([x for x in a if x > 0])\n"
   ]
  },
  {
   "cell_type": "code",
   "execution_count": 28,
   "metadata": {},
   "outputs": [
    {
     "name": "stdout",
     "output_type": "stream",
     "text": [
      "[180, 60]\n"
     ]
    }
   ],
   "source": [
    "#-\n",
    "minute_data = [30, 155, 180, 74, 11, 60, 82]\n",
    "\n",
    "#-\n",
    "just_hour_data = [x for x in minute_data if x % 60 == 0 ]\n",
    "\n",
    "#\n",
    "print(just_hour_data)"
   ]
  },
  {
   "cell_type": "code",
   "execution_count": 29,
   "metadata": {},
   "outputs": [
    {
     "name": "stdout",
     "output_type": "stream",
     "text": [
      "1 9\n",
      "-2 8\n",
      "3 -7\n",
      "-4 -6\n",
      "5 -5\n"
     ]
    }
   ],
   "source": [
    "#-- zip\n",
    "a = [1, -2, 3, -4, 5]\n",
    "b = [9, 8, -7, -6, -5]\n",
    "for x, y in zip(a, b):\n",
    "    print(x, y)\n"
   ]
  },
  {
   "cell_type": "code",
   "execution_count": 30,
   "metadata": {},
   "outputs": [
    {
     "name": "stdout",
     "output_type": "stream",
     "text": [
      "[82, 68, 58, 52, 50]\n"
     ]
    }
   ],
   "source": [
    "#-list\n",
    "a = [1, -2, 3, -4, 5]\n",
    "b = [9, 8, -7, -6, -5]\n",
    "\n",
    "print([x**2 + y**2 for x, y in zip(a, b)])"
   ]
  },
  {
   "cell_type": "code",
   "execution_count": 31,
   "metadata": {},
   "outputs": [
    {
     "name": "stdout",
     "output_type": "stream",
     "text": [
      "[30, 155, 180, 74, 11, 60, 82]\n"
     ]
    }
   ],
   "source": [
    "#-\n",
    "hour   = [ 0,  2, 3,  1,  0, 1,  1]\n",
    "minute = [30, 35, 0, 14, 11, 0, 22]\n",
    "\n",
    "#-\n",
    "h_m_combine = lambda x, y: x*60 + y\n",
    "\n",
    "#-\n",
    "minute_data1 = [h_m_combine(x, y) for x, y in zip(hour, minute)]\n",
    "\n",
    "#\n",
    "print(minute_data1)\n"
   ]
  },
  {
   "cell_type": "code",
   "execution_count": 35,
   "metadata": {},
   "outputs": [
    {
     "name": "stdout",
     "output_type": "stream",
     "text": [
      "1 9\n",
      "1 8\n",
      "-2 9\n",
      "-2 8\n",
      "3 9\n",
      "3 8\n",
      "1 9\n",
      "-2 8\n"
     ]
    }
   ],
   "source": [
    "a = [1, -2, 3]\n",
    "b = [9, 8]\n",
    "\n",
    "#-- same as zip\n",
    "for x in a:\n",
    "    for y in b:\n",
    "        print(x, y)\n",
    "#\n",
    "for x,y in zip(a,b):\n",
    "    print(x,y)\n"
   ]
  },
  {
   "cell_type": "code",
   "execution_count": 36,
   "metadata": {},
   "outputs": [
    {
     "name": "stdout",
     "output_type": "stream",
     "text": [
      "[[1, 9], [1, 8], [-2, 9], [-2, 8], [3, 9], [3, 8]]\n"
     ]
    }
   ],
   "source": [
    "#\n",
    "a = [1, -2, 3]\n",
    "b = [9, 8]\n",
    "\n",
    "print([[x, y] for x in a for y in b])"
   ]
  },
  {
   "cell_type": "code",
   "execution_count": 38,
   "metadata": {},
   "outputs": [
    {
     "name": "stdout",
     "output_type": "stream",
     "text": [
      "[0, 1, 2, 3, 4, 5, 6, 7]\n"
     ]
    }
   ],
   "source": [
    "#\n",
    "fours_place = [0, 1]\n",
    "twos_place  = [0, 1]\n",
    "ones_place  = [0, 1]\n",
    "\n",
    "#-\n",
    "digit = [x*4 + y*2 + z for x in fours_place for y in twos_place for z in ones_place]\n",
    "\n",
    "#\n",
    "print(digit)\n"
   ]
  },
  {
   "cell_type": "code",
   "execution_count": 42,
   "metadata": {},
   "outputs": [
    {
     "name": "stdout",
     "output_type": "stream",
     "text": [
      "{'foo': 2, 'bar': 1, 'pop': 2, 'popo': 1}\n"
     ]
    }
   ],
   "source": [
    "#\n",
    "d = {}\n",
    "lst = [\"foo\", \"bar\", \"pop\", \"pop\", \"foo\", \"popo\"]\n",
    "for key in lst:\n",
    "    #-\n",
    "    if key in d:\n",
    "        d[key] += 1\n",
    "    else:\n",
    "        d[key] = 1\n",
    "\n",
    "print(d)\n"
   ]
  },
  {
   "cell_type": "code",
   "execution_count": 40,
   "metadata": {},
   "outputs": [
    {
     "name": "stdout",
     "output_type": "stream",
     "text": [
      "defaultdict(<class 'int'>, {'foo': 2, 'bar': 1, 'pop': 2, 'popo': 1})\n"
     ]
    }
   ],
   "source": [
    "from collections import defaultdict\n",
    "\n",
    "#-- count redundancy\n",
    "d = defaultdict(int)\n",
    "lst = [\"foo\", \"bar\", \"pop\", \"pop\", \"foo\", \"popo\"]\n",
    "for key in lst:\n",
    "    d[key] += 1\n",
    "\n",
    "print(d)\n"
   ]
  },
  {
   "cell_type": "code",
   "execution_count": 46,
   "metadata": {},
   "outputs": [
    {
     "name": "stdout",
     "output_type": "stream",
     "text": [
      "[(' ', 20), ('e', 18), ('i', 17), ('n', 14), ('l', 12), ('a', 11), ('t', 10), ('c', 7), ('h', 7), ('r', 6)]\n",
      "[('f', 1), ('M', 1), ('x', 1), ('d', 1), ('y', 1), ('N', 1), ('.', 1), ('A', 2), ('(', 2), (')', 2)]\n",
      "[(' ', 20), ('(', 2), (')', 2), (',', 4), ('.', 1), ('A', 2), ('I', 3), ('M', 1), ('N', 1), ('a', 11)]\n"
     ]
    }
   ],
   "source": [
    "from collections import defaultdict\n",
    "\n",
    "#-\n",
    "description = \\\n",
    "\"Artificial intelligence (AI, also machine intelligence, MI) is \" + \\\n",
    "\"intelligence exhibited by machines, rather than \" + \\\n",
    "\"humans or other animals (natural intelligence, NI).\"\n",
    "\n",
    "#-\n",
    "char_freq = defaultdict(int)\n",
    "\n",
    "#-- count\n",
    "for i in description:\n",
    "    char_freq[i] += 1\n",
    "\n",
    "#- sort,  top-10\n",
    "print(sorted(char_freq.items(), key=lambda x: x[1], reverse=True)[:10])\n",
    "print(sorted(char_freq.items(), key=lambda x: x[1], reverse=False)[:10])\n",
    "\n",
    "#-- \n",
    "print(sorted(char_freq.items(), key=lambda x: x[0], reverse=False)[:10])\n"
   ]
  },
  {
   "cell_type": "code",
   "execution_count": 47,
   "metadata": {},
   "outputs": [
    {
     "data": {
      "text/plain": [
       "defaultdict(list, {})"
      ]
     },
     "execution_count": 47,
     "metadata": {},
     "output_type": "execute_result"
    }
   ],
   "source": [
    "from collections import defaultdict\n",
    "defaultdict(list)"
   ]
  },
  {
   "cell_type": "code",
   "execution_count": 56,
   "metadata": {},
   "outputs": [
    {
     "name": "stdout",
     "output_type": "stream",
     "text": [
      "{'apple': [50, 70], 'banana': [120], 'grape': [500, 1000], 'lemon': [150]}\n"
     ]
    }
   ],
   "source": [
    "# \n",
    "d = {}\n",
    "price = [\n",
    "    (\"apple\",  50),\n",
    "    (\"banana\", 120),\n",
    "    (\"grape\",  500),\n",
    "    (\"apple\",  70),\n",
    "    (\"lemon\",  150),\n",
    "    (\"grape\",  1000)\n",
    "]\n",
    "\n",
    "for key, value in price:\n",
    "    #-\n",
    "    if key in d:\n",
    "        d[key].append(value)\n",
    "    else:\n",
    "        d[key] = [value]\n",
    "        \n",
    "print(d)\n"
   ]
  },
  {
   "cell_type": "code",
   "execution_count": 54,
   "metadata": {},
   "outputs": [
    {
     "name": "stdout",
     "output_type": "stream",
     "text": [
      "defaultdict(<class 'list'>, {'apple': [50, 70], 'banana': [120], 'grape': [500, 1000], 'lemon': [150]})\n",
      "[60.0, 120.0, 750.0, 150.0]\n"
     ]
    }
   ],
   "source": [
    "from collections import defaultdict\n",
    "\n",
    "#\n",
    "price = [\n",
    "    (\"apple\", 50),\n",
    "    (\"banana\", 120),\n",
    "    (\"grape\", 500),\n",
    "    (\"apple\", 70),\n",
    "    (\"lemon\", 150),\n",
    "    (\"grape\", 1000)\n",
    "]\n",
    "\n",
    "#\n",
    "d = defaultdict(list)\n",
    "\n",
    "#add values\n",
    "for key, value in price:\n",
    "    d[key].append(value)\n",
    "print(d)\n",
    "\n",
    "#-- average,, \n",
    "print([sum(x)/len(x) for x in d.values()])"
   ]
  },
  {
   "cell_type": "code",
   "execution_count": 56,
   "metadata": {},
   "outputs": [
    {
     "name": "stdout",
     "output_type": "stream",
     "text": [
      "Counter({'foo': 2, 'pop': 2, 'bar': 1, 'popo': 1})\n"
     ]
    }
   ],
   "source": [
    "#\n",
    "from collections import Counter\n",
    "\n",
    "# 딕셔너리 요소의 출현 횟수를 기록합니다\n",
    "lst = [\"foo\", \"bar\", \"pop\", \"pop\", \"foo\", \"popo\"]\n",
    "d = Counter(lst)\n",
    "print(d)\n"
   ]
  },
  {
   "cell_type": "code",
   "execution_count": 58,
   "metadata": {
    "scrolled": true
   },
   "outputs": [
    {
     "name": "stdout",
     "output_type": "stream",
     "text": [
      "[(' ', 9), ('s', 6), ('o', 4), ('t', 4), ('a', 4)]\n",
      "[(' ', 9)]\n"
     ]
    }
   ],
   "source": [
    "#--\n",
    "d = Counter(\"A Counter is a dict subclass for counting hashable objects.\")\n",
    "\n",
    "#\n",
    "print(d.most_common(5))\n",
    "print(d.most_common(1))"
   ]
  },
  {
   "cell_type": "code",
   "execution_count": 63,
   "metadata": {},
   "outputs": [
    {
     "name": "stdout",
     "output_type": "stream",
     "text": [
      "[(' ', 20), ('e', 18), ('i', 17), ('n', 14), ('l', 12), ('a', 11), ('t', 10), ('c', 7), ('h', 7), ('r', 6)]\n"
     ]
    }
   ],
   "source": [
    "from collections import Counter\n",
    "\n",
    "#\n",
    "description = \\\n",
    "\"Artificial intelligence (AI, also machine intelligence, MI) is \" + \\\n",
    "\"intelligence exhibited by machines, rather than \" + \\\n",
    "\"humans or other animals (natural intelligence, NI).\" \n",
    "\n",
    "#\n",
    "char_freq = Counter(description)\n",
    "\n",
    "#\n",
    "print(char_freq.most_common(10))"
   ]
  },
  {
   "cell_type": "markdown",
   "metadata": {},
   "source": [
    "###  연습 문제"
   ]
  },
  {
   "cell_type": "code",
   "execution_count": 64,
   "metadata": {},
   "outputs": [
    {
     "name": "stdout",
     "output_type": "stream",
     "text": [
      "계산 결과\n",
      "4.0\n"
     ]
    }
   ],
   "source": [
    "# if / lambda를 사용\n",
    "# (if a<8: *5,  if a>=8: /2)\n",
    "a = 8\n",
    "basic = lambda x: x*5 if x<8 else x/2\n",
    "print('계산 결과')\n",
    "print(basic(a))"
   ]
  },
  {
   "cell_type": "code",
   "execution_count": 66,
   "metadata": {},
   "outputs": [
    {
     "name": "stdout",
     "output_type": "stream",
     "text": [
      "\n",
      "월\n",
      "[1, 5, 8, 8, 4]\n"
     ]
    }
   ],
   "source": [
    "import re\n",
    "\n",
    "#--\n",
    "time_list = [\n",
    "    \"2018/1/23_19:40\",\n",
    "    \"2016/5/7_5:25\",\n",
    "    \"2018/8/21_10:50\",\n",
    "    \"2017/8/9_7:5\",\n",
    "    \"2015/4/1_22:15\"\n",
    "]\n",
    "\n",
    "#-- month\n",
    "get_month = lambda x: int(re.split(\"[/_:]\",x)[1])\n",
    "\n",
    "# 각 요소의 \"월\"을 꺼내 배열로 만듭니다\n",
    "month_list = list(map(get_month, time_list))\n",
    "\n",
    "# 출력하세요\n",
    "print()\n",
    "print('월')\n",
    "print(month_list)\n"
   ]
  },
  {
   "cell_type": "code",
   "execution_count": 67,
   "metadata": {},
   "outputs": [
    {
     "name": "stdout",
     "output_type": "stream",
     "text": [
      "\n",
      "부피\n",
      "[120, 15, 1530, 468, 616, 76, 3078]\n"
     ]
    }
   ],
   "source": [
    "#-\n",
    "length = [ 3,  1,  6,  2,  8,  2,  9]\n",
    "side   = [ 4,  1, 15, 18,  7,  2, 19]\n",
    "height = [10, 15, 17, 13, 11, 19, 18]\n",
    "\n",
    "#\n",
    "volume = [x * y * z for x, y,z in zip(length, side, height)]\n",
    "\n",
    "#\n",
    "print()\n",
    "print('부피')\n",
    "print(volume)\n"
   ]
  },
  {
   "cell_type": "code",
   "execution_count": 68,
   "metadata": {},
   "outputs": [
    {
     "name": "stdout",
     "output_type": "stream",
     "text": [
      "\n",
      "average of value\n",
      "[510.0, 300.0, 450.0, 170.0, 225.0, 1000.0]\n",
      "\n",
      "과일 이름\n",
      "Counter({'strawberry': 4, 'pear': 2, 'peach': 2, 'lemon': 2, 'apple': 1, 'grape': 1})\n"
     ]
    }
   ],
   "source": [
    "#-\n",
    "from collections import defaultdict\n",
    "from collections import Counter\n",
    "\n",
    "#\n",
    "price = [\n",
    "    (\"strawberry\", 520),\n",
    "    (\"pear\",       200),\n",
    "    (\"peach\",      400),\n",
    "    (\"apple\",      170),\n",
    "    (\"lemon\",      150),\n",
    "    (\"grape\",      1000),\n",
    "    (\"strawberry\", 750),\n",
    "    (\"pear\",       400),\n",
    "    (\"peach\",      500),\n",
    "    (\"strawberry\", 70),\n",
    "    (\"lemon\",      300),\n",
    "    (\"strawberry\", 700)\n",
    "]\n",
    "\n",
    "#-\n",
    "d = defaultdict(list)\n",
    "\n",
    "#-\n",
    "price_key_count = []\n",
    "for key, value in price:\n",
    "    d[key].append(value)\n",
    "    price_key_count.append(key)\n",
    "\n",
    "#-\n",
    "print()\n",
    "print('average of value')\n",
    "print([sum(x)/len(x) for x in d.values()])\n",
    "\n",
    "#-\n",
    "key_count = Counter(price_key_count)\n",
    "print()\n",
    "print('과일 이름')\n",
    "print(key_count)\n"
   ]
  },
  {
   "cell_type": "code",
   "execution_count": null,
   "metadata": {},
   "outputs": [],
   "source": []
  }
 ],
 "metadata": {
  "kernelspec": {
   "display_name": "Python 3",
   "language": "python",
   "name": "python3"
  },
  "language_info": {
   "codemirror_mode": {
    "name": "ipython",
    "version": 3
   },
   "file_extension": ".py",
   "mimetype": "text/x-python",
   "name": "python",
   "nbconvert_exporter": "python",
   "pygments_lexer": "ipython3",
   "version": "3.7.6"
  }
 },
 "nbformat": 4,
 "nbformat_minor": 2
}
