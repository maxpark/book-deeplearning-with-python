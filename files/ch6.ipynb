{
 "cells": [
  {
   "cell_type": "markdown",
   "metadata": {},
   "source": [
    "## len"
   ]
  },
  {
   "cell_type": "code",
   "execution_count": 7,
   "metadata": {},
   "outputs": [
    {
     "data": {
      "text/plain": [
       "3"
      ]
     },
     "execution_count": 7,
     "metadata": {},
     "output_type": "execute_result"
    }
   ],
   "source": [
    "len('aaa')"
   ]
  },
  {
   "cell_type": "code",
   "execution_count": 8,
   "metadata": {},
   "outputs": [
    {
     "data": {
      "text/plain": [
       "3"
      ]
     },
     "execution_count": 8,
     "metadata": {},
     "output_type": "execute_result"
    }
   ],
   "source": [
    "len(\"aaa\")"
   ]
  },
  {
   "cell_type": "code",
   "execution_count": 9,
   "metadata": {},
   "outputs": [
    {
     "data": {
      "text/plain": [
       "3"
      ]
     },
     "execution_count": 9,
     "metadata": {},
     "output_type": "execute_result"
    }
   ],
   "source": [
    "len([1,2,3])"
   ]
  },
  {
   "cell_type": "code",
   "execution_count": 10,
   "metadata": {},
   "outputs": [
    {
     "ename": "TypeError",
     "evalue": "object of type 'int' has no len()",
     "output_type": "error",
     "traceback": [
      "\u001b[0;31m---------------------------------------------------------------------------\u001b[0m",
      "\u001b[0;31mTypeError\u001b[0m                                 Traceback (most recent call last)",
      "\u001b[0;32m<ipython-input-10-00f8c8804135>\u001b[0m in \u001b[0;36m<module>\u001b[0;34m\u001b[0m\n\u001b[0;32m----> 1\u001b[0;31m \u001b[0mlen\u001b[0m\u001b[0;34m(\u001b[0m\u001b[0;36m3\u001b[0m\u001b[0;34m)\u001b[0m\u001b[0;34m\u001b[0m\u001b[0;34m\u001b[0m\u001b[0m\n\u001b[0m\u001b[1;32m      2\u001b[0m \u001b[0mlen\u001b[0m\u001b[0;34m(\u001b[0m\u001b[0;36m2.1\u001b[0m\u001b[0;34m)\u001b[0m\u001b[0;34m\u001b[0m\u001b[0;34m\u001b[0m\u001b[0m\n\u001b[1;32m      3\u001b[0m \u001b[0mlen\u001b[0m\u001b[0;34m(\u001b[0m\u001b[0;32mTrue\u001b[0m\u001b[0;34m)\u001b[0m\u001b[0;34m\u001b[0m\u001b[0;34m\u001b[0m\u001b[0m\n",
      "\u001b[0;31mTypeError\u001b[0m: object of type 'int' has no len()"
     ]
    }
   ],
   "source": [
    "len(3)\n",
    "len(2.1)\n",
    "len(True)"
   ]
  },
  {
   "cell_type": "code",
   "execution_count": 11,
   "metadata": {},
   "outputs": [],
   "source": [
    "vege = \"potato\"\n",
    "n = [4,5,6,7,6]"
   ]
  },
  {
   "cell_type": "code",
   "execution_count": 12,
   "metadata": {},
   "outputs": [
    {
     "data": {
      "text/plain": [
       "6"
      ]
     },
     "execution_count": 12,
     "metadata": {},
     "output_type": "execute_result"
    }
   ],
   "source": [
    "len(vege)"
   ]
  },
  {
   "cell_type": "code",
   "execution_count": 13,
   "metadata": {},
   "outputs": [
    {
     "data": {
      "text/plain": [
       "5"
      ]
     },
     "execution_count": 13,
     "metadata": {},
     "output_type": "execute_result"
    }
   ],
   "source": [
    "len(n)"
   ]
  },
  {
   "cell_type": "markdown",
   "metadata": {},
   "source": [
    "## append"
   ]
  },
  {
   "cell_type": "code",
   "execution_count": 14,
   "metadata": {},
   "outputs": [
    {
     "name": "stdout",
     "output_type": "stream",
     "text": [
      "['a', 'b', 'c', 'd', 'e', 'f']\n"
     ]
    }
   ],
   "source": [
    "alphabet = [\"a\",\"b\",\"c\",\"d\",\"e\"]\n",
    "alphabet.append(\"f\")\n",
    "print(alphabet)"
   ]
  },
  {
   "cell_type": "markdown",
   "metadata": {},
   "source": [
    "## sorted"
   ]
  },
  {
   "cell_type": "code",
   "execution_count": 11,
   "metadata": {},
   "outputs": [
    {
     "name": "stdout",
     "output_type": "stream",
     "text": [
      "[1, 2, 3, 4, 5]\n",
      "[1, 5, 3, 4, 2]\n"
     ]
    }
   ],
   "source": [
    "number = [1,5,3,4,2]\n",
    "print(sorted(number))\n",
    "print(number)"
   ]
  },
  {
   "cell_type": "markdown",
   "metadata": {},
   "source": [
    "## cf.  sort  ,,, \n",
    "#### destructive method !"
   ]
  },
  {
   "cell_type": "code",
   "execution_count": 13,
   "metadata": {},
   "outputs": [
    {
     "name": "stdout",
     "output_type": "stream",
     "text": [
      "[1, 2, 3, 4, 5]\n"
     ]
    }
   ],
   "source": [
    "number = [1,5,3,4,2]\n",
    "number.sort()\n",
    "print(number)"
   ]
  },
  {
   "cell_type": "code",
   "execution_count": 18,
   "metadata": {},
   "outputs": [
    {
     "name": "stdout",
     "output_type": "stream",
     "text": [
      "['b', 'a', 'e', 'c', 'd']\n"
     ]
    }
   ],
   "source": [
    "alphabet = [\"b\",\"a\",\"e\",\"c\",\"d\"]\n",
    "sorted(alphabet)\n",
    "print(alphabet)"
   ]
  },
  {
   "cell_type": "code",
   "execution_count": 19,
   "metadata": {},
   "outputs": [
    {
     "name": "stdout",
     "output_type": "stream",
     "text": [
      "['a', 'b', 'c', 'd', 'e']\n"
     ]
    }
   ],
   "source": [
    "alphabet = [\"b\",\"a\",\"e\",\"c\",\"d\"]\n",
    "alphabet.sort()\n",
    "print(alphabet)"
   ]
  },
  {
   "cell_type": "markdown",
   "metadata": {},
   "source": [
    "## upper, count"
   ]
  },
  {
   "cell_type": "code",
   "execution_count": 17,
   "metadata": {},
   "outputs": [
    {
     "name": "stdout",
     "output_type": "stream",
     "text": [
      "TOKYO\n",
      "2\n"
     ]
    }
   ],
   "source": [
    "city = \"Tokyo\"\n",
    "print(city.upper())\n",
    "print(city.count(\"o\"))"
   ]
  },
  {
   "cell_type": "code",
   "execution_count": 18,
   "metadata": {},
   "outputs": [
    {
     "name": "stdout",
     "output_type": "stream",
     "text": [
      "elephant\n",
      "ELEPHANT\n"
     ]
    }
   ],
   "source": [
    "animal = \"elephant\"\n",
    "animal_big = animal.upper()\n",
    "print (animal)\n",
    "print(animal_big)"
   ]
  },
  {
   "cell_type": "code",
   "execution_count": 19,
   "metadata": {},
   "outputs": [
    {
     "name": "stdout",
     "output_type": "stream",
     "text": [
      "2\n"
     ]
    }
   ],
   "source": [
    "print(animal.count(\"e\"))"
   ]
  },
  {
   "cell_type": "markdown",
   "metadata": {},
   "source": [
    "## format"
   ]
  },
  {
   "cell_type": "code",
   "execution_count": 20,
   "metadata": {},
   "outputs": [
    {
     "name": "stdout",
     "output_type": "stream",
     "text": [
      "Banana는 Yellow입니다\n"
     ]
    }
   ],
   "source": [
    "print(\"{}는 {}입니다\" .format(\"Banana\", \"Yellow\"))"
   ]
  },
  {
   "cell_type": "code",
   "execution_count": 21,
   "metadata": {},
   "outputs": [
    {
     "name": "stdout",
     "output_type": "stream",
     "text": [
      "apple is red\n"
     ]
    }
   ],
   "source": [
    "fruit = \"apple\"\n",
    "color = \"red\"\n",
    "print (\"{} is {}\" .format(fruit, color))"
   ]
  },
  {
   "cell_type": "markdown",
   "metadata": {},
   "source": [
    "## index"
   ]
  },
  {
   "cell_type": "code",
   "execution_count": 21,
   "metadata": {},
   "outputs": [
    {
     "name": "stdout",
     "output_type": "stream",
     "text": [
      "0\n",
      "3\n",
      "1\n"
     ]
    }
   ],
   "source": [
    "alphabet = [\"a\",\"b\",\"c\",\"d\",\"e\"]\n",
    "print(alphabet.index(\"a\"))\n",
    "print(alphabet.index(\"d\"))\n",
    "print(alphabet.count(\"d\"))"
   ]
  },
  {
   "cell_type": "code",
   "execution_count": 23,
   "metadata": {},
   "outputs": [
    {
     "name": "stdout",
     "output_type": "stream",
     "text": [
      "5\n",
      "3\n"
     ]
    }
   ],
   "source": [
    "n = [3,6,8,6,3,2,4,6]\n",
    "print(n.index(2))\n",
    "print(n.count(6))"
   ]
  },
  {
   "cell_type": "markdown",
   "metadata": {},
   "source": [
    "## sort"
   ]
  },
  {
   "cell_type": "code",
   "execution_count": 31,
   "metadata": {},
   "outputs": [
    {
     "name": "stdout",
     "output_type": "stream",
     "text": [
      "[1, 2, 10, 20]\n"
     ]
    }
   ],
   "source": [
    "#lisr\n",
    "list = [1,10,2,20]\n",
    "list.sort()\n",
    "print(list)"
   ]
  },
  {
   "cell_type": "code",
   "execution_count": 35,
   "metadata": {},
   "outputs": [
    {
     "name": "stdout",
     "output_type": "stream",
     "text": [
      "[20, 10, 2, 1]\n"
     ]
    }
   ],
   "source": [
    "#reverse\n",
    "list.reverse()\n",
    "print(list)"
   ]
  },
  {
   "cell_type": "code",
   "execution_count": 36,
   "metadata": {},
   "outputs": [
    {
     "name": "stdout",
     "output_type": "stream",
     "text": [
      "[2, 24, 26, 37, 53, 69]\n"
     ]
    }
   ],
   "source": [
    "n = [53,26,37,69,24,2]\n",
    "n.sort()\n",
    "print(n)"
   ]
  },
  {
   "cell_type": "code",
   "execution_count": 37,
   "metadata": {},
   "outputs": [
    {
     "name": "stdout",
     "output_type": "stream",
     "text": [
      "[69, 53, 37, 26, 24, 2]\n"
     ]
    }
   ],
   "source": [
    "n.reverse()\n",
    "print(n)"
   ]
  },
  {
   "cell_type": "markdown",
   "metadata": {},
   "source": [
    "## function"
   ]
  },
  {
   "cell_type": "code",
   "execution_count": 38,
   "metadata": {},
   "outputs": [
    {
     "name": "stdout",
     "output_type": "stream",
     "text": [
      "aaaa\n"
     ]
    }
   ],
   "source": [
    "def sing():\n",
    "    print(\"aaaa\")\n",
    "sing()"
   ]
  },
  {
   "cell_type": "code",
   "execution_count": 41,
   "metadata": {},
   "outputs": [
    {
     "name": "stdout",
     "output_type": "stream",
     "text": [
      "I am hong\n"
     ]
    }
   ],
   "source": [
    "def introduce():\n",
    "    print(\"I am hong\")\n",
    "    \n",
    "introduce()"
   ]
  },
  {
   "cell_type": "markdown",
   "metadata": {},
   "source": [
    "## parameter"
   ]
  },
  {
   "cell_type": "code",
   "execution_count": 47,
   "metadata": {},
   "outputs": [
    {
     "name": "stdout",
     "output_type": "stream",
     "text": [
      "3 is what\n"
     ]
    }
   ],
   "source": [
    "def introduce2(n):\n",
    "    print(n + \" is what\")\n",
    "    \n",
    "introduce2(\"3\")"
   ]
  },
  {
   "cell_type": "code",
   "execution_count": 48,
   "metadata": {},
   "outputs": [
    {
     "name": "stdout",
     "output_type": "stream",
     "text": [
      "13\n"
     ]
    }
   ],
   "source": [
    "def introduce3(n):\n",
    "    print(n + 10)\n",
    "    \n",
    "introduce3(3)"
   ]
  },
  {
   "cell_type": "code",
   "execution_count": 50,
   "metadata": {},
   "outputs": [
    {
     "name": "stdout",
     "output_type": "stream",
     "text": [
      "9\n",
      "27\n"
     ]
    }
   ],
   "source": [
    "def mul2(n):\n",
    "    print(n*n)\n",
    "\n",
    "def mul3(n):\n",
    "    print(n**3)\n",
    "    \n",
    "mul2(3)\n",
    "mul3(3)"
   ]
  },
  {
   "cell_type": "code",
   "execution_count": 51,
   "metadata": {},
   "outputs": [
    {
     "name": "stdout",
     "output_type": "stream",
     "text": [
      "first: aaa second: bbb end\n"
     ]
    }
   ],
   "source": [
    "def intro(n1, n2):\n",
    "    print(\"first: \" + n1, \"second: \" + n2 + \" end\")\n",
    "\n",
    "intro(\"aaa\", \"bbb\")\n"
   ]
  },
  {
   "cell_type": "code",
   "execution_count": 53,
   "metadata": {},
   "outputs": [
    {
     "name": "stdout",
     "output_type": "stream",
     "text": [
      "I am mx.  22 years old\n"
     ]
    }
   ],
   "source": [
    "def f1(n, age):\n",
    "    print (\"I am \" + n + \".  \" + str(age) + \" years old\")\n",
    "    \n",
    "f1(\"mx\", 22)"
   ]
  },
  {
   "cell_type": "code",
   "execution_count": 56,
   "metadata": {},
   "outputs": [
    {
     "name": "stdout",
     "output_type": "stream",
     "text": [
      "name:aa age: 3\n",
      "name:a age: 33\n"
     ]
    }
   ],
   "source": [
    "def f2(name=\"max\", age=3):\n",
    "    print(\"name:\" + name + \" age: \" + str(age) )\n",
    "    \n",
    "f2(\"aa\")\n",
    "f2(\"a\",33)"
   ]
  },
  {
   "cell_type": "markdown",
   "metadata": {},
   "source": [
    "## return"
   ]
  },
  {
   "cell_type": "code",
   "execution_count": 60,
   "metadata": {},
   "outputs": [
    {
     "name": "stdout",
     "output_type": "stream",
     "text": [
      "name is kim Max\n"
     ]
    }
   ],
   "source": [
    "def f3(n1=\"Park\", n2=\"Max\"):\n",
    "    v_return = \"name is \" + n1 + \" \" + n2\n",
    "    return v_return\n",
    "\n",
    "print(f3(\"kim\"))\n"
   ]
  },
  {
   "cell_type": "code",
   "execution_count": 61,
   "metadata": {},
   "outputs": [
    {
     "data": {
      "text/plain": [
       "0.75"
      ]
     },
     "execution_count": 61,
     "metadata": {},
     "output_type": "execute_result"
    }
   ],
   "source": [
    "def cal(w, h):\n",
    "    bmi = w / h**2\n",
    "    return bmi\n",
    "\n",
    "cal(3,2)"
   ]
  },
  {
   "cell_type": "code",
   "execution_count": 65,
   "metadata": {},
   "outputs": [
    {
     "data": {
      "text/plain": [
       "23.875114784205696"
      ]
     },
     "execution_count": 65,
     "metadata": {},
     "output_type": "execute_result"
    }
   ],
   "source": [
    "cal(65, 1.65)"
   ]
  },
  {
   "cell_type": "markdown",
   "metadata": {},
   "source": [
    "## function import"
   ]
  },
  {
   "cell_type": "code",
   "execution_count": 66,
   "metadata": {},
   "outputs": [
    {
     "name": "stdout",
     "output_type": "stream",
     "text": [
      "1587212108.3373592\n"
     ]
    }
   ],
   "source": [
    "import time\n",
    "now_time = time.time()\n",
    "print (now_time)"
   ]
  },
  {
   "cell_type": "markdown",
   "metadata": {},
   "source": [
    "### from PACKAGE import MODULE"
   ]
  },
  {
   "cell_type": "code",
   "execution_count": 67,
   "metadata": {},
   "outputs": [
    {
     "name": "stdout",
     "output_type": "stream",
     "text": [
      "1587212202.1309047\n"
     ]
    }
   ],
   "source": [
    "from time import time\n",
    "now_time2 = time()\n",
    "print (now_time2)"
   ]
  },
  {
   "cell_type": "markdown",
   "metadata": {},
   "source": [
    "# CLASS,  Variables(Member), Function(Method)"
   ]
  },
  {
   "cell_type": "code",
   "execution_count": 87,
   "metadata": {},
   "outputs": [
    {
     "name": "stdout",
     "output_type": "stream",
     "text": [
      "5\n"
     ]
    }
   ],
   "source": [
    "class myprod:\n",
    "    def __init__(self, name, price, stock):\n",
    "        self.name = name\n",
    "        self.price = price\n",
    "        self.stock = stock\n",
    "        self.sales = 0\n",
    "        \n",
    "product1 = myprod(\"cake\", 10, 5)\n",
    "print(product1.stock)"
   ]
  },
  {
   "cell_type": "code",
   "execution_count": 118,
   "metadata": {},
   "outputs": [
    {
     "ename": "TypeError",
     "evalue": "__init__() takes 4 positional arguments but 5 were given",
     "output_type": "error",
     "traceback": [
      "\u001b[0;31m---------------------------------------------------------------------------\u001b[0m",
      "\u001b[0;31mTypeError\u001b[0m                                 Traceback (most recent call last)",
      "\u001b[0;32m<ipython-input-118-424615d5d2f2>\u001b[0m in \u001b[0;36m<module>\u001b[0;34m\u001b[0m\n\u001b[1;32m     28\u001b[0m         \u001b[0mprint\u001b[0m\u001b[0;34m(\u001b[0m\u001b[0mmessage\u001b[0m\u001b[0;34m)\u001b[0m\u001b[0;34m\u001b[0m\u001b[0;34m\u001b[0m\u001b[0m\n\u001b[1;32m     29\u001b[0m \u001b[0;34m\u001b[0m\u001b[0m\n\u001b[0;32m---> 30\u001b[0;31m \u001b[0mproduct_2\u001b[0m \u001b[0;34m=\u001b[0m \u001b[0mMyProduct\u001b[0m\u001b[0;34m(\u001b[0m\u001b[0;34m\"phone\"\u001b[0m\u001b[0;34m,\u001b[0m \u001b[0;36m30000\u001b[0m\u001b[0;34m,\u001b[0m \u001b[0;36m100\u001b[0m\u001b[0;34m,\u001b[0m \u001b[0;36m1\u001b[0m\u001b[0;34m)\u001b[0m\u001b[0;34m\u001b[0m\u001b[0;34m\u001b[0m\u001b[0m\n\u001b[0m\u001b[1;32m     31\u001b[0m \u001b[0mproduct_2\u001b[0m\u001b[0;34m.\u001b[0m\u001b[0mdiscount\u001b[0m\u001b[0;34m(\u001b[0m\u001b[0;36m5000\u001b[0m\u001b[0;34m)\u001b[0m\u001b[0;34m\u001b[0m\u001b[0;34m\u001b[0m\u001b[0m\n\u001b[1;32m     32\u001b[0m \u001b[0mproduct_2\u001b[0m\u001b[0;34m.\u001b[0m\u001b[0msummary\u001b[0m\u001b[0;34m(\u001b[0m\u001b[0;34m)\u001b[0m\u001b[0;34m\u001b[0m\u001b[0;34m\u001b[0m\u001b[0m\n",
      "\u001b[0;31mTypeError\u001b[0m: __init__() takes 4 positional arguments but 5 were given"
     ]
    }
   ],
   "source": [
    "class MyProduct:\n",
    "    def __init__(self, name, price, stock):\n",
    "        self.name = name\n",
    "        self.price = price\n",
    "        self.stock = stock\n",
    "        self.sales = 0\n",
    "        \n",
    "    def buy_up(self, n):\n",
    "        self.stock += n\n",
    "        \n",
    "    def sell(self, n):\n",
    "        self.stock -= n\n",
    "        self.sales += n*self.price\n",
    "    \n",
    "        \n",
    "    def get_name(self):\n",
    "        return self.name\n",
    "    \n",
    "    def discount(self, n):\n",
    "        self.price -= n\n",
    "        \n",
    "        \n",
    "    def summary(self):\n",
    "        message = \"summary(). \\n name: \" + self.name + \\\n",
    "        \"\\n price: \" + str(self.price) + \\\n",
    "        \"\\n stock: \" + str(self.stock) + \\\n",
    "        \"\\n sales: \" + str(self.sales)\n",
    "        print(message)\n",
    "          \n",
    "product_2 = MyProduct(\"phone\", 30000, 100, 1)\n",
    "product_2.discount(5000)\n",
    "product_2.summary()\n",
    "    "
   ]
  },
  {
   "cell_type": "markdown",
   "metadata": {},
   "source": [
    "## Class inheritance, override,,"
   ]
  },
  {
   "cell_type": "code",
   "execution_count": 123,
   "metadata": {},
   "outputs": [],
   "source": [
    "class MyProductSalesTax(MyProduct):\n",
    "    def __init__(self, name, price, stock, tax_rate):\n",
    "        super().__init__(name, price, stock)\n",
    "        self.tax_rate = tax_rate\n",
    "        \n",
    "    def get_name(self):\n",
    "        return self.name + \" include tax\"\n",
    "    \n",
    "    def discount(self, n):\n",
    "        self.price -= n\n",
    "        \n",
    "    def get_price_with_tax(self):\n",
    "        return int(self.price * (1+self.tax_rate))\n",
    "        \n",
    "        \n",
    "    def summary(self):\n",
    "        message = \"summary(). \\n name: \" + self.name + \\\n",
    "        \"\\n [price]: \" + str(self.price) + \\\n",
    "        \"\\n [stock]: \" + str(self.stock) + \\\n",
    "        \"\\n [sales]: \" + str(self.sales)\n",
    "        print(message)"
   ]
  },
  {
   "cell_type": "code",
   "execution_count": 124,
   "metadata": {},
   "outputs": [
    {
     "name": "stdout",
     "output_type": "stream",
     "text": [
      "phone include tax\n",
      "33000\n",
      "summary(). \n",
      " name: phone\n",
      " [price]: 30000\n",
      " [stock]: 100\n",
      " [sales]: 0\n"
     ]
    }
   ],
   "source": [
    "product_3 = MyProductSalesTax(\"phone\", 30000, 100, 0.1)\n",
    "print(product_3.get_name())\n",
    "print(product_3.get_price_with_tax())\n",
    "product_3.summary()"
   ]
  },
  {
   "cell_type": "markdown",
   "metadata": {},
   "source": [
    "## String format "
   ]
  },
  {
   "cell_type": "code",
   "execution_count": 125,
   "metadata": {},
   "outputs": [
    {
     "name": "stdout",
     "output_type": "stream",
     "text": [
      "pi : 3.141592\n",
      "pi2: 3\n",
      "pi3: 3.14\n"
     ]
    }
   ],
   "source": [
    "pi = 3.141592\n",
    "print(\"pi : %f\" % pi)\n",
    "print(\"pi2: %d\" % pi)\n",
    "print(\"pi3: %.2f\" %pi)"
   ]
  },
  {
   "cell_type": "code",
   "execution_count": 127,
   "metadata": {},
   "outputs": [
    {
     "name": "stdout",
     "output_type": "stream",
     "text": [
      "BMI is 23.8751\n"
     ]
    }
   ],
   "source": [
    "def bmi(h, w):\n",
    "    return w / h**2\n",
    "print(\"BMI is %.4f\" % bmi(1.65, 65))"
   ]
  },
  {
   "cell_type": "code",
   "execution_count": 130,
   "metadata": {},
   "outputs": [
    {
     "name": "stdout",
     "output_type": "stream",
     "text": [
      "5\n",
      "7\n"
     ]
    }
   ],
   "source": [
    "def chk_character(obj, character):\n",
    "    return obj.count(character)\n",
    "\n",
    "print(chk_character([1,3,4,5,6,4,3,2,1,3,3,4,3,], 3))\n",
    "print(chk_character(\"adakdidekfiddfdwqlksjd\", \"d\"))    "
   ]
  },
  {
   "cell_type": "markdown",
   "metadata": {},
   "source": [
    "## Binary Search"
   ]
  },
  {
   "cell_type": "code",
   "execution_count": 133,
   "metadata": {},
   "outputs": [
    {
     "name": "stdout",
     "output_type": "stream",
     "text": [
      "10 is 9\n"
     ]
    }
   ],
   "source": [
    "def binary_search(numbers, target_number):\n",
    "    min = 0\n",
    "    max = len(numbers)\n",
    "    while min <= max:\n",
    "        mid = (min+max)//2\n",
    "        if numbers[mid]==target_number:\n",
    "            print(\"{1} is {0}\" .format(mid, target_number))\n",
    "            break\n",
    "        elif numbers[mid]<target_number:\n",
    "            min = mid+1\n",
    "        else:\n",
    "            max = mid -1\n",
    "            \n",
    "    \n",
    "    \n",
    "    \n",
    "numbers = [1,2,3,4,5,6,7,8,9,10,11,12,13,14,15]\n",
    "target_number = 10\n",
    "binary_search(numbers, target_number)"
   ]
  },
  {
   "cell_type": "code",
   "execution_count": null,
   "metadata": {},
   "outputs": [],
   "source": []
  }
 ],
 "metadata": {
  "kernelspec": {
   "display_name": "Python 3",
   "language": "python",
   "name": "python3"
  },
  "language_info": {
   "codemirror_mode": {
    "name": "ipython",
    "version": 3
   },
   "file_extension": ".py",
   "mimetype": "text/x-python",
   "name": "python",
   "nbconvert_exporter": "python",
   "pygments_lexer": "ipython3",
   "version": "3.7.6"
  }
 },
 "nbformat": 4,
 "nbformat_minor": 4
}
