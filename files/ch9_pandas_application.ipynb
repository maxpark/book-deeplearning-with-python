{
 "cells": [
  {
   "cell_type": "code",
   "execution_count": 15,
   "metadata": {},
   "outputs": [],
   "source": [
    "import numpy as np\n",
    "import pandas as pd"
   ]
  },
  {
   "cell_type": "markdown",
   "metadata": {},
   "source": [
    "## DataFrame 연결"
   ]
  },
  {
   "cell_type": "markdown",
   "metadata": {},
   "source": [
    "### 인덱스나 컬럼이 일치하는 DataFrame 간의 연결"
   ]
  },
  {
   "cell_type": "code",
   "execution_count": 16,
   "metadata": {},
   "outputs": [
    {
     "name": "stdout",
     "output_type": "stream",
     "text": [
      "   apple  orange  banana\n",
      "1     45      68      37\n",
      "2     48      10      88\n",
      "3     65      84      71\n",
      "4     68      22      89\n",
      "1     38      76      17\n",
      "2     13       6       2\n",
      "3     73      80      77\n",
      "4     10      65      72\n",
      "   apple  orange  banana  apple  orange  banana\n",
      "1     45      68      37     38      76      17\n",
      "2     48      10      88     13       6       2\n",
      "3     65      84      71     73      80      77\n",
      "4     68      22      89     10      65      72\n"
     ]
    }
   ],
   "source": [
    "#\n",
    "def make_random_df(index, columns, seed):\n",
    "    np.random.seed(seed)\n",
    "    df = pd.DataFrame()\n",
    "    for column in columns:\n",
    "        df[column] = np.random.choice(range(1,101), len(index))\n",
    "    df.index = index\n",
    "    return df\n",
    "\n",
    "#\n",
    "columns = [\"apple\", \"orange\", \"banana\"]\n",
    "df_data1 = make_random_df(range(1,5), columns, 0)\n",
    "df_data2 = make_random_df(range(1,5), columns, 1)\n",
    "\n",
    "#-- vertical concatenate\n",
    "df1 = pd.concat([df_data1, df_data2], axis=0)\n",
    "#-- horizontal concatenate\n",
    "df2 = pd.concat([df_data1, df_data2], axis=1)\n",
    "                 \n",
    "print(df1)\n",
    "print(df2)"
   ]
  },
  {
   "cell_type": "markdown",
   "metadata": {},
   "source": [
    "### 인덱스나 컬럼이 일치하는 않는 DataFrame 간의 연결"
   ]
  },
  {
   "cell_type": "code",
   "execution_count": 17,
   "metadata": {},
   "outputs": [
    {
     "name": "stdout",
     "output_type": "stream",
     "text": [
      "   apple  orange  banana  kiwifruit\n",
      "1   45.0      68      37        NaN\n",
      "2   48.0      10      88        NaN\n",
      "3   65.0      84      71        NaN\n",
      "4   68.0      22      89        NaN\n",
      "1    NaN      38      17       76.0\n",
      "3    NaN      13       2        6.0\n",
      "5    NaN      73      77       80.0\n",
      "7    NaN      10      72       65.0\n",
      "   apple  orange  banana  orange  kiwifruit  banana\n",
      "1   45.0    68.0    37.0    38.0       76.0    17.0\n",
      "2   48.0    10.0    88.0     NaN        NaN     NaN\n",
      "3   65.0    84.0    71.0    13.0        6.0     2.0\n",
      "4   68.0    22.0    89.0     NaN        NaN     NaN\n",
      "5    NaN     NaN     NaN    73.0       80.0    77.0\n",
      "7    NaN     NaN     NaN    10.0       65.0    72.0\n"
     ]
    }
   ],
   "source": [
    "#\n",
    "def make_random_df(index, columns, seed):\n",
    "    np.random.seed(seed)\n",
    "    df = pd.DataFrame()\n",
    "    for column in columns:\n",
    "        df[column] = np.random.choice(range(1,101), len(index))\n",
    "    df.index = index\n",
    "    return df\n",
    "\n",
    "#\n",
    "columns1 = [\"apple\", \"orange\", \"banana\"]\n",
    "columns2 = [\"orange\", \"kiwifruit\", \"banana\"]\n",
    "#\n",
    "df_data1 = make_random_df(range(1,5), columns1, 0)\n",
    "df_data2 = make_random_df(np.arange(1,8,2), columns2, 1)\n",
    "\n",
    "#-- vertical concatenate\n",
    "df1 = pd.concat([df_data1, df_data2], axis=0)\n",
    "#-- horizontal concatenate\n",
    "df2 = pd.concat([df_data1, df_data2], axis=1)\n",
    "                 \n",
    "print(df1)\n",
    "print(df2)"
   ]
  },
  {
   "cell_type": "markdown",
   "metadata": {},
   "source": [
    "### 연결 시 라벨 지정하기"
   ]
  },
  {
   "cell_type": "code",
   "execution_count": 19,
   "metadata": {},
   "outputs": [
    {
     "name": "stdout",
     "output_type": "stream",
     "text": [
      "      X                   Y              \n",
      "  apple orange banana apple orange banana\n",
      "1    45     68     37    38     76     17\n",
      "2    48     10     88    13      6      2\n",
      "3    65     84     71    73     80     77\n",
      "4    68     22     89    10     65     72\n",
      "\n",
      "1    17\n",
      "2     2\n",
      "3    77\n",
      "4    72\n",
      "Name: (Y, banana), dtype: int64\n"
     ]
    }
   ],
   "source": [
    "#\n",
    "def make_random_df(index, columns, seed):\n",
    "    np.random.seed(seed)\n",
    "    df = pd.DataFrame()\n",
    "    for column in columns:\n",
    "        df[column] = np.random.choice(range(1,101), len(index))\n",
    "    df.index = index\n",
    "    return df\n",
    "\n",
    "#\n",
    "columns = [\"apple\", \"orange\", \"banana\"]\n",
    "#\n",
    "df_data1 = make_random_df(range(1,5), columns, 0)\n",
    "df_data2 = make_random_df(range(1,5), columns, 1)\n",
    "\n",
    "#--\n",
    "df = pd.concat([df_data1, df_data2], axis=1, keys=[\"X\",\"Y\"])\n",
    "\n",
    "#-- df의 \"Y\" 라벨 \"banana\"를 Y_banana에 대입\n",
    "Y_banana = df[\"Y\", \"banana\"]\n",
    "                 \n",
    "print(df)\n",
    "print()\n",
    "print(Y_banana)"
   ]
  },
  {
   "cell_type": "markdown",
   "metadata": {},
   "source": [
    "### DataFrame 결합"
   ]
  },
  {
   "cell_type": "markdown",
   "metadata": {},
   "source": [
    "### 내부 결합"
   ]
  },
  {
   "cell_type": "code",
   "execution_count": 21,
   "metadata": {},
   "outputs": [
    {
     "name": "stdout",
     "output_type": "stream",
     "text": [
      "       fruits  year  amount\n",
      "0       apple  2001       1\n",
      "1      orange  2002       4\n",
      "2      banana  2001       5\n",
      "3  strawberry  2008       6\n",
      "4   kiwifruit  2006       3\n",
      "\n",
      "       fruits  year  price\n",
      "0       apple  2001    150\n",
      "1      orange  2002    120\n",
      "2      banana  2001    100\n",
      "3  strawberry  2008    250\n",
      "4       mango  2007   3000\n",
      "\n",
      "       fruits  year_x  amount  year_y  price\n",
      "0       apple    2001       1    2001    150\n",
      "1      orange    2002       4    2002    120\n",
      "2      banana    2001       5    2001    100\n",
      "3  strawberry    2008       6    2008    250\n"
     ]
    }
   ],
   "source": [
    "data1 = {\n",
    "    \"fruits\" : [\"apple\", \"orange\", \"banana\", \"strawberry\", \"kiwifruit\"],\n",
    "    \"year\"   : [2001,    2002,     2001,     2008,         2006],\n",
    "    \"amount\" : [1,       4,        5,        6,            3]\n",
    "}\n",
    "df1 = pd.DataFrame(data1)\n",
    "\n",
    "data2 = {\n",
    "    \"fruits\" : [\"apple\", \"orange\", \"banana\", \"strawberry\", \"mango\"],\n",
    "    \"year\"   : [2001,    2002,     2001,     2008,         2007],\n",
    "    \"price\"  : [150,     120,      100,      250,          3000]\n",
    "}\n",
    "df2 = pd.DataFrame(data2)\n",
    "\n",
    "#\n",
    "print(df1)\n",
    "print()\n",
    "print(df2)\n",
    "print()\n",
    "\n",
    "#= key=fruits\n",
    "df3 = pd.merge(df1, df2, on=\"fruits\", how=\"inner\")\n",
    "\n",
    "#\n",
    "print(df3)"
   ]
  },
  {
   "cell_type": "markdown",
   "metadata": {},
   "source": [
    "### 외부 결합"
   ]
  },
  {
   "cell_type": "code",
   "execution_count": 22,
   "metadata": {},
   "outputs": [
    {
     "name": "stdout",
     "output_type": "stream",
     "text": [
      "       fruits  year  amount\n",
      "0       apple  2001       1\n",
      "1      orange  2002       4\n",
      "2      banana  2001       5\n",
      "3  strawberry  2008       6\n",
      "4   kiwifruit  2006       3\n",
      "\n",
      "       fruits  year  price\n",
      "0       apple  2001    150\n",
      "1      orange  2002    120\n",
      "2      banana  2001    100\n",
      "3  strawberry  2008    250\n",
      "4       mango  2007   3000\n",
      "\n",
      "       fruits  year_x  amount  year_y   price\n",
      "0       apple  2001.0     1.0  2001.0   150.0\n",
      "1      orange  2002.0     4.0  2002.0   120.0\n",
      "2      banana  2001.0     5.0  2001.0   100.0\n",
      "3  strawberry  2008.0     6.0  2008.0   250.0\n",
      "4   kiwifruit  2006.0     3.0     NaN     NaN\n",
      "5       mango     NaN     NaN  2007.0  3000.0\n"
     ]
    }
   ],
   "source": [
    "data1 = {\n",
    "    \"fruits\" : [\"apple\", \"orange\", \"banana\", \"strawberry\", \"kiwifruit\"],\n",
    "    \"year\"   : [2001,    2002,     2001,     2008,         2006],\n",
    "    \"amount\" : [1,       4,        5,        6,            3]\n",
    "}\n",
    "df1 = pd.DataFrame(data1)\n",
    "\n",
    "data2 = {\n",
    "    \"fruits\" : [\"apple\", \"orange\", \"banana\", \"strawberry\", \"mango\"],\n",
    "    \"year\"   : [2001,    2002,     2001,     2008,         2007],\n",
    "    \"price\"  : [150,     120,      100,      250,          3000]\n",
    "}\n",
    "df2 = pd.DataFrame(data2)\n",
    "\n",
    "#\n",
    "print(df1)\n",
    "print()\n",
    "print(df2)\n",
    "print()\n",
    "\n",
    "#= key=fruits\n",
    "df3 = pd.merge(df1, df2, on=\"fruits\", how=\"outer\")\n",
    "\n",
    "#\n",
    "print(df3)"
   ]
  },
  {
   "cell_type": "markdown",
   "metadata": {},
   "source": [
    "### 다른 열의 key 로 결합"
   ]
  },
  {
   "cell_type": "code",
   "execution_count": 23,
   "metadata": {},
   "outputs": [
    {
     "name": "stdout",
     "output_type": "stream",
     "text": [
      "   id_x  item_id  customer_id  id_y name\n",
      "0  1000     2546          103   103   소희\n",
      "1  1001     4352          101   101   광수\n",
      "2  1002      342          101   101   광수\n"
     ]
    }
   ],
   "source": [
    "#\n",
    "order_df = pd.DataFrame( [[1000, 2546, 103],\n",
    "                          [1001, 4352, 101],\n",
    "                          [1002, 342,  101]],\n",
    "                          columns=[\"id\",\"item_id\",\"customer_id\"]\n",
    "                          )\n",
    "#\n",
    "customer_df = pd.DataFrame( [[101, \"광수\"],\n",
    "                             [102, \"민호\"],\n",
    "                             [103, \"소희\"]],\n",
    "                          columns=[\"id\",\"name\"]\n",
    "                          )\n",
    "#\n",
    "order_df = pd.merge(order_df, customer_df, left_on=\"customer_id\", right_on=\"id\", how=\"inner\")\n",
    "\n",
    "print(order_df)"
   ]
  },
  {
   "cell_type": "markdown",
   "metadata": {},
   "source": [
    "### 인덱스를 key로 결합"
   ]
  },
  {
   "cell_type": "code",
   "execution_count": 1,
   "metadata": {},
   "outputs": [
    {
     "name": "stdout",
     "output_type": "stream",
     "text": [
      "     id  item_id  customer_id name\n",
      "0  1000     2546          103   소희\n",
      "1  1001     4352          101   광수\n",
      "2  1002      342          101   광수\n"
     ]
    }
   ],
   "source": [
    "import pandas as pd\n",
    "\n",
    "#\n",
    "order_df = pd.DataFrame( [[1000, 2546, 103],\n",
    "                          [1001, 4352, 101],\n",
    "                          [1002, 342,  101]],\n",
    "                          columns=[\"id\",\"item_id\",\"customer_id\"]\n",
    "                          )\n",
    "#\n",
    "customer_df = pd.DataFrame( [[\"광수\"],\n",
    "                             [\"민호\"],\n",
    "                             [\"소희\"]],\n",
    "                          columns=[\"name\"]\n",
    "                          )\n",
    "#\n",
    "customer_df.index = [101, 102, 103]\n",
    "#\n",
    "order_df = pd.merge(order_df, customer_df, left_on=\"customer_id\", right_index=True, how=\"inner\")\n",
    "\n",
    "print(order_df)"
   ]
  },
  {
   "cell_type": "markdown",
   "metadata": {},
   "source": [
    "### DataFrame을 이용한 데이터 분석"
   ]
  },
  {
   "cell_type": "markdown",
   "metadata": {},
   "source": [
    "### 특정 행 얻기"
   ]
  },
  {
   "cell_type": "code",
   "execution_count": 3,
   "metadata": {},
   "outputs": [
    {
     "name": "stdout",
     "output_type": "stream",
     "text": [
      "   apple  orange  banana  strawberry  kiwifruit\n",
      "1      6       8       6           3         10\n",
      "2      1       7      10           4         10\n",
      "3      4       9       9           9          1\n",
      "    apple  orange  banana  strawberry  kiwifruit\n",
      "8       6       8       4           8          8\n",
      "9       3       9       6           1          3\n",
      "10      5       2       1           2          1\n"
     ]
    }
   ],
   "source": [
    "import numpy as np\n",
    "import pandas as pd\n",
    "\n",
    "#\n",
    "np.random.seed(0)\n",
    "columns = [\"apple\", \"orange\", \"banana\", \"strawberry\", \"kiwifruit\"]\n",
    "\n",
    "df = pd.DataFrame()\n",
    "for column in columns:\n",
    "    df[column] = np.random.choice(range(1,11), 10)\n",
    "df.index = range(1,11)\n",
    "\n",
    "\n",
    "#\n",
    "df_head = df.head(3)\n",
    "#\n",
    "df_tail = df.tail(3)\n",
    "\n",
    "#                 \n",
    "print(df_head)\n",
    "print(df_tail)"
   ]
  },
  {
   "cell_type": "markdown",
   "metadata": {},
   "source": [
    "###  계산 처리"
   ]
  },
  {
   "cell_type": "code",
   "execution_count": 6,
   "metadata": {},
   "outputs": [
    {
     "name": "stdout",
     "output_type": "stream",
     "text": [
      "    apple  orange  banana  strawberry  kiwifruit\n",
      "1      12      16      12           6         20\n",
      "2       2      14      20           8         20\n",
      "3       8      18      18          18          2\n",
      "4       8      18      20           4         10\n",
      "5      16       4      10           8         16\n",
      "6      20      14       8           8          8\n",
      "7       8      16       2           8          6\n",
      "8      12      16       8          16         16\n",
      "9       6      18      12           2          6\n",
      "10     10       4       2           4          2\n",
      "    apple  orange  banana  strawberry  kiwifruit\n",
      "1      36      64      36           9        100\n",
      "2       1      49     100          16        100\n",
      "3      16      81      81          81          1\n",
      "4      16      81     100           4         25\n",
      "5      64       4      25          16         64\n",
      "6     100      49      16          16         16\n",
      "7      16      64       1          16          9\n",
      "8      36      64      16          64         64\n",
      "9       9      81      36           1          9\n",
      "10     25       4       1           4          1\n",
      "       apple    orange    banana  strawberry  kiwifruit\n",
      "1   2.449490  2.828427  2.449490    1.732051   3.162278\n",
      "2   1.000000  2.645751  3.162278    2.000000   3.162278\n",
      "3   2.000000  3.000000  3.000000    3.000000   1.000000\n",
      "4   2.000000  3.000000  3.162278    1.414214   2.236068\n",
      "5   2.828427  1.414214  2.236068    2.000000   2.828427\n",
      "6   3.162278  2.645751  2.000000    2.000000   2.000000\n",
      "7   2.000000  2.828427  1.000000    2.000000   1.732051\n",
      "8   2.449490  2.828427  2.000000    2.828427   2.828427\n",
      "9   1.732051  3.000000  2.449490    1.000000   1.732051\n",
      "10  2.236068  1.414214  1.000000    1.414214   1.000000\n"
     ]
    }
   ],
   "source": [
    "import numpy as np\n",
    "import pandas as pd\n",
    "import math\n",
    "\n",
    "#\n",
    "np.random.seed(0)\n",
    "columns = [\"apple\", \"orange\", \"banana\", \"strawberry\", \"kiwifruit\"]\n",
    "\n",
    "df = pd.DataFrame()\n",
    "for column in columns:\n",
    "    df[column] = np.random.choice(range(1,11), 10)\n",
    "df.index = range(1,11)\n",
    "\n",
    "\n",
    "#\n",
    "double_df = df * 2\n",
    "#\n",
    "square_df = df * df\n",
    "#\n",
    "sqrt_df = np.sqrt(df)\n",
    "\n",
    "#                 \n",
    "print(double_df)\n",
    "print(square_df)\n",
    "print(sqrt_df)"
   ]
  },
  {
   "cell_type": "markdown",
   "metadata": {},
   "source": [
    "### 통계 정보 얻기"
   ]
  },
  {
   "cell_type": "code",
   "execution_count": 9,
   "metadata": {},
   "outputs": [
    {
     "name": "stdout",
     "output_type": "stream",
     "text": [
      "    apple  orange  banana  strawberry  kiwifruit\n",
      "1       6       8       6           3         10\n",
      "2       1       7      10           4         10\n",
      "3       4       9       9           9          1\n",
      "4       4       9      10           2          5\n",
      "5       8       2       5           4          8\n",
      "6      10       7       4           4          4\n",
      "7       4       8       1           4          3\n",
      "8       6       8       4           8          8\n",
      "9       3       9       6           1          3\n",
      "10      5       2       1           2          1\n",
      "      apple  orange  banana  strawberry  kiwifruit\n",
      "mean    5.1     6.9     5.6         4.1        5.3\n",
      "max    10.0     9.0    10.0         9.0       10.0\n",
      "min     1.0     2.0     1.0         1.0        1.0\n"
     ]
    }
   ],
   "source": [
    "import numpy as np\n",
    "import pandas as pd\n",
    "\n",
    "\n",
    "#\n",
    "np.random.seed(0)\n",
    "columns = [\"apple\", \"orange\", \"banana\", \"strawberry\", \"kiwifruit\"]\n",
    "\n",
    "df = pd.DataFrame()\n",
    "for column in columns:\n",
    "    df[column] = np.random.choice(range(1,11), 10)\n",
    "df.index = range(1,11)\n",
    "\n",
    "\n",
    "#\n",
    "df_des = df.describe().loc[[\"mean\", \"max\", \"min\"]]\n",
    "#\n",
    "\n",
    "\n",
    "# \n",
    "print(df)\n",
    "print(df_des)\n"
   ]
  },
  {
   "cell_type": "markdown",
   "metadata": {},
   "source": [
    "### DataFrame의 행간 차이 / 열간 차이"
   ]
  },
  {
   "cell_type": "code",
   "execution_count": 10,
   "metadata": {},
   "outputs": [
    {
     "name": "stdout",
     "output_type": "stream",
     "text": [
      "    apple  orange  banana  strawberry  kiwifruit\n",
      "1       6       8       6           3         10\n",
      "2       1       7      10           4         10\n",
      "3       4       9       9           9          1\n",
      "4       4       9      10           2          5\n",
      "5       8       2       5           4          8\n",
      "6      10       7       4           4          4\n",
      "7       4       8       1           4          3\n",
      "8       6       8       4           8          8\n",
      "9       3       9       6           1          3\n",
      "10      5       2       1           2          1\n",
      "    apple  orange  banana  strawberry  kiwifruit\n",
      "1     2.0    -1.0    -3.0        -6.0        9.0\n",
      "2    -3.0    -2.0     0.0         2.0        5.0\n",
      "3    -4.0     7.0     4.0         5.0       -7.0\n",
      "4    -6.0     2.0     6.0        -2.0        1.0\n",
      "5     4.0    -6.0     4.0         0.0        5.0\n",
      "6     4.0    -1.0     0.0        -4.0       -4.0\n",
      "7     1.0    -1.0    -5.0         3.0        0.0\n",
      "8     1.0     6.0     3.0         6.0        7.0\n",
      "9     NaN     NaN     NaN         NaN        NaN\n",
      "10    NaN     NaN     NaN         NaN        NaN\n"
     ]
    }
   ],
   "source": [
    "import numpy as np\n",
    "import pandas as pd\n",
    "\n",
    "\n",
    "#\n",
    "np.random.seed(0)\n",
    "columns = [\"apple\", \"orange\", \"banana\", \"strawberry\", \"kiwifruit\"]\n",
    "\n",
    "df = pd.DataFrame()\n",
    "for column in columns:\n",
    "    df[column] = np.random.choice(range(1,11), 10)\n",
    "df.index = range(1,11)\n",
    "\n",
    "\n",
    "#\n",
    "df_diff = df.diff(-2, axis=0)\n",
    "#\n",
    "\n",
    "\n",
    "# \n",
    "print(df)\n",
    "print(df_diff)"
   ]
  },
  {
   "cell_type": "markdown",
   "metadata": {},
   "source": [
    "### 그룹화"
   ]
  },
  {
   "cell_type": "code",
   "execution_count": 13,
   "metadata": {},
   "outputs": [
    {
     "name": "stdout",
     "output_type": "stream",
     "text": [
      "  Prefecture  Area  Population Region\n",
      "0         강릉  1040      213527    강원도\n",
      "1         광주   430     1458915    전라도\n",
      "2         평창  1463       42218    강원도\n",
      "3         대전   539     1476955    충청도\n",
      "4         단양   780       29816    충청도\n",
      "          Area  Population\n",
      "Region                    \n",
      "강원도     1251.5    127872.5\n",
      "전라도      430.0   1458915.0\n",
      "충청도      659.5    753385.5\n"
     ]
    }
   ],
   "source": [
    "import pandas as pd\n",
    "\n",
    "prefecture_df = pd.DataFrame(\n",
    "    [[\"강릉\", 1040, 213527,  \"강원도\"],\n",
    "     [\"광주\", 430,  1458915, \"전라도\"],\n",
    "     [\"평창\", 1463,  42218, \"강원도\"],\n",
    "     [\"대전\", 539,  1476955, \"충청도\"],\n",
    "     [\"단양\", 780,  29816, \"충청도\"]],\n",
    "    columns = [\"Prefecture\", \"Area\", \"Population\", \"Region\"])\n",
    "\n",
    "#\n",
    "print(prefecture_df)\n",
    "\n",
    "#\n",
    "grouped_region = prefecture_df.groupby(\"Region\")\n",
    "\n",
    "#\n",
    "mean_df = grouped_region.mean()\n",
    "\n",
    "\n",
    "#\n",
    "print(mean_df)"
   ]
  },
  {
   "cell_type": "markdown",
   "metadata": {},
   "source": [
    "### 연습문제"
   ]
  },
  {
   "cell_type": "code",
   "execution_count": 18,
   "metadata": {},
   "outputs": [
    {
     "name": "stdout",
     "output_type": "stream",
     "text": [
      "480\n"
     ]
    }
   ],
   "source": [
    "import pandas as pd\n",
    "\n",
    "df1 = pd.DataFrame(\n",
    "    [[\"apple\", \"Fruit\", 120],\n",
    "     [\"orange\", \"Fruit\", 60],\n",
    "     [\"banana\", \"Fruit\", 100],\n",
    "     [\"pumpkin\", \"Vegetable\", 150],\n",
    "     [\"potato\", \"Vegetable\", 80]],\n",
    "    columns = [\"Name\", \"Type\", \"Price\"])\n",
    "\n",
    "\n",
    "df2 = pd.DataFrame(\n",
    "    [[\"onion\", \"Vegetable\", 60],\n",
    "     [\"carrot\", \"Vegetable\", 50],\n",
    "     [\"beans\", \"Vegetable\", 100],\n",
    "     [\"grape\", \"Fruit\", 160],\n",
    "     [\"kiwifruit\", \"Fruit\", 80]],\n",
    "    columns = [\"Name\", \"Type\", \"Price\"])\n",
    "\n",
    "#\n",
    "df3 = pd.concat([df1, df2], axis=0)\n",
    "\n",
    "#\n",
    "df_fruit = df3.loc[df3[\"Type\"]==\"Fruit\"]\n",
    "df_fruit = df_fruit.sort_values(by=\"Price\")\n",
    "\n",
    "#\n",
    "df_veg = df3.loc[df3[\"Type\"]==\"Vegetable\"]\n",
    "df_veg = df_fruit.sort_values(by=\"Price\")\n",
    "\n",
    "\n",
    "#\n",
    "print(sum(df_fruit[:3][\"Price\"]) + sum(df_veg[:3][\"Price\"]))\n",
    "\n",
    "                   \n"
   ]
  },
  {
   "cell_type": "markdown",
   "metadata": {},
   "source": [
    "### 종합문제"
   ]
  },
  {
   "cell_type": "code",
   "execution_count": 20,
   "metadata": {},
   "outputs": [
    {
     "name": "stdout",
     "output_type": "stream",
     "text": [
      "    국어  수학  사회  과학  영어  체육\n",
      "광수  30  45  12  45  87  56\n",
      "민호  65  47  83  17  58  43\n",
      "소희  64  63  86  57  46  73\n",
      "태양  38  47  62  91  63  82\n",
      "영희  65  36  85  94  36  62\n",
      "\n",
      "    국어  수학  사회  과학  영어  체육\n",
      "영희  65  36  85  94  36  62\n",
      "광수  30  45  12  45  87  56\n",
      "민호  65  47  83  17  58  43\n",
      "태양  38  47  62  91  63  82\n",
      "소희  64  63  86  57  46  73\n",
      "\n",
      "    국어  수학  사회  과학  영어  체육\n",
      "영희  70  41  90  99  41  67\n",
      "광수  35  50  17  50  92  61\n",
      "민호  70  52  88  22  63  48\n",
      "태양  43  52  67  96  68  87\n",
      "소희  69  68  91  62  51  78\n",
      "\n",
      "        국어    수학    사회    과학    영어    체육\n",
      "mean  57.4  52.6  70.6  65.8  63.0  68.2\n",
      "max   70.0  68.0  91.0  99.0  92.0  87.0\n",
      "min   35.0  41.0  17.0  22.0  41.0  48.0\n"
     ]
    }
   ],
   "source": [
    "import pandas as pd\n",
    "\n",
    "index = [\"광수\", \"민호\", \"소희\", \"태양\", \"영희\"]\n",
    "columns = [\"국어\", \"수학\", \"사회\", \"과학\", \"영어\"]\n",
    "data = [[30,45,12,45,87], [65,47,83,17,58], [64,63,86,57,46], [38,47,62,91,63], [65,36,85,94,36]]\n",
    "df = pd.DataFrame(data, index=index, columns=columns)\n",
    "\n",
    "#\n",
    "pe_column = pd.Series([56,43,73,82,62], index=[\"광수\", \"민호\", \"소희\", \"태양\", \"영희\"])\n",
    "df[\"체육\"] = pe_column\n",
    "print(df)\n",
    "print()\n",
    "\n",
    "#\n",
    "df1 = df.sort_values(by=\"수학\", ascending=True)\n",
    "print(df1)\n",
    "print()\n",
    "\n",
    "#\n",
    "df2 = df1 + 5\n",
    "print(df2)\n",
    "print()\n",
    "\n",
    "#\n",
    "print(df2.describe().loc[[\"mean\", \"max\", \"min\"]])"
   ]
  },
  {
   "cell_type": "code",
   "execution_count": null,
   "metadata": {},
   "outputs": [],
   "source": []
  }
 ],
 "metadata": {
  "kernelspec": {
   "display_name": "Python 3",
   "language": "python",
   "name": "python3"
  },
  "language_info": {
   "codemirror_mode": {
    "name": "ipython",
    "version": 3
   },
   "file_extension": ".py",
   "mimetype": "text/x-python",
   "name": "python",
   "nbconvert_exporter": "python",
   "pygments_lexer": "ipython3",
   "version": "3.7.6"
  }
 },
 "nbformat": 4,
 "nbformat_minor": 4
}
