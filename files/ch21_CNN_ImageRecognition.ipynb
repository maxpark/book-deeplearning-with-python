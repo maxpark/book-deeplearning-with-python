{
 "cells": [
  {
   "cell_type": "markdown",
   "metadata": {},
   "source": [
    "# CH21. CNN 이미지 인식"
   ]
  },
  {
   "cell_type": "markdown",
   "metadata": {},
   "source": [
    "### Convolution"
   ]
  },
  {
   "cell_type": "code",
   "execution_count": 3,
   "metadata": {},
   "outputs": [
    {
     "data": {
      "image/png": "[encoded data removed]",
      "text/plain": [
       "<Figure size 432x288 with 1 Axes>"
      ]
     },
     "metadata": {
      "needs_background": "light"
     },
     "output_type": "display_data"
    },
    {
     "data": {
      "image/png": "[encoded data removed]",
      "text/plain": [
       "<Figure size 432x288 with 4 Axes>"
      ]
     },
     "metadata": {
      "needs_background": "light"
     },
     "output_type": "display_data"
    },
    {
     "data": {
      "image/png": "[encoded data removed]",
      "text/plain": [
       "<Figure size 432x288 with 4 Axes>"
      ]
     },
     "metadata": {
      "needs_background": "light"
     },
     "output_type": "display_data"
    }
   ],
   "source": [
    "import numpy as np\n",
    "import matplotlib.pyplot as plt\n",
    "import urllib.request\n",
    "%matplotlib inline\n",
    "\n",
    "#-- 합성곱 층 정의\n",
    "class Conv:\n",
    "    #-- W: 3×3고정, no Strides, no Padding\n",
    "    def __init__(self, W):\n",
    "        self.W = W\n",
    "    #\n",
    "    def f_prop(self, X):\n",
    "        #print(X.shape[0]) #: 10\n",
    "        #print(X.shape[1]) #: 10\n",
    "        out = np.zeros((X.shape[0]-2, X.shape[1]-2))\n",
    "        for i in range(out.shape[0]):\n",
    "            for j in range(out.shape[1]):\n",
    "                x = X[i:i+3, j:j+3]\n",
    "                #-- 각 요소별 곱의 합계\n",
    "                out[i,j] = np.dot(self.W.flatten(), x.flatten())\n",
    "        return out\n",
    "\n",
    "    \n",
    "local_filename, headers = urllib.request.urlretrieve('https://aidemystorageprd.blob.core.windows.net/data/5100_cnn_data/circle.npy') \n",
    "X = np.load(local_filename)\n",
    "\n",
    "plt.imshow(X)\n",
    "plt.title(\"The original image\", fontsize=12)\n",
    "plt.show()\n",
    "\n",
    "#-- 커널 설정\n",
    "W1 = np.array([[0,1,0],[0,1,0],[0,1,0]])\n",
    "W2 = np.array([[0,0,0],[1,1,1],[0,0,0]])\n",
    "W3 = np.array([[1,0,0],[0,1,0],[0,0,1]])\n",
    "W4 = np.array(([0,0,1],[0,1,0],[1,0,0]))\n",
    "\n",
    "plt.subplot(1,4,1); plt.imshow(W1)\n",
    "plt.subplot(1,4,2); plt.imshow(W2)\n",
    "plt.subplot(1,4,3); plt.imshow(W3)\n",
    "plt.subplot(1,4,4); plt.imshow(W4)\n",
    "plt.suptitle(\"kernel\", fontsize=16)\n",
    "plt.show()\n",
    "\n",
    "#-- convolution multiply\n",
    "conv1 = Conv(W1); C1 = conv1.f_prop(X)\n",
    "conv2 = Conv(W2); C2 = conv2.f_prop(X)\n",
    "conv3 = Conv(W3); C3 = conv3.f_prop(X)\n",
    "conv4 = Conv(W4); C4 = conv4.f_prop(X)\n",
    "\n",
    "\n",
    "\n",
    "#\n",
    "plt.subplot(1,4,1); plt.imshow(C1)\n",
    "plt.subplot(1,4,2); plt.imshow(C2)\n",
    "plt.subplot(1,4,3); plt.imshow(C3)\n",
    "plt.subplot(1,4,4); plt.imshow(C4)\n",
    "plt.suptitle(\"Convolution result\", fontsize=14)\n",
    "plt.show()"
   ]
  },
  {
   "cell_type": "markdown",
   "metadata": {},
   "source": [
    "### Pooling"
   ]
  },
  {
   "cell_type": "code",
   "execution_count": 4,
   "metadata": {},
   "outputs": [
    {
     "data": {
      "image/png": "[encoded data removed]",
      "text/plain": [
       "<Figure size 432x288 with 1 Axes>"
      ]
     },
     "metadata": {
      "needs_background": "light"
     },
     "output_type": "display_data"
    },
    {
     "data": {
      "image/png": "[encoded data removed]",
      "text/plain": [
       "<Figure size 432x288 with 4 Axes>"
      ]
     },
     "metadata": {
      "needs_background": "light"
     },
     "output_type": "display_data"
    },
    {
     "data": {
      "image/png": "[encoded data removed]",
      "text/plain": [
       "<Figure size 432x288 with 4 Axes>"
      ]
     },
     "metadata": {
      "needs_background": "light"
     },
     "output_type": "display_data"
    }
   ],
   "source": [
    "import numpy as np\n",
    "import matplotlib.pyplot as plt\n",
    "import urllib.request\n",
    "%matplotlib inline\n",
    "\n",
    "#--\n",
    "class Conv:\n",
    "    #-\n",
    "    def __init__(self, W):\n",
    "        self.W = W\n",
    "    def f_prop(self, X):\n",
    "        out = np.zeros((X.shape[0]-2, X.shape[1]-2))\n",
    "        for i in range(out.shape[0]):\n",
    "            for j in range(out.shape[1]):\n",
    "                x = X[i:i+3, j:j+3]\n",
    "                out[i,j] = np.dot(self.W.flatten(), x.flatten())\n",
    "        return out\n",
    "\n",
    "#--pooling\n",
    "class Pool:\n",
    "    #\n",
    "    def __init__(self, l):\n",
    "        self.l = l\n",
    "    def f_prop(self, X):\n",
    "        l = self.l\n",
    "        out = np.zeros((X.shape[0]//self.l, X.shape[1]//self.l))\n",
    "        for i in range(out.shape[0]):\n",
    "            for j in range(out.shape[1]):\n",
    "                #-\n",
    "                out[i,j] = np.max(X[i*l:(i+1)*l, j*l:(j+1)*l])\n",
    "        return out\n",
    "\n",
    "local_filename, headers = urllib.request.urlretrieve('https://aidemystorageprd.blob.core.windows.net/data/5100_cnn_data/circle.npy') \n",
    "X = np.load(local_filename)\n",
    "\n",
    "plt.imshow(X)\n",
    "plt.title(\"The original image\", fontsize=12)\n",
    "plt.show()\n",
    "\n",
    "#--\n",
    "W1 = np.array([[0,1,0],\n",
    "               [0,1,0],\n",
    "               [0,1,0]])\n",
    "W2 = np.array([[0,0,0],\n",
    "               [1,1,1],\n",
    "               [0,0,0]])\n",
    "W3 = np.array([[1,0,0],\n",
    "               [0,1,0],\n",
    "               [0,0,1]])\n",
    "W4 = np.array([[0,0,1],\n",
    "               [0,1,0],\n",
    "               [1,0,0]])\n",
    "\n",
    "#\n",
    "conv1 = Conv(W1); C1 = conv1.f_prop(X)\n",
    "conv2 = Conv(W2); C2 = conv2.f_prop(X)\n",
    "conv3 = Conv(W3); C3 = conv3.f_prop(X)\n",
    "conv4 = Conv(W4); C4 = conv4.f_prop(X)\n",
    "#\n",
    "plt.subplot(1,4,1); plt.imshow(C1)\n",
    "plt.subplot(1,4,2); plt.imshow(C2)\n",
    "plt.subplot(1,4,3); plt.imshow(C3)\n",
    "plt.subplot(1,4,4); plt.imshow(C4)\n",
    "plt.suptitle(\"Convolution result\", fontsize=12)\n",
    "plt.show()\n",
    "\n",
    "#--\n",
    "pool = Pool(2)\n",
    "P1 = pool.f_prop(C1)\n",
    "P2 = pool.f_prop(C2)\n",
    "P3 = pool.f_prop(C3)\n",
    "P4 = pool.f_prop(C4)\n",
    "\n",
    "plt.subplot(1,4,1); plt.imshow(P1)\n",
    "plt.subplot(1,4,2); plt.imshow(P2)\n",
    "plt.subplot(1,4,3); plt.imshow(P3)\n",
    "plt.subplot(1,4,4); plt.imshow(P4)\n",
    "plt.suptitle(\"Pooling result\", fontsize=12)\n",
    "plt.show()"
   ]
  },
  {
   "cell_type": "markdown",
   "metadata": {},
   "source": [
    "### Keras model"
   ]
  },
  {
   "cell_type": "code",
   "execution_count": 5,
   "metadata": {},
   "outputs": [
    {
     "name": "stdout",
     "output_type": "stream",
     "text": [
      "Model: \"sequential_3\"\n",
      "_________________________________________________________________\n",
      "Layer (type)                 Output Shape              Param #   \n",
      "=================================================================\n",
      "conv2d_5 (Conv2D)            (None, 28, 28, 32)        160       \n",
      "_________________________________________________________________\n",
      "max_pooling2d_5 (MaxPooling2 (None, 27, 27, 32)        0         \n",
      "_________________________________________________________________\n",
      "conv2d_6 (Conv2D)            (None, 27, 27, 32)        4128      \n",
      "_________________________________________________________________\n",
      "max_pooling2d_6 (MaxPooling2 (None, 26, 26, 32)        0         \n",
      "_________________________________________________________________\n",
      "flatten_3 (Flatten)          (None, 21632)             0         \n",
      "_________________________________________________________________\n",
      "dense_7 (Dense)              (None, 256)               5538048   \n",
      "_________________________________________________________________\n",
      "activation_7 (Activation)    (None, 256)               0         \n",
      "_________________________________________________________________\n",
      "dense_8 (Dense)              (None, 128)               32896     \n",
      "_________________________________________________________________\n",
      "activation_8 (Activation)    (None, 128)               0         \n",
      "_________________________________________________________________\n",
      "dense_9 (Dense)              (None, 10)                1290      \n",
      "_________________________________________________________________\n",
      "activation_9 (Activation)    (None, 10)                0         \n",
      "=================================================================\n",
      "Total params: 5,576,522\n",
      "Trainable params: 5,576,522\n",
      "Non-trainable params: 0\n",
      "_________________________________________________________________\n"
     ]
    }
   ],
   "source": [
    "from keras.layers import Activation, Conv2D, Dense, Flatten, MaxPooling2D\n",
    "from keras.models import Sequential, load_model\n",
    "from keras.utils.np_utils import to_categorical\n",
    "\n",
    "#- instance\n",
    "model = Sequential()\n",
    "# --------------------------------------------------------------\n",
    "model.add(Conv2D(input_shape=(28, 28, 1), \n",
    "                 filters=32,\n",
    "                 kernel_size=(2, 2), \n",
    "                 strides=(1, 1), \n",
    "                 padding=\"same\"))\n",
    "model.add(MaxPooling2D(pool_size=(2, 2), \n",
    "                       strides=(1,1)))\n",
    "model.add(Conv2D(filters=32, \n",
    "                 kernel_size=(2, 2), \n",
    "                 strides=(1, 1), \n",
    "                 padding=\"same\"))\n",
    "model.add(MaxPooling2D(pool_size=(2, 2), \n",
    "                       strides=(1,1)))\n",
    "# --------------------------------------------------------------\n",
    "\n",
    "model.add(Flatten())\n",
    "model.add(Dense(256))\n",
    "model.add(Activation('sigmoid'))\n",
    "model.add(Dense(128))\n",
    "model.add(Activation('sigmoid'))\n",
    "model.add(Dense(10))\n",
    "model.add(Activation('softmax'))\n",
    "\n",
    "model.summary()"
   ]
  },
  {
   "cell_type": "markdown",
   "metadata": {},
   "source": [
    "### CNN을 이용한 분류 (MNIST)"
   ]
  },
  {
   "cell_type": "code",
   "execution_count": 21,
   "metadata": {},
   "outputs": [
    {
     "name": "stdout",
     "output_type": "stream",
     "text": [
      "Train on 300 samples, validate on 100 samples\n",
      "Epoch 1/50\n",
      "300/300 [==============================] - 1s 5ms/step - loss: 13.4283 - acc: 0.1333 - val_loss: 14.8287 - val_acc: 0.0800\n",
      "Epoch 2/50\n",
      "300/300 [==============================] - 0s 599us/step - loss: 13.6754 - acc: 0.1433 - val_loss: 13.2168 - val_acc: 0.1800\n",
      "Epoch 3/50\n",
      "300/300 [==============================] - 0s 591us/step - loss: 13.7034 - acc: 0.1467 - val_loss: 14.3451 - val_acc: 0.1100\n",
      "Epoch 4/50\n",
      "300/300 [==============================] - 0s 593us/step - loss: 13.9190 - acc: 0.1333 - val_loss: 13.3780 - val_acc: 0.1700\n",
      "Epoch 5/50\n",
      "300/300 [==============================] - 0s 621us/step - loss: 12.9488 - acc: 0.1800 - val_loss: 12.9444 - val_acc: 0.1900\n",
      "Epoch 6/50\n",
      "300/300 [==============================] - 0s 601us/step - loss: 12.4528 - acc: 0.2233 - val_loss: 11.8565 - val_acc: 0.2500\n",
      "Epoch 7/50\n",
      "300/300 [==============================] - 0s 611us/step - loss: 12.5231 - acc: 0.2167 - val_loss: 11.9363 - val_acc: 0.2200\n",
      "Epoch 8/50\n",
      "300/300 [==============================] - 0s 623us/step - loss: 12.2703 - acc: 0.2233 - val_loss: 11.5674 - val_acc: 0.2800\n",
      "Epoch 9/50\n",
      "300/300 [==============================] - 0s 615us/step - loss: 12.0329 - acc: 0.2467 - val_loss: 12.2725 - val_acc: 0.2200\n",
      "Epoch 10/50\n",
      "300/300 [==============================] - 0s 594us/step - loss: 11.7869 - acc: 0.2600 - val_loss: 11.6110 - val_acc: 0.2800\n",
      "Epoch 11/50\n",
      "300/300 [==============================] - 0s 631us/step - loss: 12.0443 - acc: 0.2433 - val_loss: 12.5615 - val_acc: 0.2200\n",
      "Epoch 12/50\n",
      "300/300 [==============================] - 0s 589us/step - loss: 12.1700 - acc: 0.2333 - val_loss: 11.4439 - val_acc: 0.2900\n",
      "Epoch 13/50\n",
      "300/300 [==============================] - 0s 588us/step - loss: 11.6818 - acc: 0.2633 - val_loss: 12.6931 - val_acc: 0.2000\n",
      "Epoch 14/50\n",
      "300/300 [==============================] - 0s 597us/step - loss: 11.1812 - acc: 0.3000 - val_loss: 10.4019 - val_acc: 0.3400\n",
      "Epoch 15/50\n",
      "300/300 [==============================] - 0s 624us/step - loss: 10.8751 - acc: 0.3233 - val_loss: 10.8547 - val_acc: 0.3200\n",
      "Epoch 16/50\n",
      "300/300 [==============================] - 0s 591us/step - loss: 11.0080 - acc: 0.3100 - val_loss: 10.0082 - val_acc: 0.3600\n",
      "Epoch 17/50\n",
      "300/300 [==============================] - 0s 606us/step - loss: 10.1578 - acc: 0.3500 - val_loss: 8.4728 - val_acc: 0.4500\n",
      "Epoch 18/50\n",
      "300/300 [==============================] - 0s 721us/step - loss: 10.3263 - acc: 0.3467 - val_loss: 10.0636 - val_acc: 0.3500\n",
      "Epoch 19/50\n",
      "300/300 [==============================] - 0s 571us/step - loss: 9.7446 - acc: 0.3867 - val_loss: 9.5092 - val_acc: 0.4000\n",
      "Epoch 20/50\n",
      "300/300 [==============================] - 0s 620us/step - loss: 9.2564 - acc: 0.4167 - val_loss: 9.7942 - val_acc: 0.3800\n",
      "Epoch 21/50\n",
      "300/300 [==============================] - 0s 623us/step - loss: 10.1419 - acc: 0.3500 - val_loss: 8.5715 - val_acc: 0.4600\n",
      "Epoch 22/50\n",
      "300/300 [==============================] - 0s 614us/step - loss: 8.9622 - acc: 0.4300 - val_loss: 8.0662 - val_acc: 0.4800\n",
      "Epoch 23/50\n",
      "300/300 [==============================] - 0s 668us/step - loss: 8.3597 - acc: 0.4667 - val_loss: 7.5484 - val_acc: 0.5200\n",
      "Epoch 24/50\n",
      "300/300 [==============================] - 0s 620us/step - loss: 8.7464 - acc: 0.4367 - val_loss: 7.9073 - val_acc: 0.5100\n",
      "Epoch 25/50\n",
      "300/300 [==============================] - 0s 569us/step - loss: 7.9264 - acc: 0.4967 - val_loss: 7.0835 - val_acc: 0.5600\n",
      "Epoch 26/50\n",
      "300/300 [==============================] - 0s 643us/step - loss: 6.8943 - acc: 0.5600 - val_loss: 6.7009 - val_acc: 0.5700\n",
      "Epoch 27/50\n",
      "300/300 [==============================] - 0s 670us/step - loss: 7.0154 - acc: 0.5600 - val_loss: 7.5186 - val_acc: 0.5300\n",
      "Epoch 28/50\n",
      "300/300 [==============================] - 0s 643us/step - loss: 7.0019 - acc: 0.5400 - val_loss: 6.3944 - val_acc: 0.5900\n",
      "Epoch 29/50\n",
      "300/300 [==============================] - 0s 619us/step - loss: 6.5404 - acc: 0.5867 - val_loss: 6.2984 - val_acc: 0.5900\n",
      "Epoch 30/50\n",
      "300/300 [==============================] - 0s 632us/step - loss: 6.3052 - acc: 0.5967 - val_loss: 6.1632 - val_acc: 0.6100\n",
      "Epoch 31/50\n",
      "300/300 [==============================] - 0s 642us/step - loss: 5.8775 - acc: 0.6233 - val_loss: 5.4946 - val_acc: 0.6500\n",
      "Epoch 32/50\n",
      "300/300 [==============================] - 0s 606us/step - loss: 5.4954 - acc: 0.6367 - val_loss: 5.4099 - val_acc: 0.6300\n",
      "Epoch 33/50\n",
      "300/300 [==============================] - 0s 639us/step - loss: 5.7504 - acc: 0.6233 - val_loss: 5.1389 - val_acc: 0.6300\n",
      "Epoch 34/50\n",
      "300/300 [==============================] - 0s 591us/step - loss: 5.5379 - acc: 0.6300 - val_loss: 4.5777 - val_acc: 0.6800\n",
      "Epoch 35/50\n",
      "300/300 [==============================] - 0s 729us/step - loss: 4.7295 - acc: 0.6800 - val_loss: 3.8187 - val_acc: 0.6900\n",
      "Epoch 36/50\n",
      "300/300 [==============================] - 0s 620us/step - loss: 4.1528 - acc: 0.7167 - val_loss: 4.0219 - val_acc: 0.7200\n",
      "Epoch 37/50\n",
      "300/300 [==============================] - 0s 560us/step - loss: 3.8992 - acc: 0.7300 - val_loss: 3.0827 - val_acc: 0.7500\n",
      "Epoch 38/50\n",
      "300/300 [==============================] - 0s 567us/step - loss: 3.2237 - acc: 0.7500 - val_loss: 2.6823 - val_acc: 0.7900\n",
      "Epoch 39/50\n",
      "300/300 [==============================] - 0s 583us/step - loss: 2.5454 - acc: 0.8000 - val_loss: 1.9158 - val_acc: 0.8300\n",
      "Epoch 40/50\n",
      "300/300 [==============================] - 0s 575us/step - loss: 2.1689 - acc: 0.8067 - val_loss: 1.5345 - val_acc: 0.8400\n",
      "Epoch 41/50\n",
      "300/300 [==============================] - 0s 619us/step - loss: 1.8472 - acc: 0.8333 - val_loss: 1.6651 - val_acc: 0.8200\n",
      "Epoch 42/50\n",
      "300/300 [==============================] - 0s 673us/step - loss: 1.3332 - acc: 0.8767 - val_loss: 2.0332 - val_acc: 0.8000\n",
      "Epoch 43/50\n",
      "300/300 [==============================] - 0s 665us/step - loss: 1.3094 - acc: 0.8800 - val_loss: 1.7149 - val_acc: 0.8300\n",
      "Epoch 44/50\n",
      "300/300 [==============================] - 0s 676us/step - loss: 1.3108 - acc: 0.8600 - val_loss: 2.4996 - val_acc: 0.7800\n",
      "Epoch 45/50\n",
      "300/300 [==============================] - 0s 590us/step - loss: 1.0660 - acc: 0.8833 - val_loss: 1.1671 - val_acc: 0.8500\n",
      "Epoch 46/50\n",
      "300/300 [==============================] - 0s 565us/step - loss: 0.5439 - acc: 0.9333 - val_loss: 0.9329 - val_acc: 0.8600\n",
      "Epoch 47/50\n",
      "300/300 [==============================] - 0s 555us/step - loss: 0.4901 - acc: 0.9433 - val_loss: 0.9594 - val_acc: 0.8800\n",
      "Epoch 48/50\n",
      "300/300 [==============================] - 0s 581us/step - loss: 0.6672 - acc: 0.9033 - val_loss: 0.8689 - val_acc: 0.8700\n",
      "Epoch 49/50\n",
      "300/300 [==============================] - 0s 593us/step - loss: 0.3704 - acc: 0.9267 - val_loss: 0.8016 - val_acc: 0.8500\n",
      "Epoch 50/50\n",
      "300/300 [==============================] - 0s 591us/step - loss: 0.3961 - acc: 0.9300 - val_loss: 0.7239 - val_acc: 0.8900\n",
      "100/100 [==============================] - 0s 311us/step\n",
      "Test loss: 0.7239100399613381\n",
      "Test accuracy: 0.89\n"
     ]
    },
    {
     "data": {
      "image/png": "[encoded data removed]",
      "text/plain": [
       "<Figure size 432x288 with 20 Axes>"
      ]
     },
     "metadata": {
      "needs_background": "light"
     },
     "output_type": "display_data"
    },
    {
     "name": "stdout",
     "output_type": "stream",
     "text": [
      "[7 2 1 0 4 1 9 9 4 9 0 0 9 0 1 5 9 7 2 4]\n",
      "Model: \"sequential_19\"\n",
      "_________________________________________________________________\n",
      "Layer (type)                 Output Shape              Param #   \n",
      "=================================================================\n",
      "conv2d_45 (Conv2D)           (None, 26, 26, 32)        320       \n",
      "_________________________________________________________________\n",
      "activation_78 (Activation)   (None, 26, 26, 32)        0         \n",
      "_________________________________________________________________\n",
      "conv2d_46 (Conv2D)           (None, 24, 24, 64)        18496     \n",
      "_________________________________________________________________\n",
      "activation_79 (Activation)   (None, 24, 24, 64)        0         \n",
      "_________________________________________________________________\n",
      "max_pooling2d_26 (MaxPooling (None, 12, 12, 64)        0         \n",
      "_________________________________________________________________\n",
      "dropout_35 (Dropout)         (None, 12, 12, 64)        0         \n",
      "_________________________________________________________________\n",
      "flatten_19 (Flatten)         (None, 9216)              0         \n",
      "_________________________________________________________________\n",
      "dense_40 (Dense)             (None, 128)               1179776   \n",
      "_________________________________________________________________\n",
      "activation_80 (Activation)   (None, 128)               0         \n",
      "_________________________________________________________________\n",
      "dropout_36 (Dropout)         (None, 128)               0         \n",
      "_________________________________________________________________\n",
      "dense_41 (Dense)             (None, 10)                1290      \n",
      "_________________________________________________________________\n",
      "activation_81 (Activation)   (None, 10)                0         \n",
      "=================================================================\n",
      "Total params: 1,199,882\n",
      "Trainable params: 1,199,882\n",
      "Non-trainable params: 0\n",
      "_________________________________________________________________\n"
     ]
    }
   ],
   "source": [
    "from keras.datasets import mnist\n",
    "from keras.layers import Dense, Dropout, Flatten, Activation\n",
    "from keras.layers import Conv2D, MaxPooling2D\n",
    "from keras.models import Sequential, load_model\n",
    "from keras.utils.np_utils import to_categorical\n",
    "from keras.utils.vis_utils import plot_model\n",
    "import numpy as np\n",
    "import matplotlib.pyplot as plt\n",
    "%matplotlib inline\n",
    "\n",
    "#-MNIST Data load\n",
    "(X_train, y_train), (X_test, y_test) = mnist.load_data()\n",
    "\n",
    "#-- Training:300, Testing:100\n",
    "# Conv 4차원 배열 (배치 크기×가로×세로×채널 수)\n",
    "# MNIST 데이터 : RGB 이미지가 아니라 원래 3차원 데이터이므로 미리 4차원으로 변환\n",
    "X_train = X_train[:300].reshape(-1, 28, 28, 1)\n",
    "X_test = X_test[:100].reshape(-1, 28, 28, 1)\n",
    "y_train = to_categorical(y_train)[:300]\n",
    "y_test = to_categorical(y_test)[:100]\n",
    "\n",
    "# 모델 정의\n",
    "model = Sequential()\n",
    "#--\n",
    "model.add(Conv2D(32, kernel_size=(3, 3), input_shape=(28,28,1)))\n",
    "model.add(Activation('relu'))\n",
    "model.add(Conv2D(filters=64, kernel_size=(3, 3)))\n",
    "model.add(Activation('relu'))\n",
    "model.add(MaxPooling2D(pool_size=(2, 2)))\n",
    "model.add(Dropout(0.25))\n",
    "model.add(Flatten())\n",
    "model.add(Dense(128))\n",
    "model.add(Activation('relu'))\n",
    "model.add(Dropout(0.5))\n",
    "model.add(Dense(10))\n",
    "model.add(Activation('softmax'))\n",
    "\n",
    "#--\n",
    "model.compile(loss      = 'categorical_crossentropy',\n",
    "              optimizer = 'adadelta',\n",
    "              metrics   = ['accuracy'])\n",
    "#--\n",
    "model.fit(X_train, y_train,\n",
    "          batch_size      = 128,\n",
    "          epochs          = 50,\n",
    "          verbose         = 1,\n",
    "          validation_data = (X_test, y_test))\n",
    "\n",
    "#-- 정확도\n",
    "scores = model.evaluate(X_test, y_test, verbose=1)\n",
    "print('Test loss:', scores[0])\n",
    "print('Test accuracy:', scores[1])\n",
    "\n",
    "#-- 데이터를 시각화,,   테스트 데이터\n",
    "for i in range(20):\n",
    "    plt.subplot(2, 10, i+1)\n",
    "    plt.imshow(X_test[i].reshape((28,28)), 'gray')\n",
    "plt.suptitle(\"The first ten of the test data\",fontsize=20)\n",
    "plt.show()\n",
    "\n",
    "#-- 예측\n",
    "pred = np.argmax(model.predict(X_test[0:20]), axis=1)\n",
    "print(pred)\n",
    "\n",
    "#-- summary\n",
    "model.summary()"
   ]
  },
  {
   "cell_type": "code",
   "execution_count": 22,
   "metadata": {},
   "outputs": [
    {
     "name": "stdout",
     "output_type": "stream",
     "text": [
      "Epoch 1/50\n",
      "300/300 [==============================] - 2s 5ms/step - loss: 14.0266 - acc: 0.0867\n",
      "Epoch 2/50\n",
      "300/300 [==============================] - 0s 1ms/step - loss: 13.5295 - acc: 0.1200\n",
      "Epoch 3/50\n",
      "300/300 [==============================] - 0s 1ms/step - loss: 13.5516 - acc: 0.1100\n",
      "Epoch 4/50\n",
      "300/300 [==============================] - 0s 1ms/step - loss: 13.3866 - acc: 0.1267\n",
      "Epoch 5/50\n",
      "300/300 [==============================] - 0s 1ms/step - loss: 13.1911 - acc: 0.1233\n",
      "Epoch 6/50\n",
      "300/300 [==============================] - 0s 1ms/step - loss: 12.8699 - acc: 0.1400\n",
      "Epoch 7/50\n",
      "300/300 [==============================] - 0s 1ms/step - loss: 12.7021 - acc: 0.1467\n",
      "Epoch 8/50\n",
      "300/300 [==============================] - 0s 1ms/step - loss: 12.7797 - acc: 0.1500\n",
      "Epoch 9/50\n",
      "300/300 [==============================] - 0s 1ms/step - loss: 12.7740 - acc: 0.1433\n",
      "Epoch 10/50\n",
      "300/300 [==============================] - 0s 1ms/step - loss: 12.8494 - acc: 0.1500\n",
      "Epoch 11/50\n",
      "300/300 [==============================] - 0s 1ms/step - loss: 12.2771 - acc: 0.1200\n",
      "Epoch 12/50\n",
      "300/300 [==============================] - 0s 1ms/step - loss: 11.6309 - acc: 0.1533\n",
      "Epoch 13/50\n",
      "300/300 [==============================] - 0s 983us/step - loss: 10.9291 - acc: 0.1933\n",
      "Epoch 14/50\n",
      "300/300 [==============================] - 0s 1ms/step - loss: 11.2047 - acc: 0.1267\n",
      "Epoch 15/50\n",
      "300/300 [==============================] - 0s 1ms/step - loss: 10.0908 - acc: 0.1600\n",
      "Epoch 16/50\n",
      "300/300 [==============================] - 0s 1ms/step - loss: 8.6021 - acc: 0.1933\n",
      "Epoch 17/50\n",
      "300/300 [==============================] - 0s 1ms/step - loss: 7.5800 - acc: 0.1933\n",
      "Epoch 18/50\n",
      "300/300 [==============================] - 0s 982us/step - loss: 6.2116 - acc: 0.1733\n",
      "Epoch 19/50\n",
      "300/300 [==============================] - 0s 1ms/step - loss: 5.0723 - acc: 0.2000\n",
      "Epoch 20/50\n",
      "300/300 [==============================] - 0s 993us/step - loss: 4.5755 - acc: 0.1933\n",
      "Epoch 21/50\n",
      "300/300 [==============================] - 0s 982us/step - loss: 3.8405 - acc: 0.2167\n",
      "Epoch 22/50\n",
      "300/300 [==============================] - 0s 1ms/step - loss: 3.3972 - acc: 0.2233\n",
      "Epoch 23/50\n",
      "300/300 [==============================] - 0s 1ms/step - loss: 2.9408 - acc: 0.2133\n",
      "Epoch 24/50\n",
      "300/300 [==============================] - 0s 1ms/step - loss: 2.5348 - acc: 0.2600\n",
      "Epoch 25/50\n",
      "300/300 [==============================] - 0s 1ms/step - loss: 2.5178 - acc: 0.2500\n",
      "Epoch 26/50\n",
      "300/300 [==============================] - 0s 1ms/step - loss: 2.4097 - acc: 0.2733\n",
      "Epoch 27/50\n",
      "300/300 [==============================] - 0s 1ms/step - loss: 2.3101 - acc: 0.2567\n",
      "Epoch 28/50\n",
      "300/300 [==============================] - 0s 1ms/step - loss: 2.2039 - acc: 0.3200\n",
      "Epoch 29/50\n",
      "300/300 [==============================] - 0s 1ms/step - loss: 2.0428 - acc: 0.3000\n",
      "Epoch 30/50\n",
      "300/300 [==============================] - 0s 1ms/step - loss: 2.0444 - acc: 0.3200\n",
      "Epoch 31/50\n",
      "300/300 [==============================] - 0s 1ms/step - loss: 1.9989 - acc: 0.3233\n",
      "Epoch 32/50\n",
      "300/300 [==============================] - 0s 990us/step - loss: 1.9883 - acc: 0.3500\n",
      "Epoch 33/50\n",
      "300/300 [==============================] - 0s 967us/step - loss: 1.9008 - acc: 0.3133\n",
      "Epoch 34/50\n",
      "300/300 [==============================] - 0s 1ms/step - loss: 1.7814 - acc: 0.4000\n",
      "Epoch 35/50\n",
      "300/300 [==============================] - 0s 1ms/step - loss: 1.6865 - acc: 0.4300\n",
      "Epoch 36/50\n",
      "300/300 [==============================] - 0s 964us/step - loss: 1.7679 - acc: 0.3667\n",
      "Epoch 37/50\n",
      "300/300 [==============================] - 0s 959us/step - loss: 1.5419 - acc: 0.4600\n",
      "Epoch 38/50\n",
      "300/300 [==============================] - 0s 998us/step - loss: 1.5940 - acc: 0.4767\n",
      "Epoch 39/50\n",
      "300/300 [==============================] - 0s 965us/step - loss: 1.6648 - acc: 0.4233\n",
      "Epoch 40/50\n",
      "300/300 [==============================] - 0s 966us/step - loss: 1.5512 - acc: 0.5000\n",
      "Epoch 41/50\n",
      "300/300 [==============================] - 0s 958us/step - loss: 1.4808 - acc: 0.5033\n",
      "Epoch 42/50\n",
      "300/300 [==============================] - 0s 971us/step - loss: 1.4792 - acc: 0.4600\n",
      "Epoch 43/50\n",
      "300/300 [==============================] - 0s 938us/step - loss: 1.4017 - acc: 0.5167\n",
      "Epoch 44/50\n",
      "300/300 [==============================] - 0s 931us/step - loss: 1.3782 - acc: 0.5300\n",
      "Epoch 45/50\n",
      "300/300 [==============================] - 0s 1ms/step - loss: 1.3824 - acc: 0.5100\n",
      "Epoch 46/50\n",
      "300/300 [==============================] - 0s 1ms/step - loss: 1.3408 - acc: 0.5433\n",
      "Epoch 47/50\n",
      "300/300 [==============================] - 0s 956us/step - loss: 1.2097 - acc: 0.5633\n",
      "Epoch 48/50\n",
      "300/300 [==============================] - 0s 981us/step - loss: 1.2011 - acc: 0.6100\n",
      "Epoch 49/50\n",
      "300/300 [==============================] - 0s 947us/step - loss: 1.2654 - acc: 0.5600\n",
      "Epoch 50/50\n",
      "300/300 [==============================] - 0s 969us/step - loss: 1.1418 - acc: 0.5833\n",
      "100/100 [==============================] - 0s 4ms/step\n",
      "Test loss: 1.707495322227478\n",
      "Test accuracy: 0.38\n"
     ]
    },
    {
     "data": {
      "image/png": "[encoded data removed]",
      "text/plain": [
       "<Figure size 432x288 with 20 Axes>"
      ]
     },
     "metadata": {
      "needs_background": "light"
     },
     "output_type": "display_data"
    },
    {
     "name": "stdout",
     "output_type": "stream",
     "text": [
      "[6 8 0 8 6 6 1 6 3 1 0 1 3 1 1 6 3 3 8 7]\n",
      "Model: \"sequential_20\"\n",
      "_________________________________________________________________\n",
      "Layer (type)                 Output Shape              Param #   \n",
      "=================================================================\n",
      "conv2d_47 (Conv2D)           (None, 32, 32, 32)        896       \n",
      "_________________________________________________________________\n",
      "activation_82 (Activation)   (None, 32, 32, 32)        0         \n",
      "_________________________________________________________________\n",
      "conv2d_48 (Conv2D)           (None, 30, 30, 32)        9248      \n",
      "_________________________________________________________________\n",
      "activation_83 (Activation)   (None, 30, 30, 32)        0         \n",
      "_________________________________________________________________\n",
      "max_pooling2d_27 (MaxPooling (None, 15, 15, 32)        0         \n",
      "_________________________________________________________________\n",
      "dropout_37 (Dropout)         (None, 15, 15, 32)        0         \n",
      "_________________________________________________________________\n",
      "conv2d_49 (Conv2D)           (None, 15, 15, 64)        18496     \n",
      "_________________________________________________________________\n",
      "activation_84 (Activation)   (None, 15, 15, 64)        0         \n",
      "_________________________________________________________________\n",
      "conv2d_50 (Conv2D)           (None, 13, 13, 64)        36928     \n",
      "_________________________________________________________________\n",
      "activation_85 (Activation)   (None, 13, 13, 64)        0         \n",
      "_________________________________________________________________\n",
      "max_pooling2d_28 (MaxPooling (None, 6, 6, 64)          0         \n",
      "_________________________________________________________________\n",
      "dropout_38 (Dropout)         (None, 6, 6, 64)          0         \n",
      "_________________________________________________________________\n",
      "flatten_20 (Flatten)         (None, 2304)              0         \n",
      "_________________________________________________________________\n",
      "dense_42 (Dense)             (None, 512)               1180160   \n",
      "_________________________________________________________________\n",
      "activation_86 (Activation)   (None, 512)               0         \n",
      "_________________________________________________________________\n",
      "dropout_39 (Dropout)         (None, 512)               0         \n",
      "_________________________________________________________________\n",
      "dense_43 (Dense)             (None, 10)                5130      \n",
      "_________________________________________________________________\n",
      "activation_87 (Activation)   (None, 10)                0         \n",
      "=================================================================\n",
      "Total params: 1,250,858\n",
      "Trainable params: 1,250,858\n",
      "Non-trainable params: 0\n",
      "_________________________________________________________________\n"
     ]
    }
   ],
   "source": [
    "import keras\n",
    "from keras.datasets import cifar10\n",
    "from keras.layers import Activation, Conv2D, Dense, Dropout, Flatten, MaxPooling2D\n",
    "from keras.models import Sequential, load_model\n",
    "from keras.utils.np_utils import to_categorical\n",
    "import numpy as np\n",
    "import matplotlib.pyplot as plt\n",
    "%matplotlib inline\n",
    "\n",
    "#-\n",
    "(X_train, y_train), (X_test, y_test) = cifar10.load_data()\n",
    "\n",
    "#-- 0 : airplane\n",
    "#-- 1 : automobile\n",
    "#-- 2 : bird\n",
    "#-- 3 : cat\n",
    "#-- 4 : deer\n",
    "#-- 5 : dog\n",
    "#-- 6 : frog\n",
    "#-- 7 : horse\n",
    "#-- 8 : ship\n",
    "#-- 9 : truck\n",
    "\n",
    "\n",
    "#- 300 ea / 100 ea\n",
    "X_train = X_train[:300]\n",
    "X_test = X_test[:100]\n",
    "y_train = to_categorical(y_train)[:300]\n",
    "y_test = to_categorical(y_test)[:100]\n",
    "\n",
    "\n",
    "#--- NN Model\n",
    "model = Sequential()\n",
    "model.add(Conv2D(32, (3, 3), padding='same', input_shape=X_train.shape[1:]))\n",
    "model.add(Activation('relu'))\n",
    "model.add(Conv2D(32, (3, 3)))\n",
    "model.add(Activation('relu'))\n",
    "model.add(MaxPooling2D(pool_size=(2, 2)))\n",
    "model.add(Dropout(0.25))\n",
    "# --------------------------------------------------------------\n",
    "model.add(Conv2D(64, (3, 3), padding='same'))\n",
    "model.add(Activation('relu'))\n",
    "model.add(Conv2D(64, (3, 3)))\n",
    "model.add(Activation('relu'))\n",
    "model.add(MaxPooling2D(pool_size=(2, 2)))\n",
    "model.add(Dropout(0.25))\n",
    "# --------------------------------------------------------------\n",
    "model.add(Flatten())\n",
    "model.add(Dense(512))\n",
    "model.add(Activation('relu'))\n",
    "model.add(Dropout(0.5))\n",
    "model.add(Dense(10))\n",
    "model.add(Activation('softmax'))\n",
    "\n",
    "#- compile\n",
    "opt = keras.optimizers.rmsprop(lr=0.0001, decay=1e-6)\n",
    "model.compile(loss      = 'categorical_crossentropy',\n",
    "              optimizer = opt,\n",
    "              metrics   = ['accuracy'])\n",
    "\n",
    "#- training\n",
    "model.fit(X_train, y_train, batch_size=32, epochs=50)\n",
    "\n",
    "#- weight save\n",
    "model.save_weights('param_cifar10.hdf5')\n",
    "\n",
    "#- accuracy\n",
    "scores = model.evaluate(X_test, y_test, verbose=1)\n",
    "print('Test loss:', scores[0])\n",
    "print('Test accuracy:', scores[1])\n",
    "\n",
    "#- visualize\n",
    "for i in range(20):\n",
    "    plt.subplot(4, 5, i+1)\n",
    "    plt.imshow(X_test[i])\n",
    "plt.suptitle(\"The first ten of the test data\",fontsize=20)\n",
    "plt.show()\n",
    "\n",
    "#-- predict\n",
    "pred = np.argmax(model.predict(X_test[0:20]), axis=1)\n",
    "print(pred)\n",
    "\n",
    "#- summary\n",
    "model.summary()"
   ]
  },
  {
   "cell_type": "markdown",
   "metadata": {},
   "source": [
    "### Hyper parameters - Filters"
   ]
  },
  {
   "cell_type": "code",
   "execution_count": 23,
   "metadata": {},
   "outputs": [
    {
     "data": {
      "image/png": "[encoded data removed]",
      "text/plain": [
       "<Figure size 432x288 with 1 Axes>"
      ]
     },
     "metadata": {
      "needs_background": "light"
     },
     "output_type": "display_data"
    },
    {
     "data": {
      "image/png": "[encoded data removed]",
      "text/plain": [
       "<Figure size 360x144 with 10 Axes>"
      ]
     },
     "metadata": {
      "needs_background": "light"
     },
     "output_type": "display_data"
    },
    {
     "data": {
      "image/png": "[encoded data removed]",
      "text/plain": [
       "<Figure size 360x144 with 10 Axes>"
      ]
     },
     "metadata": {
      "needs_background": "light"
     },
     "output_type": "display_data"
    }
   ],
   "source": [
    "import numpy as np\n",
    "import matplotlib.pyplot as plt\n",
    "import urllib.request\n",
    "\n",
    "#- convolution  1 channel\n",
    "class Conv:\n",
    "    def __init__(self, filters):\n",
    "        self.filters = filters\n",
    "        self.W = np.random.rand(filters, 3, 3)\n",
    "    def f_prop(self, X):\n",
    "        out = np.zeros((filters, X.shape[0]-2, X.shape[1]-2))\n",
    "        for k in range(self.filters):\n",
    "            for i in range(out[0].shape[0]):\n",
    "                for j in range(out[0].shape[1]):\n",
    "                    x = X[i:i+3, j:j+3]\n",
    "                    out[k,i,j] = np.dot(self.W[k].flatten(), x.flatten())\n",
    "        return out\n",
    "\n",
    "#-    \n",
    "local_filename, headers = urllib.request.urlretrieve('https://aidemystorageprd.blob.core.windows.net/data/5100_cnn_data/circle.npy') \n",
    "X = np.load(local_filename)\n",
    "\n",
    "#\n",
    "filters=10\n",
    "\n",
    "#- create convolution\n",
    "conv = Conv(filters=filters)\n",
    "\n",
    "# 합성곱 실행\n",
    "C = conv.f_prop(X)\n",
    "# --------------------------------------------------------------\n",
    "# 시각화를 위한 코드\n",
    "# --------------------------------------------------------------\n",
    "plt.imshow(X)\n",
    "plt.title('The original image', fontsize=12)\n",
    "plt.show()\n",
    "\n",
    "\n",
    "#--\n",
    "plt.figure(figsize=(5,2))\n",
    "for i in range(filters):\n",
    "    plt.subplot(2,filters/2,i+1)\n",
    "    ax = plt.gca() # get current axis\n",
    "    ax.tick_params(labelbottom=\"off\", labelleft=\"off\", bottom=\"off\", left=\"off\") # 축을 삭제\n",
    "    plt.imshow(conv.W[i])\n",
    "plt.suptitle('kernel', fontsize=12)\n",
    "plt.show()\n",
    "\n",
    "#--\n",
    "plt.figure(figsize=(5,2))\n",
    "for i in range(filters):\n",
    "    plt.subplot(2,filters/2,i+1)\n",
    "    ax = plt.gca() # get current axis\n",
    "    ax.tick_params(labelbottom=\"off\", labelleft=\"off\", bottom=\"off\", left=\"off\") # 축을 삭제\n",
    "    plt.imshow(C[i])\n",
    "plt.suptitle('Convolution result', fontsize=12)\n",
    "plt.show()"
   ]
  },
  {
   "cell_type": "markdown",
   "metadata": {},
   "source": [
    "### Kernel Size"
   ]
  },
  {
   "cell_type": "code",
   "execution_count": 26,
   "metadata": {},
   "outputs": [
    {
     "data": {
      "image/png": "[encoded data removed]",
      "text/plain": [
       "<Figure size 432x288 with 1 Axes>"
      ]
     },
     "metadata": {
      "needs_background": "light"
     },
     "output_type": "display_data"
    },
    {
     "data": {
      "image/png": "[encoded data removed]",
      "text/plain": [
       "<Figure size 720x72 with 4 Axes>"
      ]
     },
     "metadata": {
      "needs_background": "light"
     },
     "output_type": "display_data"
    },
    {
     "data": {
      "image/png": "[encoded data removed]",
      "text/plain": [
       "<Figure size 720x72 with 4 Axes>"
      ]
     },
     "metadata": {
      "needs_background": "light"
     },
     "output_type": "display_data"
    },
    {
     "data": {
      "image/png": "[encoded data removed]",
      "text/plain": [
       "<Figure size 720x72 with 4 Axes>"
      ]
     },
     "metadata": {
      "needs_background": "light"
     },
     "output_type": "display_data"
    },
    {
     "data": {
      "image/png": "[encoded data removed]",
      "text/plain": [
       "<Figure size 720x72 with 4 Axes>"
      ]
     },
     "metadata": {
      "needs_background": "light"
     },
     "output_type": "display_data"
    }
   ],
   "source": [
    "import numpy as np\n",
    "import matplotlib.pyplot as plt\n",
    "import urllib.request\n",
    "\n",
    "#\n",
    "class Conv:\n",
    "    def __init__(self, filters, kernel_size):\n",
    "        self.filters = filters\n",
    "        self.kernel_size = kernel_size\n",
    "        self.W = np.random.rand(filters, kernel_size[0], kernel_size[1])\n",
    "    def f_prop(self, X):\n",
    "        k_h, k_w = self.kernel_size\n",
    "        out = np.zeros((filters, X.shape[0]-k_h+1, X.shape[1]-k_w+1))\n",
    "        for k in range(self.filters):\n",
    "            for i in range(out[0].shape[0]):\n",
    "                for j in range(out[0].shape[1]):\n",
    "                    x = X[i:i+k_h, j:j+k_w]\n",
    "                    out[k,i,j] = np.dot(self.W[k].flatten(), x.flatten())\n",
    "        return out\n",
    "\n",
    "#\n",
    "local_filename, headers = urllib.request.urlretrieve('https://aidemystorageprd.blob.core.windows.net/data/5100_cnn_data/circle.npy') \n",
    "X = np.load(local_filename)\n",
    "\n",
    "#- filter / kernel size\n",
    "filters = 4\n",
    "kernel_size = (3,3)\n",
    "# 합성곱 층을 생성\n",
    "conv1 = Conv(filters=filters, kernel_size=kernel_size)\n",
    "# 합성곱을 실행\n",
    "C1 = conv1.f_prop(X)\n",
    "\n",
    "# 합성곱 2\n",
    "filters = 4\n",
    "kernel_size = (6,6)\n",
    "# 합성곱 층  생성\n",
    "conv2 = Conv(filters=filters, kernel_size=kernel_size)\n",
    "# 합성곱  실행\n",
    "C2 = conv2.f_prop(X)\n",
    "\n",
    "#--\n",
    "plt.imshow(X)\n",
    "plt.title('The original image', fontsize=12)\n",
    "plt.show()\n",
    "\n",
    "\n",
    "#--\n",
    "plt.figure(figsize=(10,1))\n",
    "for i in range(filters):\n",
    "    plt.subplot(1,filters,i+1)\n",
    "    ax = plt.gca() # get current axis\n",
    "    ax.tick_params(labelbottom=\"off\", labelleft=\"off\", bottom=\"off\", left=\"off\") # 축을 삭제\n",
    "    plt.imshow(conv1.W[i])\n",
    "plt.suptitle('Kernel Visualization (3x3)', fontsize=12)\n",
    "plt.show()\n",
    "\n",
    "#--\n",
    "plt.figure(figsize=(10,1))\n",
    "for i in range(filters):\n",
    "    plt.subplot(1,filters,i+1)\n",
    "    ax = plt.gca() # get current axis\n",
    "    ax.tick_params(labelbottom=\"off\", labelleft=\"off\", bottom=\"off\", left=\"off\") # 축을 삭제\n",
    "    plt.imshow(C1[i])\n",
    "plt.suptitle('Convolution result 1', fontsize=12)\n",
    "plt.show()\n",
    "\n",
    "#--\n",
    "plt.figure(figsize=(10,1))\n",
    "for i in range(filters):\n",
    "    plt.subplot(1,filters,i+1)\n",
    "    ax = plt.gca() # get current axis\n",
    "    ax.tick_params(labelbottom=\"off\", labelleft=\"off\", bottom=\"off\", left=\"off\") # 축을 삭제\n",
    "    plt.imshow(conv2.W[i])\n",
    "plt.suptitle('Kernel Visualization (6x6)', fontsize=12)\n",
    "plt.show()\n",
    "\n",
    "#--\n",
    "plt.figure(figsize=(10,1))\n",
    "for i in range(filters):\n",
    "    plt.subplot(1,filters,i+1)\n",
    "    ax = plt.gca() # get current axis\n",
    "    ax.tick_params(labelbottom=\"off\", labelleft=\"off\", bottom=\"off\", left=\"off\") # 축을 삭제\n",
    "    plt.imshow(C2[i])\n",
    "plt.suptitle('Convolution result 2', fontsize=12)\n",
    "plt.show()"
   ]
  },
  {
   "cell_type": "markdown",
   "metadata": {},
   "source": [
    "### Strides"
   ]
  },
  {
   "cell_type": "code",
   "execution_count": 27,
   "metadata": {},
   "outputs": [
    {
     "data": {
      "image/png": "[encoded data removed]",
      "text/plain": [
       "<Figure size 432x288 with 1 Axes>"
      ]
     },
     "metadata": {
      "needs_background": "light"
     },
     "output_type": "display_data"
    },
    {
     "data": {
      "image/png": "[encoded data removed]",
      "text/plain": [
       "<Figure size 720x72 with 4 Axes>"
      ]
     },
     "metadata": {
      "needs_background": "light"
     },
     "output_type": "display_data"
    },
    {
     "data": {
      "image/png": "[encoded data removed]",
      "text/plain": [
       "<Figure size 720x72 with 4 Axes>"
      ]
     },
     "metadata": {
      "needs_background": "light"
     },
     "output_type": "display_data"
    },
    {
     "data": {
      "image/png": "[encoded data removed]",
      "text/plain": [
       "<Figure size 720x72 with 4 Axes>"
      ]
     },
     "metadata": {
      "needs_background": "light"
     },
     "output_type": "display_data"
    },
    {
     "data": {
      "image/png": "[encoded data removed]",
      "text/plain": [
       "<Figure size 720x72 with 4 Axes>"
      ]
     },
     "metadata": {
      "needs_background": "light"
     },
     "output_type": "display_data"
    }
   ],
   "source": [
    "import numpy as np\n",
    "import matplotlib.pyplot as plt\n",
    "import urllib.request\n",
    "\n",
    "#\n",
    "class Conv:\n",
    "    def __init__(self, filters, kernel_size, strides):\n",
    "        self.filters = filters\n",
    "        self.kernel_size = kernel_size\n",
    "        self.strides = strides\n",
    "        self.W = np.random.rand(filters, kernel_size[0], kernel_size[1])\n",
    "    def f_prop(self, X):\n",
    "        k_h = self.kernel_size[0]\n",
    "        k_w = self.kernel_size[1]\n",
    "        s_h = self.strides[0]\n",
    "        s_w = self.strides[1]\n",
    "        out = np.zeros((filters, (X.shape[0]-k_h)//s_h+1, \n",
    "                        (X.shape[1]-k_w)//s_w+1))\n",
    "        for k in range(self.filters):\n",
    "            for i in range(out[0].shape[0]):\n",
    "                for j in range(out[0].shape[1]):\n",
    "                    x = X[i*s_h:i*s_h+k_h, j*s_w:j*s_w+k_w]\n",
    "                    out[k,i,j] = np.dot(self.W[k].flatten(), x.flatten())\n",
    "        return out\n",
    "\n",
    "#\n",
    "local_filename, headers = urllib.request.urlretrieve('https://aidemystorageprd.blob.core.windows.net/data/5100_cnn_data/circle.npy') \n",
    "X = np.load(local_filename)\n",
    "\n",
    "# 합성곱 1\n",
    "filters = 4\n",
    "kernel_size = (3,3)\n",
    "strides = (1,1)\n",
    "# 합성곱 층을 생성\n",
    "conv1 = Conv(filters=filters, kernel_size=kernel_size, strides=strides)\n",
    "# 합성곱을 실행\n",
    "C1 = conv1.f_prop(X)\n",
    "\n",
    "# 합성곱 2\n",
    "filters = 4\n",
    "kernel_size = (3,3)\n",
    "strides = (2,2)\n",
    "# 합성곱 층을 생성\n",
    "conv2 = Conv(filters=filters, kernel_size=kernel_size, strides=strides)\n",
    "conv2.W = conv1.W # 커널을 통일\n",
    "# 합성곱을 실행\n",
    "C2 = conv2.f_prop(X)\n",
    "\n",
    "# --------------------------------------------------------------\n",
    "plt.imshow(X)\n",
    "plt.title('The original image', fontsize=12)\n",
    "plt.show()\n",
    "\n",
    "#--\n",
    "plt.figure(figsize=(10,1))\n",
    "for i in range(filters):\n",
    "    plt.subplot(1,filters,i+1)\n",
    "    ax = plt.gca() # get current axis\n",
    "    ax.tick_params(labelbottom=\"off\", labelleft=\"off\", bottom=\"off\", \n",
    "                   left=\"off\") # 축을 삭제\n",
    "    plt.imshow(conv1.W[i])\n",
    "plt.suptitle('Kernel Visualization', fontsize=12)\n",
    "plt.show()\n",
    "#--\n",
    "plt.figure(figsize=(10,1))\n",
    "for i in range(filters):\n",
    "    plt.subplot(1,filters,i+1)\n",
    "    ax = plt.gca() # get current axis\n",
    "    ax.tick_params(labelbottom=\"off\", labelleft=\"off\", bottom=\"off\", \n",
    "                   left=\"off\") # 축을 삭제\n",
    "    plt.imshow(C1[i])\n",
    "plt.suptitle('Convolution result 1, stride (1,1)', fontsize=12)\n",
    "plt.show()\n",
    "#--\n",
    "plt.figure(figsize=(10,1))\n",
    "for i in range(filters):\n",
    "    plt.subplot(1,filters,i+1)\n",
    "    ax = plt.gca() # get current axis\n",
    "    ax.tick_params(labelbottom=\"off\", labelleft=\"off\", bottom=\"off\", \n",
    "                   left=\"off\") # 축을 삭제\n",
    "    plt.imshow(conv2.W[i])\n",
    "plt.suptitle('Kernel Visualization', fontsize=12)\n",
    "plt.show()\n",
    "#--\n",
    "plt.figure(figsize=(10,1))\n",
    "for i in range(filters):\n",
    "    plt.subplot(1,filters,i+1)\n",
    "    ax = plt.gca() # get current axis\n",
    "    ax.tick_params(labelbottom=\"off\", labelleft=\"off\", bottom=\"off\", \n",
    "                   left=\"off\") # 축을 삭제\n",
    "    plt.imshow(C2[i])\n",
    "plt.suptitle('Convolution result 2, stride (2,2)', fontsize=12)\n",
    "plt.show()"
   ]
  },
  {
   "cell_type": "markdown",
   "metadata": {},
   "source": [
    "### Padding"
   ]
  },
  {
   "cell_type": "code",
   "execution_count": 29,
   "metadata": {},
   "outputs": [
    {
     "data": {
      "image/png": "[encoded data removed]",
      "text/plain": [
       "<Figure size 432x288 with 1 Axes>"
      ]
     },
     "metadata": {
      "needs_background": "light"
     },
     "output_type": "display_data"
    },
    {
     "data": {
      "image/png": "[encoded data removed]",
      "text/plain": [
       "<Figure size 720x72 with 4 Axes>"
      ]
     },
     "metadata": {
      "needs_background": "light"
     },
     "output_type": "display_data"
    },
    {
     "data": {
      "image/png": "[encoded data removed]",
      "text/plain": [
       "<Figure size 720x72 with 4 Axes>"
      ]
     },
     "metadata": {
      "needs_background": "light"
     },
     "output_type": "display_data"
    },
    {
     "data": {
      "image/png": "[encoded data removed]",
      "text/plain": [
       "<Figure size 432x288 with 1 Axes>"
      ]
     },
     "metadata": {
      "needs_background": "light"
     },
     "output_type": "display_data"
    },
    {
     "data": {
      "image/png": "[encoded data removed]",
      "text/plain": [
       "<Figure size 720x72 with 4 Axes>"
      ]
     },
     "metadata": {
      "needs_background": "light"
     },
     "output_type": "display_data"
    },
    {
     "data": {
      "image/png": "[encoded data removed]",
      "text/plain": [
       "<Figure size 720x72 with 4 Axes>"
      ]
     },
     "metadata": {
      "needs_background": "light"
     },
     "output_type": "display_data"
    }
   ],
   "source": [
    "import numpy as np\n",
    "import matplotlib.pyplot as plt\n",
    "import urllib.request\n",
    "\n",
    "\n",
    "#\n",
    "class Conv:\n",
    "    def __init__(self, filters, kernel_size, strides, padding):\n",
    "        self.filters = filters\n",
    "        self.kernel_size = kernel_size\n",
    "        self.strides = strides\n",
    "        self.padding = padding\n",
    "        self.W = np.random.rand(filters, kernel_size[0], kernel_size[1])\n",
    "    def f_prop(self, X):\n",
    "        k_h, k_w = self.kernel_size\n",
    "        s_h, s_w = self.strides\n",
    "        p_h, p_w = self.padding\n",
    "        out = np.zeros((filters, (X.shape[0]+p_h*2-k_h)//s_h+1, \n",
    "                        (X.shape[1]+p_w*2-k_w)//s_w+1))\n",
    "        #\n",
    "        X = np.pad(X, ((p_h, p_h), (p_w, p_w)), 'constant', \n",
    "                   constant_values=((0,0),(0,0)))\n",
    "        self.X = X # 나중에 패딩 결과를 시각화하기 위해 저장\n",
    "        for k in range(self.filters):\n",
    "            for i in range(out[0].shape[0]):\n",
    "                for j in range(out[0].shape[1]):\n",
    "                    x = X[i*s_h:i*s_h+k_h, j*s_w:j*s_w+k_w]\n",
    "                    out[k,i,j] = np.dot(self.W[k].flatten(), \n",
    "                                        x.flatten())\n",
    "        return out\n",
    "\n",
    "#\n",
    "local_filename, headers = urllib.request.urlretrieve('https://aidemystorageprd.blob.core.windows.net/data/5100_cnn_data/circle.npy') \n",
    "X = np.load(local_filename)\n",
    "\n",
    "# 합성곱 1\n",
    "filters = 4\n",
    "kernel_size = (3,3)\n",
    "strides = (1,1)\n",
    "padding = (0,0)\n",
    "# 합성곱 층을 생성\n",
    "conv1 = Conv(filters=filters, kernel_size=kernel_size, strides=strides, \n",
    "             padding=padding)\n",
    "# 합성곱을 실행\n",
    "C1 = conv1.f_prop(X)\n",
    "\n",
    "# 합성곱 2\n",
    "filters = 4\n",
    "kernel_size = (3,3)\n",
    "strides = (1,1)\n",
    "padding = (2,2)\n",
    "# 합성곱 층을 생성\n",
    "conv2 = Conv(filters=filters, kernel_size=kernel_size, strides=strides, padding=padding)\n",
    "conv2.W = conv1.W # 가중치를 통일합니다\n",
    "# 합성곱을 실행\n",
    "C2 = conv2.f_prop(X)\n",
    "\n",
    "#---\n",
    "plt.imshow(conv1.X)\n",
    "plt.title('Padding result of convolution 1,, padding (0,0)', fontsize=12)\n",
    "plt.show()\n",
    "#--\n",
    "plt.figure(figsize=(10,1))\n",
    "for i in range(filters):\n",
    "    plt.subplot(1, filters, i+1)\n",
    "    ax = plt.gca() # get current axis\n",
    "    ax.tick_params(labelbottom=\"off\", labelleft=\"off\", bottom=\"off\", left=\"off\") # 축을 삭제\n",
    "    plt.imshow(conv1.W[i])\n",
    "plt.suptitle('Visualization of the convolution 1 kernel', fontsize=12)\n",
    "plt.show()\n",
    "#--\n",
    "plt.figure(figsize=(10,1))\n",
    "for i in range(filters):\n",
    "    plt.subplot(1, filters, i+1)\n",
    "    ax = plt.gca() # get current axis\n",
    "    ax.tick_params(labelbottom=\"off\", labelleft=\"off\", bottom=\"off\", left=\"off\") # 축을 삭제\n",
    "    plt.imshow(C1[i])\n",
    "plt.suptitle('Result of convolution 1', fontsize=12)\n",
    "plt.show()\n",
    "\n",
    "#--\n",
    "plt.imshow(conv2.X)\n",
    "plt.title('Padding result of convolution 2,, padding (2,2)', fontsize=12)\n",
    "plt.show()\n",
    "#--\n",
    "plt.figure(figsize=(10,1))\n",
    "for i in range(filters):\n",
    "    plt.subplot(1, filters, i+1)\n",
    "    ax = plt.gca() # get current axis\n",
    "    ax.tick_params(labelbottom=\"off\", labelleft=\"off\", bottom=\"off\", left=\"off\") # 축을 삭제\n",
    "    plt.imshow(conv2.W[i])\n",
    "plt.suptitle('Visualization of the convolution 2 kernel', fontsize=12)\n",
    "plt.show()\n",
    "#--\n",
    "plt.figure(figsize=(10,1))\n",
    "for i in range(filters):\n",
    "    plt.subplot(1, filters, i+1)\n",
    "    ax = plt.gca() # get current axis\n",
    "    ax.tick_params(labelbottom=\"off\", labelleft=\"off\", bottom=\"off\", left=\"off\") # 축을 삭제\n",
    "    plt.imshow(C2[i])\n",
    "plt.suptitle('Result of convolution 2', fontsize=12)\n",
    "plt.show()"
   ]
  },
  {
   "cell_type": "markdown",
   "metadata": {},
   "source": [
    "### Pooling Size"
   ]
  },
  {
   "cell_type": "code",
   "execution_count": 31,
   "metadata": {},
   "outputs": [
    {
     "data": {
      "image/png": "[encoded data removed]",
      "text/plain": [
       "<Figure size 432x288 with 1 Axes>"
      ]
     },
     "metadata": {
      "needs_background": "light"
     },
     "output_type": "display_data"
    },
    {
     "data": {
      "image/png": "[encoded data removed]",
      "text/plain": [
       "<Figure size 720x72 with 4 Axes>"
      ]
     },
     "metadata": {
      "needs_background": "light"
     },
     "output_type": "display_data"
    },
    {
     "data": {
      "image/png": "[encoded data removed]",
      "text/plain": [
       "<Figure size 720x72 with 4 Axes>"
      ]
     },
     "metadata": {
      "needs_background": "light"
     },
     "output_type": "display_data"
    },
    {
     "data": {
      "image/png": "[encoded data removed]",
      "text/plain": [
       "<Figure size 720x72 with 4 Axes>"
      ]
     },
     "metadata": {
      "needs_background": "light"
     },
     "output_type": "display_data"
    }
   ],
   "source": [
    "import numpy as np\n",
    "import matplotlib.pyplot as plt\n",
    "import urllib.request\n",
    "\n",
    "#--\n",
    "class Conv:\n",
    "    def __init__(self, W, filters, kernel_size):\n",
    "        self.filters = filters\n",
    "        self.kernel_size = kernel_size\n",
    "        self.W = W # np.random.rand(filters, kernel_size[0], \n",
    "                   # kernel_size[1])\n",
    "    def f_prop(self, X):\n",
    "        k_h, k_w = self.kernel_size\n",
    "        out = np.zeros((filters, X.shape[0]-k_h+1, X.shape[1]-k_w+1))\n",
    "        for k in range(self.filters):\n",
    "            for i in range(out[0].shape[0]):\n",
    "                for j in range(out[0].shape[1]):\n",
    "                    x = X[i:i+k_h, j:j+k_w]\n",
    "                    out[k,i,j] = np.dot(self.W[k].flatten(), \n",
    "                                        x.flatten())\n",
    "        return out\n",
    "\n",
    "\n",
    "#-- pool  max.\n",
    "class Pool:\n",
    "    def __init__(self, pool_size):\n",
    "        self.pool_size = pool_size\n",
    "    def f_prop(self, X):\n",
    "        k_h, k_w = self.pool_size\n",
    "        out = np.zeros((X.shape[0]-k_h+1, X.shape[1]-k_w+1))\n",
    "        for i in range(out.shape[0]):\n",
    "            for j in range(out.shape[1]):\n",
    "                out[i,j] = np.max(X[i:i+k_h, j:j+k_w])\n",
    "        return out\n",
    "\n",
    "#\n",
    "local_filename, headers = urllib.request.urlretrieve('https://aidemystorageprd.blob.core.windows.net/data/5100_cnn_data/circle.npy') \n",
    "X = np.load(local_filename)\n",
    "\n",
    "local_filename_w, headers = urllib.request.urlretrieve('https://aidemystorageprd.blob.core.windows.net/data/5100_cnn_data/weight.npy') \n",
    "W = np.load(local_filename_w)\n",
    "\n",
    "# 합성곱\n",
    "filters = 4\n",
    "kernel_size = (3,3)\n",
    "conv = Conv(W=W, filters=filters, kernel_size=kernel_size)\n",
    "C = conv.f_prop(X)\n",
    "\n",
    "# 풀링 1 - (2,2)\n",
    "pool_size = (2,2)\n",
    "pool1 = Pool(pool_size)\n",
    "P1 = [pool1.f_prop(C[i]) for i in range(len(C))]\n",
    "\n",
    "# 풀링 2 - (4,4)\n",
    "pool_size = (4,4)\n",
    "pool2 = Pool(pool_size)\n",
    "P2 = [pool2.f_prop(C[i]) for i in range(len(C))]\n",
    "\n",
    "# --------------------------------------------------------------\n",
    "plt.imshow(X)\n",
    "plt.title('The original image', fontsize=12)\n",
    "plt.show()\n",
    "#--\n",
    "plt.figure(figsize=(10,1))\n",
    "for i in range(filters):\n",
    "    plt.subplot(1, filters, i+1)\n",
    "    ax = plt.gca() # get current axis\n",
    "    ax.tick_params(labelbottom=\"off\", labelleft=\"off\", bottom=\"off\", left=\"off\") # 축을 삭제합니다\n",
    "    plt.imshow(C[i])\n",
    "plt.suptitle('Convolution result', fontsize=12)\n",
    "plt.show()\n",
    "#--\n",
    "plt.figure(figsize=(10,1))\n",
    "for i in range(filters):\n",
    "    plt.subplot(1, filters, i+1)\n",
    "    ax = plt.gca() # get current axis\n",
    "    ax.tick_params(labelbottom=\"off\", labelleft=\"off\", bottom=\"off\", left=\"off\") # 축을 삭제합니다\n",
    "    plt.imshow(P1[i])\n",
    "plt.suptitle('Pooling result (2,2)', fontsize=12)\n",
    "plt.show()\n",
    "#--\n",
    "plt.figure(figsize=(10,1))\n",
    "for i in range(filters):\n",
    "    plt.subplot(1, filters, i+1)\n",
    "    ax = plt.gca() # get current axis\n",
    "    ax.tick_params(labelbottom=\"off\", labelleft=\"off\", bottom=\"off\", left=\"off\") # 축을 삭제합니다\n",
    "    plt.imshow(P2[i])\n",
    "plt.suptitle('Pooling result (4,4)', fontsize=12)\n",
    "plt.show()"
   ]
  },
  {
   "cell_type": "markdown",
   "metadata": {},
   "source": [
    "### strides pooling"
   ]
  },
  {
   "cell_type": "code",
   "execution_count": 32,
   "metadata": {},
   "outputs": [
    {
     "data": {
      "image/png": "[encoded data removed]",
      "text/plain": [
       "<Figure size 432x288 with 1 Axes>"
      ]
     },
     "metadata": {
      "needs_background": "light"
     },
     "output_type": "display_data"
    },
    {
     "data": {
      "image/png": "[encoded data removed]",
      "text/plain": [
       "<Figure size 720x72 with 4 Axes>"
      ]
     },
     "metadata": {
      "needs_background": "light"
     },
     "output_type": "display_data"
    },
    {
     "data": {
      "image/png": "[encoded data removed]",
      "text/plain": [
       "<Figure size 720x72 with 4 Axes>"
      ]
     },
     "metadata": {
      "needs_background": "light"
     },
     "output_type": "display_data"
    },
    {
     "data": {
      "image/png": "[encoded data removed]",
      "text/plain": [
       "<Figure size 720x72 with 4 Axes>"
      ]
     },
     "metadata": {
      "needs_background": "light"
     },
     "output_type": "display_data"
    }
   ],
   "source": [
    "import numpy as np\n",
    "import matplotlib.pyplot as plt\n",
    "import urllib.request\n",
    "\n",
    "#--\n",
    "class Conv:\n",
    "    def __init__(self, W, filters, kernel_size):\n",
    "        self.filters = filters\n",
    "        self.kernel_size = kernel_size\n",
    "        self.W = W # np.random.rand(filters, kernel_size[0], \n",
    "                   #                kernel_size[1])\n",
    "    def f_prop(self, X):\n",
    "        k_h, k_w = self.kernel_size\n",
    "        out = np.zeros((filters, X.shape[0]-k_h+1, X.shape[1]-k_w+1))\n",
    "        for k in range(self.filters):\n",
    "            for i in range(out[0].shape[0]):\n",
    "                for j in range(out[0].shape[1]):\n",
    "                    x = X[i:i+k_h, j:j+k_w]\n",
    "                    out[k,i,j] = np.dot(self.W[k].flatten(), x.flatten())\n",
    "        return out\n",
    "\n",
    "#--\n",
    "class Pool:\n",
    "    def __init__(self, pool_size, strides):\n",
    "        self.pool_size = pool_size\n",
    "        self.strides = strides\n",
    "    def f_prop(self, X):\n",
    "        k_h, k_w = self.pool_size\n",
    "        s_h, s_w = self.strides\n",
    "        out = np.zeros(((X.shape[0]-k_h)//s_h+1, (X.shape[1]-k_w)//s_w+1))\n",
    "        for i in range(out.shape[0]):\n",
    "            for j in range(out.shape[1]):\n",
    "                out[i,j] = np.max(X[i*s_h:i*s_h+k_h, j*s_w:j*s_w+k_w])\n",
    "        return out\n",
    "\n",
    "#--\n",
    "local_filename, headers = urllib.request.urlretrieve('https://aidemystorageprd.blob.core.windows.net/data/5100_cnn_data/circle.npy') \n",
    "X = np.load(local_filename)\n",
    "\n",
    "#--\n",
    "local_filename_w, headers = urllib.request.urlretrieve('https://aidemystorageprd.blob.core.windows.net/data/5100_cnn_data/weight.npy') \n",
    "W = np.load(local_filename_w)\n",
    "\n",
    "# 합성곱\n",
    "filters = 4\n",
    "kernel_size = (3,3)\n",
    "conv = Conv(W=W, filters=filters, kernel_size=kernel_size)\n",
    "C = conv.f_prop(X)\n",
    "\n",
    "# 풀링 1\n",
    "pool_size = (2,2)\n",
    "strides = (1,1)\n",
    "pool1 = Pool(pool_size, strides)\n",
    "P1 = [pool1.f_prop(C[i]) for i in range(len(C))]\n",
    "\n",
    "# 풀링 2\n",
    "pool_size = (3,3)\n",
    "strides = (2,2)\n",
    "pool2 = Pool((3,3), (2,2))\n",
    "P2 = [pool2.f_prop(C[i]) for i in range(len(C))]\n",
    "\n",
    "#--\n",
    "plt.imshow(X)\n",
    "plt.title('The original image', fontsize=12)\n",
    "plt.show()\n",
    "\n",
    "#\n",
    "plt.figure(figsize=(10,1))\n",
    "for i in range(filters):\n",
    "    plt.subplot(1, filters, i+1)\n",
    "    ax = plt.gca() # get current axis\n",
    "    ax.tick_params(labelbottom=\"off\", labelleft=\"off\", bottom=\"off\", left=\"off\") # 축을 삭제합니다\n",
    "    plt.imshow(C[i])\n",
    "plt.suptitle('Convolution result', fontsize=12)\n",
    "plt.show()\n",
    "\n",
    "plt.figure(figsize=(10,1))\n",
    "for i in range(filters):\n",
    "    plt.subplot(1, filters, i+1)\n",
    "    ax = plt.gca() # get current axis\n",
    "    ax.tick_params(labelbottom=\"off\", labelleft=\"off\", bottom=\"off\", left=\"off\") # 축을 삭제합니다\n",
    "    plt.imshow(P1[i])\n",
    "plt.suptitle('Pooling result,, strides(1,1), pooling(2,2)', fontsize=12)\n",
    "plt.show()\n",
    "\n",
    "plt.figure(figsize=(10,1))\n",
    "for i in range(filters):\n",
    "    plt.subplot(1, filters, i+1)\n",
    "    ax = plt.gca() # get current axis\n",
    "    ax.tick_params(labelbottom=\"off\", labelleft=\"off\", bottom=\"off\", left=\"off\") # 축을 삭제합니다\n",
    "    plt.imshow(P2[i])\n",
    "plt.suptitle('Pooling result,, strides(2,2), pooling(2,2)', fontsize=12)\n",
    "plt.show()"
   ]
  },
  {
   "cell_type": "markdown",
   "metadata": {},
   "source": [
    "### padding  pooling"
   ]
  },
  {
   "cell_type": "code",
   "execution_count": 33,
   "metadata": {},
   "outputs": [
    {
     "data": {
      "image/png": "[encoded data removed]",
      "text/plain": [
       "<Figure size 432x288 with 1 Axes>"
      ]
     },
     "metadata": {
      "needs_background": "light"
     },
     "output_type": "display_data"
    },
    {
     "data": {
      "image/png": "[encoded data removed]",
      "text/plain": [
       "<Figure size 720x72 with 4 Axes>"
      ]
     },
     "metadata": {
      "needs_background": "light"
     },
     "output_type": "display_data"
    },
    {
     "data": {
      "image/png": "[encoded data removed]",
      "text/plain": [
       "<Figure size 720x72 with 4 Axes>"
      ]
     },
     "metadata": {
      "needs_background": "light"
     },
     "output_type": "display_data"
    },
    {
     "data": {
      "image/png": "[encoded data removed]",
      "text/plain": [
       "<Figure size 720x72 with 4 Axes>"
      ]
     },
     "metadata": {
      "needs_background": "light"
     },
     "output_type": "display_data"
    }
   ],
   "source": [
    "import numpy as np\n",
    "import matplotlib.pyplot as plt\n",
    "import urllib.request\n",
    "\n",
    "#--\n",
    "class Conv:\n",
    "    def __init__(self, W, filters, kernel_size):\n",
    "        self.filters = filters\n",
    "        self.kernel_size = kernel_size\n",
    "        self.W = W # np.random.rand(filters, kernel_size[0], \n",
    "                   #                         kernel_size[1])\n",
    "    def f_prop(self, X):\n",
    "        k_h, k_w = self.kernel_size\n",
    "        out = np.zeros((filters, X.shape[0]-k_h+1, X.shape[1]-k_w+1))\n",
    "        for k in range(self.filters):\n",
    "            for i in range(out[0].shape[0]):\n",
    "                for j in range(out[0].shape[1]):\n",
    "                    x = X[i:i+k_h, j:j+k_w]\n",
    "                    out[k,i,j] = np.dot(self.W[k].flatten(), x.flatten())\n",
    "        return out\n",
    "\n",
    "\n",
    "#\n",
    "class Pool:\n",
    "    def __init__(self, pool_size, strides, padding):\n",
    "        self.pool_size = pool_size\n",
    "        self.strides = strides\n",
    "        self.padding = padding\n",
    "    def f_prop(self, X):\n",
    "        k_h, k_w = self.pool_size\n",
    "        s_h, s_w = self.strides\n",
    "        p_h, p_w = self.padding\n",
    "        out = np.zeros(((X.shape[0]+p_h*2-k_h)//s_h+1, \n",
    "                        (X.shape[1]+p_w*2-k_w)//s_w+1))\n",
    "        X = np.pad(X, ((p_h,p_h),(p_w,p_w)), 'constant', \n",
    "                   constant_values=((0,0),(0,0)))\n",
    "        for i in range(out.shape[0]):\n",
    "            for j in range(out.shape[1]):\n",
    "                out[i,j] = np.max(X[i*s_h:i*s_h+k_h, j*s_w:j*s_w+k_w])\n",
    "        return out\n",
    "\n",
    "local_filename, headers = urllib.request.urlretrieve('https://aidemystorageprd.blob.core.windows.net/data/5100_cnn_data/circle.npy') \n",
    "X = np.load(local_filename)\n",
    "\n",
    "local_filename_w, headers = urllib.request.urlretrieve('https://aidemystorageprd.blob.core.windows.net/data/5100_cnn_data/weight.npy') \n",
    "W = np.load(local_filename_w)\n",
    "\n",
    "# 합성곱\n",
    "filters = 4\n",
    "kernel_size = (3,3)\n",
    "conv = Conv(W=W, filters=filters, kernel_size=kernel_size)\n",
    "C = conv.f_prop(X)\n",
    "\n",
    "# 풀링 1\n",
    "pool_size = (2,2)\n",
    "strides = (2,2)\n",
    "padding = (0,0)\n",
    "pool1 = Pool(pool_size=pool_size, strides=strides, padding=padding)\n",
    "P1 = [pool1.f_prop(C[i]) for i in range(len(C))]\n",
    "\n",
    "# 풀링 2\n",
    "pool_size = (2,2)\n",
    "strides = (2,2)\n",
    "padding = (1,1)\n",
    "pool2 = Pool(pool_size=pool_size, strides=strides, padding=padding)\n",
    "P2 = [pool2.f_prop(C[i]) for i in range(len(C))]\n",
    "\n",
    "#--\n",
    "plt.imshow(X)\n",
    "plt.title('The original image', fontsize=12)\n",
    "plt.show()\n",
    "\n",
    "#--\n",
    "plt.figure(figsize=(10,1))\n",
    "for i in range(filters):\n",
    "    plt.subplot(1, filters, i+1)\n",
    "    ax = plt.gca() # get current axis\n",
    "    ax.tick_params(labelbottom=\"off\", labelleft=\"off\", bottom=\"off\", left=\"off\") # 축을 삭제합니다\n",
    "    plt.imshow(C[i])\n",
    "plt.suptitle('Convolution result', fontsize=12)\n",
    "plt.show()\n",
    "\n",
    "#--\n",
    "plt.figure(figsize=(10,1))\n",
    "for i in range(filters):\n",
    "    plt.subplot(1, filters, i+1)\n",
    "    ax = plt.gca() # get current axis\n",
    "    ax.tick_params(labelbottom=\"off\", labelleft=\"off\", bottom=\"off\", left=\"off\") # 축을 삭제합니다\n",
    "    plt.imshow(P1[i])\n",
    "plt.suptitle('Pooling result', fontsize=12)\n",
    "plt.show()\n",
    "\n",
    "#--\n",
    "plt.figure(figsize=(10,1))\n",
    "for i in range(filters):\n",
    "    plt.subplot(1, filters, i+1)\n",
    "    ax = plt.gca() # get current axis\n",
    "    ax.tick_params(labelbottom=\"off\", labelleft=\"off\", bottom=\"off\", left=\"off\") # 축을 삭제합니다\n",
    "    plt.imshow(P2[i])\n",
    "plt.suptitle('Pooling result', fontsize=12)\n",
    "plt.show()"
   ]
  },
  {
   "cell_type": "markdown",
   "metadata": {},
   "source": [
    "### 연습 문제"
   ]
  },
  {
   "cell_type": "code",
   "execution_count": 34,
   "metadata": {},
   "outputs": [
    {
     "name": "stdout",
     "output_type": "stream",
     "text": [
      "Model: \"sequential_21\"\n",
      "_________________________________________________________________\n",
      "Layer (type)                 Output Shape              Param #   \n",
      "=================================================================\n",
      "conv2d_51 (Conv2D)           (None, 28, 28, 32)        160       \n",
      "_________________________________________________________________\n",
      "max_pooling2d_29 (MaxPooling (None, 27, 27, 32)        0         \n",
      "_________________________________________________________________\n",
      "conv2d_52 (Conv2D)           (None, 27, 27, 32)        4128      \n",
      "_________________________________________________________________\n",
      "max_pooling2d_30 (MaxPooling (None, 26, 26, 32)        0         \n",
      "_________________________________________________________________\n",
      "flatten_21 (Flatten)         (None, 21632)             0         \n",
      "_________________________________________________________________\n",
      "dense_44 (Dense)             (None, 256)               5538048   \n",
      "_________________________________________________________________\n",
      "activation_88 (Activation)   (None, 256)               0         \n",
      "_________________________________________________________________\n",
      "dense_45 (Dense)             (None, 128)               32896     \n",
      "_________________________________________________________________\n",
      "activation_89 (Activation)   (None, 128)               0         \n",
      "_________________________________________________________________\n",
      "dense_46 (Dense)             (None, 10)                1290      \n",
      "_________________________________________________________________\n",
      "activation_90 (Activation)   (None, 10)                0         \n",
      "=================================================================\n",
      "Total params: 5,576,522\n",
      "Trainable params: 5,576,522\n",
      "Non-trainable params: 0\n",
      "_________________________________________________________________\n"
     ]
    }
   ],
   "source": [
    "from keras.layers import Activation, Conv2D, Dense, Flatten, MaxPooling2D\n",
    "from keras.models import Sequential, load_model\n",
    "from keras.utils.np_utils import to_categorical\n",
    "\n",
    "#-- model instance\n",
    "model = Sequential()\n",
    "\n",
    "model.add(Conv2D(input_shape=(28, 28, 1), \n",
    "                 filters=32,\n",
    "                 kernel_size=(2, 2), \n",
    "                 strides=(1, 1), \n",
    "                 padding=\"same\"))\n",
    "model.add(MaxPooling2D(pool_size=(2, 2), \n",
    "                       strides=(1,1)))\n",
    "model.add(Conv2D(filters=32, \n",
    "                 kernel_size=(2, 2), \n",
    "                 strides=(1, 1), \n",
    "                 padding=\"same\"))\n",
    "model.add(MaxPooling2D(pool_size=(2, 2), \n",
    "                       strides=(1,1)))\n",
    "model.add(Flatten())\n",
    "model.add(Dense(256))\n",
    "\n",
    "\n",
    "#-- active function : sigmoid\n",
    "model.add(Activation('sigmoid'))\n",
    "model.add(Dense(128))\n",
    "\n",
    "#-- active function : sigmoid\n",
    "model.add(Activation('sigmoid'))\n",
    "model.add(Dense(10))\n",
    "\n",
    "#-- active function : softmax\n",
    "model.add(Activation('softmax'))\n",
    "\n",
    "\n",
    "#\n",
    "model.summary() "
   ]
  },
  {
   "cell_type": "code",
   "execution_count": null,
   "metadata": {},
   "outputs": [],
   "source": []
  }
 ],
 "metadata": {
  "kernelspec": {
   "display_name": "Python 3",
   "language": "python",
   "name": "python3"
  },
  "language_info": {
   "codemirror_mode": {
    "name": "ipython",
    "version": 3
   },
   "file_extension": ".py",
   "mimetype": "text/x-python",
   "name": "python",
   "nbconvert_exporter": "python",
   "pygments_lexer": "ipython3",
   "version": "3.6.10"
  }
 },
 "nbformat": 4,
 "nbformat_minor": 2
}
